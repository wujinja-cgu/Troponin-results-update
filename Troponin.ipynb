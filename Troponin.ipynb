{
 "cells": [
  {
   "cell_type": "code",
   "execution_count": 1,
   "metadata": {
    "scrolled": true
   },
   "outputs": [
    {
     "name": "stderr",
     "output_type": "stream",
     "text": [
      "Type 'citation(\"pROC\")' for a citation.\n",
      "\n",
      "\n",
      "Attaching package: 'pROC'\n",
      "\n",
      "\n",
      "The following objects are masked from 'package:stats':\n",
      "\n",
      "    cov, smooth, var\n",
      "\n",
      "\n",
      "Loading required package: lattice\n",
      "\n"
     ]
    },
    {
     "data": {
      "text/html": [
       "<style>\n",
       ".list-inline {list-style: none; margin:0; padding: 0}\n",
       ".list-inline>li {display: inline-block}\n",
       ".list-inline>li:not(:last-child)::after {content: \"\\00b7\"; padding: 0 .5ex}\n",
       "</style>\n",
       "<ol class=list-inline><li>'id'</li><li>'age'</li><li>'age_binary'</li><li>'gender'</li><li>'GFR'</li><li>'renal_dysfunction'</li><li>'admitted'</li><li>'admitted_cardiac'</li><li>'MI'</li><li>'cardiac_catheter'</li><li>'IPDAT_report'</li><li>'test_date'</li><li>'receipt_date'</li><li>'diff'</li><li>'diff_r'</li><li>'CGRD_T0'</li><li>'CGRD_T3'</li><li>'Roche_T0'</li><li>'Roche_T3'</li><li>'delta_Roche'</li><li>'delta_Roche_per'</li><li>'Beckman_T0'</li><li>'Beckman_T3'</li><li>'delta_Beckman'</li><li>'delta_Beckman_per'</li><li>'Abbott_T0'</li><li>'Abbott_T3'</li><li>'delta_Abbott'</li><li>'delta_Abbott_per'</li><li>'Creatinine_T0'</li><li>'Creatinine_T3'</li></ol>\n"
      ],
      "text/latex": [
       "\\begin{enumerate*}\n",
       "\\item 'id'\n",
       "\\item 'age'\n",
       "\\item 'age\\_binary'\n",
       "\\item 'gender'\n",
       "\\item 'GFR'\n",
       "\\item 'renal\\_dysfunction'\n",
       "\\item 'admitted'\n",
       "\\item 'admitted\\_cardiac'\n",
       "\\item 'MI'\n",
       "\\item 'cardiac\\_catheter'\n",
       "\\item 'IPDAT\\_report'\n",
       "\\item 'test\\_date'\n",
       "\\item 'receipt\\_date'\n",
       "\\item 'diff'\n",
       "\\item 'diff\\_r'\n",
       "\\item 'CGRD\\_T0'\n",
       "\\item 'CGRD\\_T3'\n",
       "\\item 'Roche\\_T0'\n",
       "\\item 'Roche\\_T3'\n",
       "\\item 'delta\\_Roche'\n",
       "\\item 'delta\\_Roche\\_per'\n",
       "\\item 'Beckman\\_T0'\n",
       "\\item 'Beckman\\_T3'\n",
       "\\item 'delta\\_Beckman'\n",
       "\\item 'delta\\_Beckman\\_per'\n",
       "\\item 'Abbott\\_T0'\n",
       "\\item 'Abbott\\_T3'\n",
       "\\item 'delta\\_Abbott'\n",
       "\\item 'delta\\_Abbott\\_per'\n",
       "\\item 'Creatinine\\_T0'\n",
       "\\item 'Creatinine\\_T3'\n",
       "\\end{enumerate*}\n"
      ],
      "text/markdown": [
       "1. 'id'\n",
       "2. 'age'\n",
       "3. 'age_binary'\n",
       "4. 'gender'\n",
       "5. 'GFR'\n",
       "6. 'renal_dysfunction'\n",
       "7. 'admitted'\n",
       "8. 'admitted_cardiac'\n",
       "9. 'MI'\n",
       "10. 'cardiac_catheter'\n",
       "11. 'IPDAT_report'\n",
       "12. 'test_date'\n",
       "13. 'receipt_date'\n",
       "14. 'diff'\n",
       "15. 'diff_r'\n",
       "16. 'CGRD_T0'\n",
       "17. 'CGRD_T3'\n",
       "18. 'Roche_T0'\n",
       "19. 'Roche_T3'\n",
       "20. 'delta_Roche'\n",
       "21. 'delta_Roche_per'\n",
       "22. 'Beckman_T0'\n",
       "23. 'Beckman_T3'\n",
       "24. 'delta_Beckman'\n",
       "25. 'delta_Beckman_per'\n",
       "26. 'Abbott_T0'\n",
       "27. 'Abbott_T3'\n",
       "28. 'delta_Abbott'\n",
       "29. 'delta_Abbott_per'\n",
       "30. 'Creatinine_T0'\n",
       "31. 'Creatinine_T3'\n",
       "\n",
       "\n"
      ],
      "text/plain": [
       " [1] \"id\"                \"age\"               \"age_binary\"       \n",
       " [4] \"gender\"            \"GFR\"               \"renal_dysfunction\"\n",
       " [7] \"admitted\"          \"admitted_cardiac\"  \"MI\"               \n",
       "[10] \"cardiac_catheter\"  \"IPDAT_report\"      \"test_date\"        \n",
       "[13] \"receipt_date\"      \"diff\"              \"diff_r\"           \n",
       "[16] \"CGRD_T0\"           \"CGRD_T3\"           \"Roche_T0\"         \n",
       "[19] \"Roche_T3\"          \"delta_Roche\"       \"delta_Roche_per\"  \n",
       "[22] \"Beckman_T0\"        \"Beckman_T3\"        \"delta_Beckman\"    \n",
       "[25] \"delta_Beckman_per\" \"Abbott_T0\"         \"Abbott_T3\"        \n",
       "[28] \"delta_Abbott\"      \"delta_Abbott_per\"  \"Creatinine_T0\"    \n",
       "[31] \"Creatinine_T3\"    "
      ]
     },
     "metadata": {},
     "output_type": "display_data"
    }
   ],
   "source": [
    "library(pROC)\n",
    "library(ggplot2)\n",
    "library(caret)\n",
    "theme_set(theme_minimal())\n",
    "mydata=read.csv(\"Troponin.csv\")\n",
    "names(mydata)"
   ]
  },
  {
   "cell_type": "code",
   "execution_count": 2,
   "metadata": {
    "scrolled": true
   },
   "outputs": [
    {
     "data": {
      "text/html": [
       "<table class=\"dataframe\">\n",
       "<caption>A data.frame: 6 × 31</caption>\n",
       "<thead>\n",
       "\t<tr><th></th><th scope=col>id</th><th scope=col>age</th><th scope=col>age_binary</th><th scope=col>gender</th><th scope=col>GFR</th><th scope=col>renal_dysfunction</th><th scope=col>admitted</th><th scope=col>admitted_cardiac</th><th scope=col>MI</th><th scope=col>cardiac_catheter</th><th scope=col>⋯</th><th scope=col>Beckman_T0</th><th scope=col>Beckman_T3</th><th scope=col>delta_Beckman</th><th scope=col>delta_Beckman_per</th><th scope=col>Abbott_T0</th><th scope=col>Abbott_T3</th><th scope=col>delta_Abbott</th><th scope=col>delta_Abbott_per</th><th scope=col>Creatinine_T0</th><th scope=col>Creatinine_T3</th></tr>\n",
       "\t<tr><th></th><th scope=col>&lt;chr&gt;</th><th scope=col>&lt;int&gt;</th><th scope=col>&lt;int&gt;</th><th scope=col>&lt;int&gt;</th><th scope=col>&lt;dbl&gt;</th><th scope=col>&lt;int&gt;</th><th scope=col>&lt;int&gt;</th><th scope=col>&lt;int&gt;</th><th scope=col>&lt;int&gt;</th><th scope=col>&lt;int&gt;</th><th scope=col>⋯</th><th scope=col>&lt;dbl&gt;</th><th scope=col>&lt;int&gt;</th><th scope=col>&lt;int&gt;</th><th scope=col>&lt;int&gt;</th><th scope=col>&lt;dbl&gt;</th><th scope=col>&lt;int&gt;</th><th scope=col>&lt;int&gt;</th><th scope=col>&lt;int&gt;</th><th scope=col>&lt;int&gt;</th><th scope=col>&lt;int&gt;</th></tr>\n",
       "</thead>\n",
       "<tbody>\n",
       "\t<tr><th scope=row>1</th><td>10199119</td><td>62</td><td>0</td><td>0</td><td>107.71</td><td>0</td><td>0</td><td>0</td><td>0</td><td>0</td><td>⋯</td><td> 6.38</td><td> 8</td><td>1</td><td>21</td><td> 4.5</td><td> 9</td><td>4</td><td>93</td><td> 1</td><td> 1</td></tr>\n",
       "\t<tr><th scope=row>2</th><td>1044197 </td><td>87</td><td>1</td><td>0</td><td> 50.51</td><td>1</td><td>0</td><td>0</td><td>0</td><td>0</td><td>⋯</td><td> 3.65</td><td> 4</td><td>1</td><td>18</td><td> 4.4</td><td> 5</td><td>1</td><td>11</td><td> 1</td><td> 1</td></tr>\n",
       "\t<tr><th scope=row>3</th><td>10588102</td><td>26</td><td>0</td><td>0</td><td>131.41</td><td>0</td><td>0</td><td>0</td><td>0</td><td>0</td><td>⋯</td><td> 0.85</td><td> 0</td><td>1</td><td>62</td><td> 2.3</td><td> 2</td><td>0</td><td>13</td><td> 1</td><td> 1</td></tr>\n",
       "\t<tr><th scope=row>4</th><td>1073023 </td><td>62</td><td>0</td><td>1</td><td> 21.43</td><td>1</td><td>0</td><td>0</td><td>0</td><td>0</td><td>⋯</td><td>25.59</td><td>32</td><td>6</td><td>25</td><td>13.0</td><td>16</td><td>3</td><td>21</td><td> 3</td><td> 3</td></tr>\n",
       "\t<tr><th scope=row>5</th><td>1098123 </td><td>71</td><td>1</td><td>1</td><td> 59.37</td><td>1</td><td>0</td><td>0</td><td>0</td><td>0</td><td>⋯</td><td> 3.61</td><td> 4</td><td>1</td><td>16</td><td> 2.7</td><td> 3</td><td>1</td><td>19</td><td> 1</td><td> 1</td></tr>\n",
       "\t<tr><th scope=row>6</th><td>1107763 </td><td>60</td><td>0</td><td>0</td><td>  2.44</td><td>1</td><td>0</td><td>0</td><td>0</td><td>0</td><td>⋯</td><td>14.43</td><td>23</td><td>9</td><td>62</td><td>17.4</td><td>26</td><td>9</td><td>51</td><td>16</td><td>16</td></tr>\n",
       "</tbody>\n",
       "</table>\n"
      ],
      "text/latex": [
       "A data.frame: 6 × 31\n",
       "\\begin{tabular}{r|lllllllllllllllllllll}\n",
       "  & id & age & age\\_binary & gender & GFR & renal\\_dysfunction & admitted & admitted\\_cardiac & MI & cardiac\\_catheter & ⋯ & Beckman\\_T0 & Beckman\\_T3 & delta\\_Beckman & delta\\_Beckman\\_per & Abbott\\_T0 & Abbott\\_T3 & delta\\_Abbott & delta\\_Abbott\\_per & Creatinine\\_T0 & Creatinine\\_T3\\\\\n",
       "  & <chr> & <int> & <int> & <int> & <dbl> & <int> & <int> & <int> & <int> & <int> & ⋯ & <dbl> & <int> & <int> & <int> & <dbl> & <int> & <int> & <int> & <int> & <int>\\\\\n",
       "\\hline\n",
       "\t1 & 10199119 & 62 & 0 & 0 & 107.71 & 0 & 0 & 0 & 0 & 0 & ⋯ &  6.38 &  8 & 1 & 21 &  4.5 &  9 & 4 & 93 &  1 &  1\\\\\n",
       "\t2 & 1044197  & 87 & 1 & 0 &  50.51 & 1 & 0 & 0 & 0 & 0 & ⋯ &  3.65 &  4 & 1 & 18 &  4.4 &  5 & 1 & 11 &  1 &  1\\\\\n",
       "\t3 & 10588102 & 26 & 0 & 0 & 131.41 & 0 & 0 & 0 & 0 & 0 & ⋯ &  0.85 &  0 & 1 & 62 &  2.3 &  2 & 0 & 13 &  1 &  1\\\\\n",
       "\t4 & 1073023  & 62 & 0 & 1 &  21.43 & 1 & 0 & 0 & 0 & 0 & ⋯ & 25.59 & 32 & 6 & 25 & 13.0 & 16 & 3 & 21 &  3 &  3\\\\\n",
       "\t5 & 1098123  & 71 & 1 & 1 &  59.37 & 1 & 0 & 0 & 0 & 0 & ⋯ &  3.61 &  4 & 1 & 16 &  2.7 &  3 & 1 & 19 &  1 &  1\\\\\n",
       "\t6 & 1107763  & 60 & 0 & 0 &   2.44 & 1 & 0 & 0 & 0 & 0 & ⋯ & 14.43 & 23 & 9 & 62 & 17.4 & 26 & 9 & 51 & 16 & 16\\\\\n",
       "\\end{tabular}\n"
      ],
      "text/markdown": [
       "\n",
       "A data.frame: 6 × 31\n",
       "\n",
       "| <!--/--> | id &lt;chr&gt; | age &lt;int&gt; | age_binary &lt;int&gt; | gender &lt;int&gt; | GFR &lt;dbl&gt; | renal_dysfunction &lt;int&gt; | admitted &lt;int&gt; | admitted_cardiac &lt;int&gt; | MI &lt;int&gt; | cardiac_catheter &lt;int&gt; | ⋯ ⋯ | Beckman_T0 &lt;dbl&gt; | Beckman_T3 &lt;int&gt; | delta_Beckman &lt;int&gt; | delta_Beckman_per &lt;int&gt; | Abbott_T0 &lt;dbl&gt; | Abbott_T3 &lt;int&gt; | delta_Abbott &lt;int&gt; | delta_Abbott_per &lt;int&gt; | Creatinine_T0 &lt;int&gt; | Creatinine_T3 &lt;int&gt; |\n",
       "|---|---|---|---|---|---|---|---|---|---|---|---|---|---|---|---|---|---|---|---|---|---|\n",
       "| 1 | 10199119 | 62 | 0 | 0 | 107.71 | 0 | 0 | 0 | 0 | 0 | ⋯ |  6.38 |  8 | 1 | 21 |  4.5 |  9 | 4 | 93 |  1 |  1 |\n",
       "| 2 | 1044197  | 87 | 1 | 0 |  50.51 | 1 | 0 | 0 | 0 | 0 | ⋯ |  3.65 |  4 | 1 | 18 |  4.4 |  5 | 1 | 11 |  1 |  1 |\n",
       "| 3 | 10588102 | 26 | 0 | 0 | 131.41 | 0 | 0 | 0 | 0 | 0 | ⋯ |  0.85 |  0 | 1 | 62 |  2.3 |  2 | 0 | 13 |  1 |  1 |\n",
       "| 4 | 1073023  | 62 | 0 | 1 |  21.43 | 1 | 0 | 0 | 0 | 0 | ⋯ | 25.59 | 32 | 6 | 25 | 13.0 | 16 | 3 | 21 |  3 |  3 |\n",
       "| 5 | 1098123  | 71 | 1 | 1 |  59.37 | 1 | 0 | 0 | 0 | 0 | ⋯ |  3.61 |  4 | 1 | 16 |  2.7 |  3 | 1 | 19 |  1 |  1 |\n",
       "| 6 | 1107763  | 60 | 0 | 0 |   2.44 | 1 | 0 | 0 | 0 | 0 | ⋯ | 14.43 | 23 | 9 | 62 | 17.4 | 26 | 9 | 51 | 16 | 16 |\n",
       "\n"
      ],
      "text/plain": [
       "  id       age age_binary gender GFR    renal_dysfunction admitted\n",
       "1 10199119 62  0          0      107.71 0                 0       \n",
       "2 1044197  87  1          0       50.51 1                 0       \n",
       "3 10588102 26  0          0      131.41 0                 0       \n",
       "4 1073023  62  0          1       21.43 1                 0       \n",
       "5 1098123  71  1          1       59.37 1                 0       \n",
       "6 1107763  60  0          0        2.44 1                 0       \n",
       "  admitted_cardiac MI cardiac_catheter ⋯ Beckman_T0 Beckman_T3 delta_Beckman\n",
       "1 0                0  0                ⋯  6.38       8         1            \n",
       "2 0                0  0                ⋯  3.65       4         1            \n",
       "3 0                0  0                ⋯  0.85       0         1            \n",
       "4 0                0  0                ⋯ 25.59      32         6            \n",
       "5 0                0  0                ⋯  3.61       4         1            \n",
       "6 0                0  0                ⋯ 14.43      23         9            \n",
       "  delta_Beckman_per Abbott_T0 Abbott_T3 delta_Abbott delta_Abbott_per\n",
       "1 21                 4.5       9        4            93              \n",
       "2 18                 4.4       5        1            11              \n",
       "3 62                 2.3       2        0            13              \n",
       "4 25                13.0      16        3            21              \n",
       "5 16                 2.7       3        1            19              \n",
       "6 62                17.4      26        9            51              \n",
       "  Creatinine_T0 Creatinine_T3\n",
       "1  1             1           \n",
       "2  1             1           \n",
       "3  1             1           \n",
       "4  3             3           \n",
       "5  1             1           \n",
       "6 16            16           "
      ]
     },
     "metadata": {},
     "output_type": "display_data"
    }
   ],
   "source": [
    "mydata=as.data.frame(mydata)\n",
    "head(mydata)"
   ]
  },
  {
   "cell_type": "markdown",
   "metadata": {},
   "source": [
    "## Roche: Overall"
   ]
  },
  {
   "cell_type": "code",
   "execution_count": 3,
   "metadata": {},
   "outputs": [],
   "source": [
    "mydata_Roche=mydata[,c('id',\n",
    "                       'age',\n",
    "                       'age_binary',\n",
    "                       'gender',\n",
    "                       'GFR',\n",
    "                       'renal_dysfunction',\n",
    "                       'admitted',\n",
    "                       'admitted_cardiac',\n",
    "                       'MI',\n",
    "                       'cardiac_catheter',\n",
    "                       'IPDAT_report',\n",
    "                       'test_date',\n",
    "                       'receipt_date',\n",
    "                       'diff',\n",
    "                       'diff_r',\n",
    "                       'CGRD_T0',\n",
    "                       'CGRD_T3',\n",
    "                       'Roche_T0',\n",
    "                       'Roche_T3',\n",
    "                       'delta_Roche',\n",
    "                       'delta_Roche_per')]"
   ]
  },
  {
   "cell_type": "code",
   "execution_count": 4,
   "metadata": {},
   "outputs": [],
   "source": [
    "mydata_Roche$Roche_T0bellow99th=ifelse(mydata_Roche$Roche_T0<=14,1,0)\n",
    "mydata_Roche$Roche_T0bellow5X99th=ifelse(mydata_Roche$Roche_T0<=14*5,1,0)\n",
    "mydata_Roche$Roche_T3bellow99th=ifelse(mydata_Roche$Roche_T3<=14,1,0)\n",
    "mydata_Roche$Roche_delta_perbellow20=ifelse(mydata_Roche$delta_Roche_per<=20,1,0)"
   ]
  },
  {
   "cell_type": "code",
   "execution_count": 5,
   "metadata": {},
   "outputs": [
    {
     "data": {
      "text/plain": [
       "          \n",
       "            0  1\n",
       "  Observe  38  0\n",
       "  Rule_in  50 11\n",
       "  Rule_out 28  0"
      ]
     },
     "metadata": {},
     "output_type": "display_data"
    },
    {
     "data": {
      "text/html": [
       "0.0866141732283465"
      ],
      "text/latex": [
       "0.0866141732283465"
      ],
      "text/markdown": [
       "0.0866141732283465"
      ],
      "text/plain": [
       "[1] 0.08661417"
      ]
     },
     "metadata": {},
     "output_type": "display_data"
    }
   ],
   "source": [
    "mydata_Roche$Roche_pred=array(0,nrow(mydata_Roche))\n",
    "for(i in 1:nrow(mydata_Roche)){\n",
    "  mydata_Roche$Roche_pred[i]=if(mydata_Roche$Roche_T0bellow99th[i]==1 && mydata_Roche$Roche_T3bellow99th[i]==1){\n",
    "    \"Rule_out\" \n",
    " } else if(mydata_Roche$Roche_T0bellow99th[i]==1 && mydata_Roche$Roche_T3bellow99th[i]==0 && mydata_Roche$delta_Roche_per[i]<=50){\n",
    "    \"Observe\"\n",
    " } else if(mydata_Roche$Roche_T0bellow99th[i]==1 && mydata_Roche$Roche_T3bellow99th[i]==0 && mydata_Roche$delta_Roche_per[i]>50){\n",
    "    \"Rule_in\"\n",
    " } else if(mydata_Roche$Roche_T0bellow99th[i]==0 && mydata_Roche$Roche_T0bellow5X99th[i]==0){\n",
    "    \"Rule_in\"\n",
    " } else if(mydata_Roche$Roche_T0bellow99th[i]==0 && mydata_Roche$Roche_T0bellow5X99th[i]==1 && mydata_Roche$Roche_T3bellow99th[i]==1){\n",
    "    \"Rule_out\"\n",
    " } else if(mydata_Roche$Roche_T0bellow99th[i]==0 && mydata_Roche$Roche_T0bellow5X99th[i]==1 && mydata_Roche$Roche_T3bellow99th[i]==0 && mydata_Roche$Roche_delta_perbellow20[i]==1){\n",
    "    \"Observe\"\n",
    " } else {\n",
    "    \"Rule_in\"\n",
    " }\n",
    "      }\n",
    "\n",
    "table(mydata_Roche$Roche_pred,mydata_Roche$MI)\n",
    "prevalence_Roche=sum(mydata_Roche$MI)/nrow(mydata_Roche)\n",
    "prevalence_Roche"
   ]
  },
  {
   "cell_type": "markdown",
   "metadata": {},
   "source": [
    "## Roche: Age>70"
   ]
  },
  {
   "cell_type": "code",
   "execution_count": 6,
   "metadata": {},
   "outputs": [
    {
     "data": {
      "text/html": [
       "<table class=\"dataframe\">\n",
       "<caption>A data.frame: 6 × 26</caption>\n",
       "<thead>\n",
       "\t<tr><th></th><th scope=col>id</th><th scope=col>age</th><th scope=col>age_binary</th><th scope=col>gender</th><th scope=col>GFR</th><th scope=col>renal_dysfunction</th><th scope=col>admitted</th><th scope=col>admitted_cardiac</th><th scope=col>MI</th><th scope=col>cardiac_catheter</th><th scope=col>⋯</th><th scope=col>CGRD_T3</th><th scope=col>Roche_T0</th><th scope=col>Roche_T3</th><th scope=col>delta_Roche</th><th scope=col>delta_Roche_per</th><th scope=col>Roche_T0bellow99th</th><th scope=col>Roche_T0bellow5X99th</th><th scope=col>Roche_T3bellow99th</th><th scope=col>Roche_delta_perbellow20</th><th scope=col>Roche_pred</th></tr>\n",
       "\t<tr><th></th><th scope=col>&lt;chr&gt;</th><th scope=col>&lt;int&gt;</th><th scope=col>&lt;int&gt;</th><th scope=col>&lt;int&gt;</th><th scope=col>&lt;dbl&gt;</th><th scope=col>&lt;int&gt;</th><th scope=col>&lt;int&gt;</th><th scope=col>&lt;int&gt;</th><th scope=col>&lt;int&gt;</th><th scope=col>&lt;int&gt;</th><th scope=col>⋯</th><th scope=col>&lt;int&gt;</th><th scope=col>&lt;dbl&gt;</th><th scope=col>&lt;int&gt;</th><th scope=col>&lt;int&gt;</th><th scope=col>&lt;int&gt;</th><th scope=col>&lt;dbl&gt;</th><th scope=col>&lt;dbl&gt;</th><th scope=col>&lt;dbl&gt;</th><th scope=col>&lt;dbl&gt;</th><th scope=col>&lt;chr&gt;</th></tr>\n",
       "</thead>\n",
       "<tbody>\n",
       "\t<tr><th scope=row>2</th><td>1044197</td><td>87</td><td>1</td><td>0</td><td> 50.51</td><td>1</td><td>0</td><td>0</td><td>0</td><td>0</td><td>⋯</td><td> 26</td><td> 25.90</td><td> 25</td><td>1</td><td> 2</td><td>0</td><td>1</td><td>0</td><td>1</td><td>Observe </td></tr>\n",
       "\t<tr><th scope=row>5</th><td>1098123</td><td>71</td><td>1</td><td>1</td><td> 59.37</td><td>1</td><td>0</td><td>0</td><td>0</td><td>0</td><td>⋯</td><td> 12</td><td>  9.58</td><td> 12</td><td>2</td><td>21</td><td>1</td><td>1</td><td>1</td><td>0</td><td>Rule_out</td></tr>\n",
       "\t<tr><th scope=row>7</th><td>147950 </td><td>86</td><td>1</td><td>1</td><td>  8.83</td><td>1</td><td>1</td><td>0</td><td>0</td><td>0</td><td>⋯</td><td>204</td><td>218.00</td><td>217</td><td>1</td><td> 0</td><td>0</td><td>0</td><td>0</td><td>1</td><td>Rule_in </td></tr>\n",
       "\t<tr><th scope=row>8</th><td>150547 </td><td>78</td><td>1</td><td>0</td><td> 11.35</td><td>1</td><td>1</td><td>0</td><td>0</td><td>0</td><td>⋯</td><td> 79</td><td> 79.80</td><td> 82</td><td>2</td><td> 3</td><td>0</td><td>0</td><td>0</td><td>1</td><td>Rule_in </td></tr>\n",
       "\t<tr><th scope=row>12</th><td>2030944</td><td>79</td><td>1</td><td>1</td><td> 50.33</td><td>1</td><td>0</td><td>0</td><td>0</td><td>0</td><td>⋯</td><td> 64</td><td> 68.70</td><td> 64</td><td>5</td><td> 7</td><td>0</td><td>1</td><td>0</td><td>1</td><td>Observe </td></tr>\n",
       "\t<tr><th scope=row>14</th><td>2396492</td><td>72</td><td>1</td><td>0</td><td>100.43</td><td>0</td><td>0</td><td>0</td><td>0</td><td>0</td><td>⋯</td><td> 10</td><td> 11.10</td><td> 10</td><td>1</td><td>10</td><td>1</td><td>1</td><td>1</td><td>1</td><td>Rule_out</td></tr>\n",
       "</tbody>\n",
       "</table>\n"
      ],
      "text/latex": [
       "A data.frame: 6 × 26\n",
       "\\begin{tabular}{r|lllllllllllllllllllll}\n",
       "  & id & age & age\\_binary & gender & GFR & renal\\_dysfunction & admitted & admitted\\_cardiac & MI & cardiac\\_catheter & ⋯ & CGRD\\_T3 & Roche\\_T0 & Roche\\_T3 & delta\\_Roche & delta\\_Roche\\_per & Roche\\_T0bellow99th & Roche\\_T0bellow5X99th & Roche\\_T3bellow99th & Roche\\_delta\\_perbellow20 & Roche\\_pred\\\\\n",
       "  & <chr> & <int> & <int> & <int> & <dbl> & <int> & <int> & <int> & <int> & <int> & ⋯ & <int> & <dbl> & <int> & <int> & <int> & <dbl> & <dbl> & <dbl> & <dbl> & <chr>\\\\\n",
       "\\hline\n",
       "\t2 & 1044197 & 87 & 1 & 0 &  50.51 & 1 & 0 & 0 & 0 & 0 & ⋯ &  26 &  25.90 &  25 & 1 &  2 & 0 & 1 & 0 & 1 & Observe \\\\\n",
       "\t5 & 1098123 & 71 & 1 & 1 &  59.37 & 1 & 0 & 0 & 0 & 0 & ⋯ &  12 &   9.58 &  12 & 2 & 21 & 1 & 1 & 1 & 0 & Rule\\_out\\\\\n",
       "\t7 & 147950  & 86 & 1 & 1 &   8.83 & 1 & 1 & 0 & 0 & 0 & ⋯ & 204 & 218.00 & 217 & 1 &  0 & 0 & 0 & 0 & 1 & Rule\\_in \\\\\n",
       "\t8 & 150547  & 78 & 1 & 0 &  11.35 & 1 & 1 & 0 & 0 & 0 & ⋯ &  79 &  79.80 &  82 & 2 &  3 & 0 & 0 & 0 & 1 & Rule\\_in \\\\\n",
       "\t12 & 2030944 & 79 & 1 & 1 &  50.33 & 1 & 0 & 0 & 0 & 0 & ⋯ &  64 &  68.70 &  64 & 5 &  7 & 0 & 1 & 0 & 1 & Observe \\\\\n",
       "\t14 & 2396492 & 72 & 1 & 0 & 100.43 & 0 & 0 & 0 & 0 & 0 & ⋯ &  10 &  11.10 &  10 & 1 & 10 & 1 & 1 & 1 & 1 & Rule\\_out\\\\\n",
       "\\end{tabular}\n"
      ],
      "text/markdown": [
       "\n",
       "A data.frame: 6 × 26\n",
       "\n",
       "| <!--/--> | id &lt;chr&gt; | age &lt;int&gt; | age_binary &lt;int&gt; | gender &lt;int&gt; | GFR &lt;dbl&gt; | renal_dysfunction &lt;int&gt; | admitted &lt;int&gt; | admitted_cardiac &lt;int&gt; | MI &lt;int&gt; | cardiac_catheter &lt;int&gt; | ⋯ ⋯ | CGRD_T3 &lt;int&gt; | Roche_T0 &lt;dbl&gt; | Roche_T3 &lt;int&gt; | delta_Roche &lt;int&gt; | delta_Roche_per &lt;int&gt; | Roche_T0bellow99th &lt;dbl&gt; | Roche_T0bellow5X99th &lt;dbl&gt; | Roche_T3bellow99th &lt;dbl&gt; | Roche_delta_perbellow20 &lt;dbl&gt; | Roche_pred &lt;chr&gt; |\n",
       "|---|---|---|---|---|---|---|---|---|---|---|---|---|---|---|---|---|---|---|---|---|---|\n",
       "| 2 | 1044197 | 87 | 1 | 0 |  50.51 | 1 | 0 | 0 | 0 | 0 | ⋯ |  26 |  25.90 |  25 | 1 |  2 | 0 | 1 | 0 | 1 | Observe  |\n",
       "| 5 | 1098123 | 71 | 1 | 1 |  59.37 | 1 | 0 | 0 | 0 | 0 | ⋯ |  12 |   9.58 |  12 | 2 | 21 | 1 | 1 | 1 | 0 | Rule_out |\n",
       "| 7 | 147950  | 86 | 1 | 1 |   8.83 | 1 | 1 | 0 | 0 | 0 | ⋯ | 204 | 218.00 | 217 | 1 |  0 | 0 | 0 | 0 | 1 | Rule_in  |\n",
       "| 8 | 150547  | 78 | 1 | 0 |  11.35 | 1 | 1 | 0 | 0 | 0 | ⋯ |  79 |  79.80 |  82 | 2 |  3 | 0 | 0 | 0 | 1 | Rule_in  |\n",
       "| 12 | 2030944 | 79 | 1 | 1 |  50.33 | 1 | 0 | 0 | 0 | 0 | ⋯ |  64 |  68.70 |  64 | 5 |  7 | 0 | 1 | 0 | 1 | Observe  |\n",
       "| 14 | 2396492 | 72 | 1 | 0 | 100.43 | 0 | 0 | 0 | 0 | 0 | ⋯ |  10 |  11.10 |  10 | 1 | 10 | 1 | 1 | 1 | 1 | Rule_out |\n",
       "\n"
      ],
      "text/plain": [
       "   id      age age_binary gender GFR    renal_dysfunction admitted\n",
       "2  1044197 87  1          0       50.51 1                 0       \n",
       "5  1098123 71  1          1       59.37 1                 0       \n",
       "7  147950  86  1          1        8.83 1                 1       \n",
       "8  150547  78  1          0       11.35 1                 1       \n",
       "12 2030944 79  1          1       50.33 1                 0       \n",
       "14 2396492 72  1          0      100.43 0                 0       \n",
       "   admitted_cardiac MI cardiac_catheter ⋯ CGRD_T3 Roche_T0 Roche_T3 delta_Roche\n",
       "2  0                0  0                ⋯  26      25.90    25      1          \n",
       "5  0                0  0                ⋯  12       9.58    12      2          \n",
       "7  0                0  0                ⋯ 204     218.00   217      1          \n",
       "8  0                0  0                ⋯  79      79.80    82      2          \n",
       "12 0                0  0                ⋯  64      68.70    64      5          \n",
       "14 0                0  0                ⋯  10      11.10    10      1          \n",
       "   delta_Roche_per Roche_T0bellow99th Roche_T0bellow5X99th Roche_T3bellow99th\n",
       "2   2              0                  1                    0                 \n",
       "5  21              1                  1                    1                 \n",
       "7   0              0                  0                    0                 \n",
       "8   3              0                  0                    0                 \n",
       "12  7              0                  1                    0                 \n",
       "14 10              1                  1                    1                 \n",
       "   Roche_delta_perbellow20 Roche_pred\n",
       "2  1                       Observe   \n",
       "5  0                       Rule_out  \n",
       "7  1                       Rule_in   \n",
       "8  1                       Rule_in   \n",
       "12 1                       Observe   \n",
       "14 1                       Rule_out  "
      ]
     },
     "metadata": {},
     "output_type": "display_data"
    }
   ],
   "source": [
    "mydata_Roche_old=mydata_Roche[which(mydata_Roche$age_binary==1),]\n",
    "head(mydata_Roche_old)"
   ]
  },
  {
   "cell_type": "code",
   "execution_count": 7,
   "metadata": {},
   "outputs": [],
   "source": [
    "mydata_Roche_old$Roche_T0bellow99th=ifelse(mydata_Roche_old$Roche_T0<=54,1,0)\n",
    "mydata_Roche_old$Roche_T0bellow5X99th=ifelse(mydata_Roche_old$Roche_T0<=54*5,1,0)\n",
    "mydata_Roche_old$Roche_T3bellow99th=ifelse(mydata_Roche_old$Roche_T3<=54,1,0)\n",
    "mydata_Roche_old$Roche_delta_perbellow20=ifelse(mydata_Roche_old$delta_Roche_per<=20,1,0)"
   ]
  },
  {
   "cell_type": "code",
   "execution_count": 8,
   "metadata": {},
   "outputs": [
    {
     "data": {
      "text/plain": [
       "          \n",
       "            0  1\n",
       "  Observe  22  0\n",
       "  Rule_in  10  3\n",
       "  Rule_out 34  0"
      ]
     },
     "metadata": {},
     "output_type": "display_data"
    },
    {
     "data": {
      "text/html": [
       "0.0434782608695652"
      ],
      "text/latex": [
       "0.0434782608695652"
      ],
      "text/markdown": [
       "0.0434782608695652"
      ],
      "text/plain": [
       "[1] 0.04347826"
      ]
     },
     "metadata": {},
     "output_type": "display_data"
    }
   ],
   "source": [
    "mydata_Roche_old$Roche_pred=array(0,nrow(mydata_Roche_old))\n",
    "for(i in 1:nrow(mydata_Roche_old)){\n",
    "  mydata_Roche_old$Roche_pred[i]=if(mydata_Roche_old$Roche_T0bellow99th[i]==1 && mydata_Roche_old$Roche_T3bellow99th[i]==1){\n",
    "    \"Rule_out\" \n",
    " } else if(mydata_Roche_old$Roche_T0bellow99th[i]==1 && mydata_Roche_old$Roche_T3bellow99th[i]==0 && mydata_Roche_old$delta_Roche_per[i]<=50){\n",
    "    \"Observe\"\n",
    " } else if(mydata_Roche_old$Roche_T0bellow99th[i]==1 && mydata_Roche_old$Roche_T3bellow99th[i]==0 && mydata_Roche_old$delta_Roche_per[i]>50){\n",
    "    \"Rule_in\"\n",
    " } else if(mydata_Roche_old$Roche_T0bellow99th[i]==0 && mydata_Roche_old$Roche_T0bellow5X99th[i]==0){\n",
    "    \"Rule_in\"\n",
    " } else if(mydata_Roche_old$Roche_T0bellow99th[i]==0 && mydata_Roche_old$Roche_T0bellow5X99th[i]==1 && mydata_Roche_old$Roche_T3bellow99th[i]==1){\n",
    "    \"Rule_out\"\n",
    " } else if(mydata_Roche_old$Roche_T0bellow99th[i]==0 && mydata_Roche_old$Roche_T0bellow5X99th[i]==1 && mydata_Roche_old$Roche_T3bellow99th[i]==0 && mydata_Roche_old$Roche_delta_perbellow20[i]==1){\n",
    "    \"Observe\"\n",
    " } else {\n",
    "    \"Rule_in\"\n",
    " }\n",
    "      }\n",
    "      \n",
    "table(mydata_Roche_old$Roche_pred,mydata_Roche_old$MI)\n",
    "prevalence_Roche_old=sum(mydata_Roche_old$MI)/nrow(mydata_Roche_old)\n",
    "prevalence_Roche_old"
   ]
  },
  {
   "cell_type": "markdown",
   "metadata": {},
   "source": [
    "## Roche: Gender (Male)"
   ]
  },
  {
   "cell_type": "code",
   "execution_count": 9,
   "metadata": {},
   "outputs": [
    {
     "data": {
      "text/html": [
       "<table class=\"dataframe\">\n",
       "<caption>A data.frame: 6 × 26</caption>\n",
       "<thead>\n",
       "\t<tr><th></th><th scope=col>id</th><th scope=col>age</th><th scope=col>age_binary</th><th scope=col>gender</th><th scope=col>GFR</th><th scope=col>renal_dysfunction</th><th scope=col>admitted</th><th scope=col>admitted_cardiac</th><th scope=col>MI</th><th scope=col>cardiac_catheter</th><th scope=col>⋯</th><th scope=col>CGRD_T3</th><th scope=col>Roche_T0</th><th scope=col>Roche_T3</th><th scope=col>delta_Roche</th><th scope=col>delta_Roche_per</th><th scope=col>Roche_T0bellow99th</th><th scope=col>Roche_T0bellow5X99th</th><th scope=col>Roche_T3bellow99th</th><th scope=col>Roche_delta_perbellow20</th><th scope=col>Roche_pred</th></tr>\n",
       "\t<tr><th></th><th scope=col>&lt;chr&gt;</th><th scope=col>&lt;int&gt;</th><th scope=col>&lt;int&gt;</th><th scope=col>&lt;int&gt;</th><th scope=col>&lt;dbl&gt;</th><th scope=col>&lt;int&gt;</th><th scope=col>&lt;int&gt;</th><th scope=col>&lt;int&gt;</th><th scope=col>&lt;int&gt;</th><th scope=col>&lt;int&gt;</th><th scope=col>⋯</th><th scope=col>&lt;int&gt;</th><th scope=col>&lt;dbl&gt;</th><th scope=col>&lt;int&gt;</th><th scope=col>&lt;int&gt;</th><th scope=col>&lt;int&gt;</th><th scope=col>&lt;dbl&gt;</th><th scope=col>&lt;dbl&gt;</th><th scope=col>&lt;dbl&gt;</th><th scope=col>&lt;dbl&gt;</th><th scope=col>&lt;chr&gt;</th></tr>\n",
       "</thead>\n",
       "<tbody>\n",
       "\t<tr><th scope=row>4</th><td>1073023</td><td>62</td><td>0</td><td>1</td><td>21.43</td><td>1</td><td>0</td><td>0</td><td>0</td><td>0</td><td>⋯</td><td>137</td><td>138.00</td><td>134</td><td>4</td><td> 3</td><td>0</td><td>0</td><td>0</td><td>1</td><td>Rule_in </td></tr>\n",
       "\t<tr><th scope=row>5</th><td>1098123</td><td>71</td><td>1</td><td>1</td><td>59.37</td><td>1</td><td>0</td><td>0</td><td>0</td><td>0</td><td>⋯</td><td> 12</td><td>  9.58</td><td> 12</td><td>2</td><td>21</td><td>1</td><td>1</td><td>1</td><td>0</td><td>Rule_out</td></tr>\n",
       "\t<tr><th scope=row>7</th><td>147950 </td><td>86</td><td>1</td><td>1</td><td> 8.83</td><td>1</td><td>1</td><td>0</td><td>0</td><td>0</td><td>⋯</td><td>204</td><td>218.00</td><td>217</td><td>1</td><td> 0</td><td>0</td><td>0</td><td>0</td><td>1</td><td>Rule_in </td></tr>\n",
       "\t<tr><th scope=row>12</th><td>2030944</td><td>79</td><td>1</td><td>1</td><td>50.33</td><td>1</td><td>0</td><td>0</td><td>0</td><td>0</td><td>⋯</td><td> 64</td><td> 68.70</td><td> 64</td><td>5</td><td> 7</td><td>0</td><td>1</td><td>0</td><td>1</td><td>Observe </td></tr>\n",
       "\t<tr><th scope=row>15</th><td>2694486</td><td>57</td><td>0</td><td>1</td><td> 5.52</td><td>1</td><td>1</td><td>0</td><td>0</td><td>0</td><td>⋯</td><td>267</td><td>260.00</td><td>265</td><td>5</td><td> 2</td><td>0</td><td>0</td><td>0</td><td>1</td><td>Rule_in </td></tr>\n",
       "\t<tr><th scope=row>16</th><td>3036649</td><td>57</td><td>0</td><td>1</td><td>34.78</td><td>1</td><td>1</td><td>0</td><td>0</td><td>0</td><td>⋯</td><td> 51</td><td> 54.60</td><td> 52</td><td>2</td><td> 4</td><td>0</td><td>1</td><td>0</td><td>1</td><td>Observe </td></tr>\n",
       "</tbody>\n",
       "</table>\n"
      ],
      "text/latex": [
       "A data.frame: 6 × 26\n",
       "\\begin{tabular}{r|lllllllllllllllllllll}\n",
       "  & id & age & age\\_binary & gender & GFR & renal\\_dysfunction & admitted & admitted\\_cardiac & MI & cardiac\\_catheter & ⋯ & CGRD\\_T3 & Roche\\_T0 & Roche\\_T3 & delta\\_Roche & delta\\_Roche\\_per & Roche\\_T0bellow99th & Roche\\_T0bellow5X99th & Roche\\_T3bellow99th & Roche\\_delta\\_perbellow20 & Roche\\_pred\\\\\n",
       "  & <chr> & <int> & <int> & <int> & <dbl> & <int> & <int> & <int> & <int> & <int> & ⋯ & <int> & <dbl> & <int> & <int> & <int> & <dbl> & <dbl> & <dbl> & <dbl> & <chr>\\\\\n",
       "\\hline\n",
       "\t4 & 1073023 & 62 & 0 & 1 & 21.43 & 1 & 0 & 0 & 0 & 0 & ⋯ & 137 & 138.00 & 134 & 4 &  3 & 0 & 0 & 0 & 1 & Rule\\_in \\\\\n",
       "\t5 & 1098123 & 71 & 1 & 1 & 59.37 & 1 & 0 & 0 & 0 & 0 & ⋯ &  12 &   9.58 &  12 & 2 & 21 & 1 & 1 & 1 & 0 & Rule\\_out\\\\\n",
       "\t7 & 147950  & 86 & 1 & 1 &  8.83 & 1 & 1 & 0 & 0 & 0 & ⋯ & 204 & 218.00 & 217 & 1 &  0 & 0 & 0 & 0 & 1 & Rule\\_in \\\\\n",
       "\t12 & 2030944 & 79 & 1 & 1 & 50.33 & 1 & 0 & 0 & 0 & 0 & ⋯ &  64 &  68.70 &  64 & 5 &  7 & 0 & 1 & 0 & 1 & Observe \\\\\n",
       "\t15 & 2694486 & 57 & 0 & 1 &  5.52 & 1 & 1 & 0 & 0 & 0 & ⋯ & 267 & 260.00 & 265 & 5 &  2 & 0 & 0 & 0 & 1 & Rule\\_in \\\\\n",
       "\t16 & 3036649 & 57 & 0 & 1 & 34.78 & 1 & 1 & 0 & 0 & 0 & ⋯ &  51 &  54.60 &  52 & 2 &  4 & 0 & 1 & 0 & 1 & Observe \\\\\n",
       "\\end{tabular}\n"
      ],
      "text/markdown": [
       "\n",
       "A data.frame: 6 × 26\n",
       "\n",
       "| <!--/--> | id &lt;chr&gt; | age &lt;int&gt; | age_binary &lt;int&gt; | gender &lt;int&gt; | GFR &lt;dbl&gt; | renal_dysfunction &lt;int&gt; | admitted &lt;int&gt; | admitted_cardiac &lt;int&gt; | MI &lt;int&gt; | cardiac_catheter &lt;int&gt; | ⋯ ⋯ | CGRD_T3 &lt;int&gt; | Roche_T0 &lt;dbl&gt; | Roche_T3 &lt;int&gt; | delta_Roche &lt;int&gt; | delta_Roche_per &lt;int&gt; | Roche_T0bellow99th &lt;dbl&gt; | Roche_T0bellow5X99th &lt;dbl&gt; | Roche_T3bellow99th &lt;dbl&gt; | Roche_delta_perbellow20 &lt;dbl&gt; | Roche_pred &lt;chr&gt; |\n",
       "|---|---|---|---|---|---|---|---|---|---|---|---|---|---|---|---|---|---|---|---|---|---|\n",
       "| 4 | 1073023 | 62 | 0 | 1 | 21.43 | 1 | 0 | 0 | 0 | 0 | ⋯ | 137 | 138.00 | 134 | 4 |  3 | 0 | 0 | 0 | 1 | Rule_in  |\n",
       "| 5 | 1098123 | 71 | 1 | 1 | 59.37 | 1 | 0 | 0 | 0 | 0 | ⋯ |  12 |   9.58 |  12 | 2 | 21 | 1 | 1 | 1 | 0 | Rule_out |\n",
       "| 7 | 147950  | 86 | 1 | 1 |  8.83 | 1 | 1 | 0 | 0 | 0 | ⋯ | 204 | 218.00 | 217 | 1 |  0 | 0 | 0 | 0 | 1 | Rule_in  |\n",
       "| 12 | 2030944 | 79 | 1 | 1 | 50.33 | 1 | 0 | 0 | 0 | 0 | ⋯ |  64 |  68.70 |  64 | 5 |  7 | 0 | 1 | 0 | 1 | Observe  |\n",
       "| 15 | 2694486 | 57 | 0 | 1 |  5.52 | 1 | 1 | 0 | 0 | 0 | ⋯ | 267 | 260.00 | 265 | 5 |  2 | 0 | 0 | 0 | 1 | Rule_in  |\n",
       "| 16 | 3036649 | 57 | 0 | 1 | 34.78 | 1 | 1 | 0 | 0 | 0 | ⋯ |  51 |  54.60 |  52 | 2 |  4 | 0 | 1 | 0 | 1 | Observe  |\n",
       "\n"
      ],
      "text/plain": [
       "   id      age age_binary gender GFR   renal_dysfunction admitted\n",
       "4  1073023 62  0          1      21.43 1                 0       \n",
       "5  1098123 71  1          1      59.37 1                 0       \n",
       "7  147950  86  1          1       8.83 1                 1       \n",
       "12 2030944 79  1          1      50.33 1                 0       \n",
       "15 2694486 57  0          1       5.52 1                 1       \n",
       "16 3036649 57  0          1      34.78 1                 1       \n",
       "   admitted_cardiac MI cardiac_catheter ⋯ CGRD_T3 Roche_T0 Roche_T3 delta_Roche\n",
       "4  0                0  0                ⋯ 137     138.00   134      4          \n",
       "5  0                0  0                ⋯  12       9.58    12      2          \n",
       "7  0                0  0                ⋯ 204     218.00   217      1          \n",
       "12 0                0  0                ⋯  64      68.70    64      5          \n",
       "15 0                0  0                ⋯ 267     260.00   265      5          \n",
       "16 0                0  0                ⋯  51      54.60    52      2          \n",
       "   delta_Roche_per Roche_T0bellow99th Roche_T0bellow5X99th Roche_T3bellow99th\n",
       "4   3              0                  0                    0                 \n",
       "5  21              1                  1                    1                 \n",
       "7   0              0                  0                    0                 \n",
       "12  7              0                  1                    0                 \n",
       "15  2              0                  0                    0                 \n",
       "16  4              0                  1                    0                 \n",
       "   Roche_delta_perbellow20 Roche_pred\n",
       "4  1                       Rule_in   \n",
       "5  0                       Rule_out  \n",
       "7  1                       Rule_in   \n",
       "12 1                       Observe   \n",
       "15 1                       Rule_in   \n",
       "16 1                       Observe   "
      ]
     },
     "metadata": {},
     "output_type": "display_data"
    }
   ],
   "source": [
    "mydata_Roche_male=mydata_Roche[which(mydata_Roche$gender==1),]\n",
    "head(mydata_Roche_male)"
   ]
  },
  {
   "cell_type": "code",
   "execution_count": 10,
   "metadata": {},
   "outputs": [],
   "source": [
    "mydata_Roche_male$Roche_T0bellow99th=ifelse(mydata_Roche_male$Roche_T0<=16,1,0)\n",
    "mydata_Roche_male$Roche_T0bellow5X99th=ifelse(mydata_Roche_male$Roche_T0<=16*5,1,0)\n",
    "mydata_Roche_male$Roche_T3bellow99th=ifelse(mydata_Roche_male$Roche_T3<=16,1,0)\n",
    "mydata_Roche_male$Roche_delta_perbellow20=ifelse(mydata_Roche_male$delta_Roche_per<=20,1,0)"
   ]
  },
  {
   "cell_type": "code",
   "execution_count": 11,
   "metadata": {},
   "outputs": [
    {
     "data": {
      "text/plain": [
       "          \n",
       "            0  1\n",
       "  Observe  20  0\n",
       "  Rule_in  28  9\n",
       "  Rule_out 14  0"
      ]
     },
     "metadata": {},
     "output_type": "display_data"
    },
    {
     "data": {
      "text/html": [
       "0.126760563380282"
      ],
      "text/latex": [
       "0.126760563380282"
      ],
      "text/markdown": [
       "0.126760563380282"
      ],
      "text/plain": [
       "[1] 0.1267606"
      ]
     },
     "metadata": {},
     "output_type": "display_data"
    }
   ],
   "source": [
    "mydata_Roche_male$Roche_pred=array(0,nrow(mydata_Roche_male))\n",
    "for(i in 1:nrow(mydata_Roche_male)){\n",
    "  mydata_Roche_male$Roche_pred[i]=if(mydata_Roche_male$Roche_T0bellow99th[i]==1 && mydata_Roche_male$Roche_T3bellow99th[i]==1){\n",
    "    \"Rule_out\" \n",
    " } else if(mydata_Roche_male$Roche_T0bellow99th[i]==1 && mydata_Roche_male$Roche_T3bellow99th[i]==0 && mydata_Roche_male$delta_Roche_per[i]<=50){\n",
    "    \"Observe\"\n",
    " } else if(mydata_Roche_male$Roche_T0bellow99th[i]==1 && mydata_Roche_male$Roche_T3bellow99th[i]==0 && mydata_Roche_male$delta_Roche_per[i]>50){\n",
    "    \"Rule_in\"\n",
    " } else if(mydata_Roche_male$Roche_T0bellow99th[i]==0 && mydata_Roche_male$Roche_T0bellow5X99th[i]==0){\n",
    "    \"Rule_in\"\n",
    " } else if(mydata_Roche_male$Roche_T0bellow99th[i]==0 && mydata_Roche_male$Roche_T0bellow5X99th[i]==1 && mydata_Roche_male$Roche_T3bellow99th[i]==1){\n",
    "    \"Rule_out\"\n",
    " } else if(mydata_Roche_male$Roche_T0bellow99th[i]==0 && mydata_Roche_male$Roche_T0bellow5X99th[i]==1 && mydata_Roche_male$Roche_T3bellow99th[i]==0 && mydata_Roche_male$Roche_delta_perbellow20[i]==1){\n",
    "    \"Observe\"\n",
    " } else {\n",
    "    \"Rule_in\"\n",
    " }\n",
    "      }\n",
    "      \n",
    "table(mydata_Roche_male$Roche_pred,mydata_Roche_male$MI)\n",
    "prevalence_Roche_male=sum(mydata_Roche_male$MI)/nrow(mydata_Roche_male)\n",
    "prevalence_Roche_male"
   ]
  },
  {
   "cell_type": "markdown",
   "metadata": {},
   "source": [
    "## Roche: Gender (Female)"
   ]
  },
  {
   "cell_type": "code",
   "execution_count": 12,
   "metadata": {},
   "outputs": [
    {
     "data": {
      "text/html": [
       "<table class=\"dataframe\">\n",
       "<caption>A data.frame: 6 × 26</caption>\n",
       "<thead>\n",
       "\t<tr><th></th><th scope=col>id</th><th scope=col>age</th><th scope=col>age_binary</th><th scope=col>gender</th><th scope=col>GFR</th><th scope=col>renal_dysfunction</th><th scope=col>admitted</th><th scope=col>admitted_cardiac</th><th scope=col>MI</th><th scope=col>cardiac_catheter</th><th scope=col>⋯</th><th scope=col>CGRD_T3</th><th scope=col>Roche_T0</th><th scope=col>Roche_T3</th><th scope=col>delta_Roche</th><th scope=col>delta_Roche_per</th><th scope=col>Roche_T0bellow99th</th><th scope=col>Roche_T0bellow5X99th</th><th scope=col>Roche_T3bellow99th</th><th scope=col>Roche_delta_perbellow20</th><th scope=col>Roche_pred</th></tr>\n",
       "\t<tr><th></th><th scope=col>&lt;chr&gt;</th><th scope=col>&lt;int&gt;</th><th scope=col>&lt;int&gt;</th><th scope=col>&lt;int&gt;</th><th scope=col>&lt;dbl&gt;</th><th scope=col>&lt;int&gt;</th><th scope=col>&lt;int&gt;</th><th scope=col>&lt;int&gt;</th><th scope=col>&lt;int&gt;</th><th scope=col>&lt;int&gt;</th><th scope=col>⋯</th><th scope=col>&lt;int&gt;</th><th scope=col>&lt;dbl&gt;</th><th scope=col>&lt;int&gt;</th><th scope=col>&lt;int&gt;</th><th scope=col>&lt;int&gt;</th><th scope=col>&lt;dbl&gt;</th><th scope=col>&lt;dbl&gt;</th><th scope=col>&lt;dbl&gt;</th><th scope=col>&lt;dbl&gt;</th><th scope=col>&lt;chr&gt;</th></tr>\n",
       "</thead>\n",
       "<tbody>\n",
       "\t<tr><th scope=row>1</th><td>10199119</td><td>62</td><td>0</td><td>0</td><td>107.71</td><td>0</td><td>0</td><td>0</td><td>0</td><td>0</td><td>⋯</td><td> 11</td><td>  9.55</td><td> 12</td><td>3</td><td>28</td><td>1</td><td>1</td><td>1</td><td>0</td><td>Rule_out</td></tr>\n",
       "\t<tr><th scope=row>2</th><td>1044197 </td><td>87</td><td>1</td><td>0</td><td> 50.51</td><td>1</td><td>0</td><td>0</td><td>0</td><td>0</td><td>⋯</td><td> 26</td><td> 25.90</td><td> 25</td><td>1</td><td> 2</td><td>0</td><td>1</td><td>0</td><td>1</td><td>Observe </td></tr>\n",
       "\t<tr><th scope=row>3</th><td>10588102</td><td>26</td><td>0</td><td>0</td><td>131.41</td><td>0</td><td>0</td><td>0</td><td>0</td><td>0</td><td>⋯</td><td>  3</td><td>  3.00</td><td>  3</td><td>0</td><td> 0</td><td>1</td><td>1</td><td>1</td><td>1</td><td>Rule_out</td></tr>\n",
       "\t<tr><th scope=row>6</th><td>1107763 </td><td>60</td><td>0</td><td>0</td><td>  2.44</td><td>1</td><td>0</td><td>0</td><td>0</td><td>0</td><td>⋯</td><td> 37</td><td> 28.60</td><td> 38</td><td>9</td><td>33</td><td>0</td><td>1</td><td>0</td><td>0</td><td>Rule_in </td></tr>\n",
       "\t<tr><th scope=row>8</th><td>150547  </td><td>78</td><td>1</td><td>0</td><td> 11.35</td><td>1</td><td>1</td><td>0</td><td>0</td><td>0</td><td>⋯</td><td> 79</td><td> 79.80</td><td> 82</td><td>2</td><td> 3</td><td>0</td><td>0</td><td>0</td><td>1</td><td>Rule_in </td></tr>\n",
       "\t<tr><th scope=row>9</th><td>1839516 </td><td>44</td><td>0</td><td>0</td><td>109.26</td><td>0</td><td>1</td><td>0</td><td>0</td><td>0</td><td>⋯</td><td>273</td><td>270.00</td><td>271</td><td>1</td><td> 0</td><td>0</td><td>0</td><td>0</td><td>1</td><td>Rule_in </td></tr>\n",
       "</tbody>\n",
       "</table>\n"
      ],
      "text/latex": [
       "A data.frame: 6 × 26\n",
       "\\begin{tabular}{r|lllllllllllllllllllll}\n",
       "  & id & age & age\\_binary & gender & GFR & renal\\_dysfunction & admitted & admitted\\_cardiac & MI & cardiac\\_catheter & ⋯ & CGRD\\_T3 & Roche\\_T0 & Roche\\_T3 & delta\\_Roche & delta\\_Roche\\_per & Roche\\_T0bellow99th & Roche\\_T0bellow5X99th & Roche\\_T3bellow99th & Roche\\_delta\\_perbellow20 & Roche\\_pred\\\\\n",
       "  & <chr> & <int> & <int> & <int> & <dbl> & <int> & <int> & <int> & <int> & <int> & ⋯ & <int> & <dbl> & <int> & <int> & <int> & <dbl> & <dbl> & <dbl> & <dbl> & <chr>\\\\\n",
       "\\hline\n",
       "\t1 & 10199119 & 62 & 0 & 0 & 107.71 & 0 & 0 & 0 & 0 & 0 & ⋯ &  11 &   9.55 &  12 & 3 & 28 & 1 & 1 & 1 & 0 & Rule\\_out\\\\\n",
       "\t2 & 1044197  & 87 & 1 & 0 &  50.51 & 1 & 0 & 0 & 0 & 0 & ⋯ &  26 &  25.90 &  25 & 1 &  2 & 0 & 1 & 0 & 1 & Observe \\\\\n",
       "\t3 & 10588102 & 26 & 0 & 0 & 131.41 & 0 & 0 & 0 & 0 & 0 & ⋯ &   3 &   3.00 &   3 & 0 &  0 & 1 & 1 & 1 & 1 & Rule\\_out\\\\\n",
       "\t6 & 1107763  & 60 & 0 & 0 &   2.44 & 1 & 0 & 0 & 0 & 0 & ⋯ &  37 &  28.60 &  38 & 9 & 33 & 0 & 1 & 0 & 0 & Rule\\_in \\\\\n",
       "\t8 & 150547   & 78 & 1 & 0 &  11.35 & 1 & 1 & 0 & 0 & 0 & ⋯ &  79 &  79.80 &  82 & 2 &  3 & 0 & 0 & 0 & 1 & Rule\\_in \\\\\n",
       "\t9 & 1839516  & 44 & 0 & 0 & 109.26 & 0 & 1 & 0 & 0 & 0 & ⋯ & 273 & 270.00 & 271 & 1 &  0 & 0 & 0 & 0 & 1 & Rule\\_in \\\\\n",
       "\\end{tabular}\n"
      ],
      "text/markdown": [
       "\n",
       "A data.frame: 6 × 26\n",
       "\n",
       "| <!--/--> | id &lt;chr&gt; | age &lt;int&gt; | age_binary &lt;int&gt; | gender &lt;int&gt; | GFR &lt;dbl&gt; | renal_dysfunction &lt;int&gt; | admitted &lt;int&gt; | admitted_cardiac &lt;int&gt; | MI &lt;int&gt; | cardiac_catheter &lt;int&gt; | ⋯ ⋯ | CGRD_T3 &lt;int&gt; | Roche_T0 &lt;dbl&gt; | Roche_T3 &lt;int&gt; | delta_Roche &lt;int&gt; | delta_Roche_per &lt;int&gt; | Roche_T0bellow99th &lt;dbl&gt; | Roche_T0bellow5X99th &lt;dbl&gt; | Roche_T3bellow99th &lt;dbl&gt; | Roche_delta_perbellow20 &lt;dbl&gt; | Roche_pred &lt;chr&gt; |\n",
       "|---|---|---|---|---|---|---|---|---|---|---|---|---|---|---|---|---|---|---|---|---|---|\n",
       "| 1 | 10199119 | 62 | 0 | 0 | 107.71 | 0 | 0 | 0 | 0 | 0 | ⋯ |  11 |   9.55 |  12 | 3 | 28 | 1 | 1 | 1 | 0 | Rule_out |\n",
       "| 2 | 1044197  | 87 | 1 | 0 |  50.51 | 1 | 0 | 0 | 0 | 0 | ⋯ |  26 |  25.90 |  25 | 1 |  2 | 0 | 1 | 0 | 1 | Observe  |\n",
       "| 3 | 10588102 | 26 | 0 | 0 | 131.41 | 0 | 0 | 0 | 0 | 0 | ⋯ |   3 |   3.00 |   3 | 0 |  0 | 1 | 1 | 1 | 1 | Rule_out |\n",
       "| 6 | 1107763  | 60 | 0 | 0 |   2.44 | 1 | 0 | 0 | 0 | 0 | ⋯ |  37 |  28.60 |  38 | 9 | 33 | 0 | 1 | 0 | 0 | Rule_in  |\n",
       "| 8 | 150547   | 78 | 1 | 0 |  11.35 | 1 | 1 | 0 | 0 | 0 | ⋯ |  79 |  79.80 |  82 | 2 |  3 | 0 | 0 | 0 | 1 | Rule_in  |\n",
       "| 9 | 1839516  | 44 | 0 | 0 | 109.26 | 0 | 1 | 0 | 0 | 0 | ⋯ | 273 | 270.00 | 271 | 1 |  0 | 0 | 0 | 0 | 1 | Rule_in  |\n",
       "\n"
      ],
      "text/plain": [
       "  id       age age_binary gender GFR    renal_dysfunction admitted\n",
       "1 10199119 62  0          0      107.71 0                 0       \n",
       "2 1044197  87  1          0       50.51 1                 0       \n",
       "3 10588102 26  0          0      131.41 0                 0       \n",
       "6 1107763  60  0          0        2.44 1                 0       \n",
       "8 150547   78  1          0       11.35 1                 1       \n",
       "9 1839516  44  0          0      109.26 0                 1       \n",
       "  admitted_cardiac MI cardiac_catheter ⋯ CGRD_T3 Roche_T0 Roche_T3 delta_Roche\n",
       "1 0                0  0                ⋯  11       9.55    12      3          \n",
       "2 0                0  0                ⋯  26      25.90    25      1          \n",
       "3 0                0  0                ⋯   3       3.00     3      0          \n",
       "6 0                0  0                ⋯  37      28.60    38      9          \n",
       "8 0                0  0                ⋯  79      79.80    82      2          \n",
       "9 0                0  0                ⋯ 273     270.00   271      1          \n",
       "  delta_Roche_per Roche_T0bellow99th Roche_T0bellow5X99th Roche_T3bellow99th\n",
       "1 28              1                  1                    1                 \n",
       "2  2              0                  1                    0                 \n",
       "3  0              1                  1                    1                 \n",
       "6 33              0                  1                    0                 \n",
       "8  3              0                  0                    0                 \n",
       "9  0              0                  0                    0                 \n",
       "  Roche_delta_perbellow20 Roche_pred\n",
       "1 0                       Rule_out  \n",
       "2 1                       Observe   \n",
       "3 1                       Rule_out  \n",
       "6 0                       Rule_in   \n",
       "8 1                       Rule_in   \n",
       "9 1                       Rule_in   "
      ]
     },
     "metadata": {},
     "output_type": "display_data"
    }
   ],
   "source": [
    "mydata_Roche_female=mydata_Roche[which(mydata_Roche$gender==0),]\n",
    "head(mydata_Roche_female)"
   ]
  },
  {
   "cell_type": "code",
   "execution_count": 13,
   "metadata": {},
   "outputs": [],
   "source": [
    "mydata_Roche_female$Roche_T0bellow99th=ifelse(mydata_Roche_female$Roche_T0<=11,1,0)\n",
    "mydata_Roche_female$Roche_T0bellow5X99th=ifelse(mydata_Roche_female$Roche_T0<=11*5,1,0)\n",
    "mydata_Roche_female$Roche_T3bellow99th=ifelse(mydata_Roche_female$Roche_T3<=11,1,0)\n",
    "mydata_Roche_female$Roche_delta_perbellow20=ifelse(mydata_Roche_female$delta_Roche_per<=20,1,0)"
   ]
  },
  {
   "cell_type": "code",
   "execution_count": 14,
   "metadata": {},
   "outputs": [
    {
     "data": {
      "text/plain": [
       "          \n",
       "            0  1\n",
       "  Observe  20  0\n",
       "  Rule_in  20  2\n",
       "  Rule_out 14  0"
      ]
     },
     "metadata": {},
     "output_type": "display_data"
    },
    {
     "data": {
      "text/html": [
       "0.0357142857142857"
      ],
      "text/latex": [
       "0.0357142857142857"
      ],
      "text/markdown": [
       "0.0357142857142857"
      ],
      "text/plain": [
       "[1] 0.03571429"
      ]
     },
     "metadata": {},
     "output_type": "display_data"
    }
   ],
   "source": [
    "mydata_Roche_female$Roche_pred=array(0,nrow(mydata_Roche_female))\n",
    "for(i in 1:nrow(mydata_Roche_female)){\n",
    "  mydata_Roche_female$Roche_pred[i]=if(mydata_Roche_female$Roche_T0bellow99th[i]==1 && mydata_Roche_female$Roche_T3bellow99th[i]==1){\n",
    "    \"Rule_out\" \n",
    " } else if(mydata_Roche_female$Roche_T0bellow99th[i]==1 && mydata_Roche_female$Roche_T3bellow99th[i]==0 && mydata_Roche_female$delta_Roche_per[i]<=50){\n",
    "    \"Observe\"\n",
    " } else if(mydata_Roche_female$Roche_T0bellow99th[i]==1 && mydata_Roche_female$Roche_T3bellow99th[i]==0 && mydata_Roche_female$delta_Roche_per[i]>50){\n",
    "    \"Rule_in\"\n",
    " } else if(mydata_Roche_female$Roche_T0bellow99th[i]==0 && mydata_Roche_female$Roche_T0bellow5X99th[i]==0){\n",
    "    \"Rule_in\"\n",
    " } else if(mydata_Roche_female$Roche_T0bellow99th[i]==0 && mydata_Roche_female$Roche_T0bellow5X99th[i]==1 && mydata_Roche_female$Roche_T3bellow99th[i]==1){\n",
    "    \"Rule_out\"\n",
    " } else if(mydata_Roche_female$Roche_T0bellow99th[i]==0 && mydata_Roche_female$Roche_T0bellow5X99th[i]==1 && mydata_Roche_female$Roche_T3bellow99th[i]==0 && mydata_Roche_female$Roche_delta_perbellow20[i]==1){\n",
    "    \"Observe\"\n",
    " } else {\n",
    "    \"Rule_in\"\n",
    " }\n",
    "      }\n",
    "      \n",
    "table(mydata_Roche_female$Roche_pred,mydata_Roche_female$MI)\n",
    "prevalence_Roche_female=sum(mydata_Roche_female$MI)/nrow(mydata_Roche_female)\n",
    "prevalence_Roche_female"
   ]
  },
  {
   "cell_type": "markdown",
   "metadata": {},
   "source": [
    "## Roche: eGFR<60"
   ]
  },
  {
   "cell_type": "code",
   "execution_count": 15,
   "metadata": {},
   "outputs": [
    {
     "data": {
      "text/html": [
       "<table class=\"dataframe\">\n",
       "<caption>A data.frame: 6 × 26</caption>\n",
       "<thead>\n",
       "\t<tr><th></th><th scope=col>id</th><th scope=col>age</th><th scope=col>age_binary</th><th scope=col>gender</th><th scope=col>GFR</th><th scope=col>renal_dysfunction</th><th scope=col>admitted</th><th scope=col>admitted_cardiac</th><th scope=col>MI</th><th scope=col>cardiac_catheter</th><th scope=col>⋯</th><th scope=col>CGRD_T3</th><th scope=col>Roche_T0</th><th scope=col>Roche_T3</th><th scope=col>delta_Roche</th><th scope=col>delta_Roche_per</th><th scope=col>Roche_T0bellow99th</th><th scope=col>Roche_T0bellow5X99th</th><th scope=col>Roche_T3bellow99th</th><th scope=col>Roche_delta_perbellow20</th><th scope=col>Roche_pred</th></tr>\n",
       "\t<tr><th></th><th scope=col>&lt;chr&gt;</th><th scope=col>&lt;int&gt;</th><th scope=col>&lt;int&gt;</th><th scope=col>&lt;int&gt;</th><th scope=col>&lt;dbl&gt;</th><th scope=col>&lt;int&gt;</th><th scope=col>&lt;int&gt;</th><th scope=col>&lt;int&gt;</th><th scope=col>&lt;int&gt;</th><th scope=col>&lt;int&gt;</th><th scope=col>⋯</th><th scope=col>&lt;int&gt;</th><th scope=col>&lt;dbl&gt;</th><th scope=col>&lt;int&gt;</th><th scope=col>&lt;int&gt;</th><th scope=col>&lt;int&gt;</th><th scope=col>&lt;dbl&gt;</th><th scope=col>&lt;dbl&gt;</th><th scope=col>&lt;dbl&gt;</th><th scope=col>&lt;dbl&gt;</th><th scope=col>&lt;chr&gt;</th></tr>\n",
       "</thead>\n",
       "<tbody>\n",
       "\t<tr><th scope=row>2</th><td>1044197</td><td>87</td><td>1</td><td>0</td><td>50.51</td><td>1</td><td>0</td><td>0</td><td>0</td><td>0</td><td>⋯</td><td> 26</td><td> 25.90</td><td> 25</td><td>1</td><td> 2</td><td>0</td><td>1</td><td>0</td><td>1</td><td>Observe </td></tr>\n",
       "\t<tr><th scope=row>4</th><td>1073023</td><td>62</td><td>0</td><td>1</td><td>21.43</td><td>1</td><td>0</td><td>0</td><td>0</td><td>0</td><td>⋯</td><td>137</td><td>138.00</td><td>134</td><td>4</td><td> 3</td><td>0</td><td>0</td><td>0</td><td>1</td><td>Rule_in </td></tr>\n",
       "\t<tr><th scope=row>5</th><td>1098123</td><td>71</td><td>1</td><td>1</td><td>59.37</td><td>1</td><td>0</td><td>0</td><td>0</td><td>0</td><td>⋯</td><td> 12</td><td>  9.58</td><td> 12</td><td>2</td><td>21</td><td>1</td><td>1</td><td>1</td><td>0</td><td>Rule_out</td></tr>\n",
       "\t<tr><th scope=row>6</th><td>1107763</td><td>60</td><td>0</td><td>0</td><td> 2.44</td><td>1</td><td>0</td><td>0</td><td>0</td><td>0</td><td>⋯</td><td> 37</td><td> 28.60</td><td> 38</td><td>9</td><td>33</td><td>0</td><td>1</td><td>0</td><td>0</td><td>Rule_in </td></tr>\n",
       "\t<tr><th scope=row>7</th><td>147950 </td><td>86</td><td>1</td><td>1</td><td> 8.83</td><td>1</td><td>1</td><td>0</td><td>0</td><td>0</td><td>⋯</td><td>204</td><td>218.00</td><td>217</td><td>1</td><td> 0</td><td>0</td><td>0</td><td>0</td><td>1</td><td>Rule_in </td></tr>\n",
       "\t<tr><th scope=row>8</th><td>150547 </td><td>78</td><td>1</td><td>0</td><td>11.35</td><td>1</td><td>1</td><td>0</td><td>0</td><td>0</td><td>⋯</td><td> 79</td><td> 79.80</td><td> 82</td><td>2</td><td> 3</td><td>0</td><td>0</td><td>0</td><td>1</td><td>Rule_in </td></tr>\n",
       "</tbody>\n",
       "</table>\n"
      ],
      "text/latex": [
       "A data.frame: 6 × 26\n",
       "\\begin{tabular}{r|lllllllllllllllllllll}\n",
       "  & id & age & age\\_binary & gender & GFR & renal\\_dysfunction & admitted & admitted\\_cardiac & MI & cardiac\\_catheter & ⋯ & CGRD\\_T3 & Roche\\_T0 & Roche\\_T3 & delta\\_Roche & delta\\_Roche\\_per & Roche\\_T0bellow99th & Roche\\_T0bellow5X99th & Roche\\_T3bellow99th & Roche\\_delta\\_perbellow20 & Roche\\_pred\\\\\n",
       "  & <chr> & <int> & <int> & <int> & <dbl> & <int> & <int> & <int> & <int> & <int> & ⋯ & <int> & <dbl> & <int> & <int> & <int> & <dbl> & <dbl> & <dbl> & <dbl> & <chr>\\\\\n",
       "\\hline\n",
       "\t2 & 1044197 & 87 & 1 & 0 & 50.51 & 1 & 0 & 0 & 0 & 0 & ⋯ &  26 &  25.90 &  25 & 1 &  2 & 0 & 1 & 0 & 1 & Observe \\\\\n",
       "\t4 & 1073023 & 62 & 0 & 1 & 21.43 & 1 & 0 & 0 & 0 & 0 & ⋯ & 137 & 138.00 & 134 & 4 &  3 & 0 & 0 & 0 & 1 & Rule\\_in \\\\\n",
       "\t5 & 1098123 & 71 & 1 & 1 & 59.37 & 1 & 0 & 0 & 0 & 0 & ⋯ &  12 &   9.58 &  12 & 2 & 21 & 1 & 1 & 1 & 0 & Rule\\_out\\\\\n",
       "\t6 & 1107763 & 60 & 0 & 0 &  2.44 & 1 & 0 & 0 & 0 & 0 & ⋯ &  37 &  28.60 &  38 & 9 & 33 & 0 & 1 & 0 & 0 & Rule\\_in \\\\\n",
       "\t7 & 147950  & 86 & 1 & 1 &  8.83 & 1 & 1 & 0 & 0 & 0 & ⋯ & 204 & 218.00 & 217 & 1 &  0 & 0 & 0 & 0 & 1 & Rule\\_in \\\\\n",
       "\t8 & 150547  & 78 & 1 & 0 & 11.35 & 1 & 1 & 0 & 0 & 0 & ⋯ &  79 &  79.80 &  82 & 2 &  3 & 0 & 0 & 0 & 1 & Rule\\_in \\\\\n",
       "\\end{tabular}\n"
      ],
      "text/markdown": [
       "\n",
       "A data.frame: 6 × 26\n",
       "\n",
       "| <!--/--> | id &lt;chr&gt; | age &lt;int&gt; | age_binary &lt;int&gt; | gender &lt;int&gt; | GFR &lt;dbl&gt; | renal_dysfunction &lt;int&gt; | admitted &lt;int&gt; | admitted_cardiac &lt;int&gt; | MI &lt;int&gt; | cardiac_catheter &lt;int&gt; | ⋯ ⋯ | CGRD_T3 &lt;int&gt; | Roche_T0 &lt;dbl&gt; | Roche_T3 &lt;int&gt; | delta_Roche &lt;int&gt; | delta_Roche_per &lt;int&gt; | Roche_T0bellow99th &lt;dbl&gt; | Roche_T0bellow5X99th &lt;dbl&gt; | Roche_T3bellow99th &lt;dbl&gt; | Roche_delta_perbellow20 &lt;dbl&gt; | Roche_pred &lt;chr&gt; |\n",
       "|---|---|---|---|---|---|---|---|---|---|---|---|---|---|---|---|---|---|---|---|---|---|\n",
       "| 2 | 1044197 | 87 | 1 | 0 | 50.51 | 1 | 0 | 0 | 0 | 0 | ⋯ |  26 |  25.90 |  25 | 1 |  2 | 0 | 1 | 0 | 1 | Observe  |\n",
       "| 4 | 1073023 | 62 | 0 | 1 | 21.43 | 1 | 0 | 0 | 0 | 0 | ⋯ | 137 | 138.00 | 134 | 4 |  3 | 0 | 0 | 0 | 1 | Rule_in  |\n",
       "| 5 | 1098123 | 71 | 1 | 1 | 59.37 | 1 | 0 | 0 | 0 | 0 | ⋯ |  12 |   9.58 |  12 | 2 | 21 | 1 | 1 | 1 | 0 | Rule_out |\n",
       "| 6 | 1107763 | 60 | 0 | 0 |  2.44 | 1 | 0 | 0 | 0 | 0 | ⋯ |  37 |  28.60 |  38 | 9 | 33 | 0 | 1 | 0 | 0 | Rule_in  |\n",
       "| 7 | 147950  | 86 | 1 | 1 |  8.83 | 1 | 1 | 0 | 0 | 0 | ⋯ | 204 | 218.00 | 217 | 1 |  0 | 0 | 0 | 0 | 1 | Rule_in  |\n",
       "| 8 | 150547  | 78 | 1 | 0 | 11.35 | 1 | 1 | 0 | 0 | 0 | ⋯ |  79 |  79.80 |  82 | 2 |  3 | 0 | 0 | 0 | 1 | Rule_in  |\n",
       "\n"
      ],
      "text/plain": [
       "  id      age age_binary gender GFR   renal_dysfunction admitted\n",
       "2 1044197 87  1          0      50.51 1                 0       \n",
       "4 1073023 62  0          1      21.43 1                 0       \n",
       "5 1098123 71  1          1      59.37 1                 0       \n",
       "6 1107763 60  0          0       2.44 1                 0       \n",
       "7 147950  86  1          1       8.83 1                 1       \n",
       "8 150547  78  1          0      11.35 1                 1       \n",
       "  admitted_cardiac MI cardiac_catheter ⋯ CGRD_T3 Roche_T0 Roche_T3 delta_Roche\n",
       "2 0                0  0                ⋯  26      25.90    25      1          \n",
       "4 0                0  0                ⋯ 137     138.00   134      4          \n",
       "5 0                0  0                ⋯  12       9.58    12      2          \n",
       "6 0                0  0                ⋯  37      28.60    38      9          \n",
       "7 0                0  0                ⋯ 204     218.00   217      1          \n",
       "8 0                0  0                ⋯  79      79.80    82      2          \n",
       "  delta_Roche_per Roche_T0bellow99th Roche_T0bellow5X99th Roche_T3bellow99th\n",
       "2  2              0                  1                    0                 \n",
       "4  3              0                  0                    0                 \n",
       "5 21              1                  1                    1                 \n",
       "6 33              0                  1                    0                 \n",
       "7  0              0                  0                    0                 \n",
       "8  3              0                  0                    0                 \n",
       "  Roche_delta_perbellow20 Roche_pred\n",
       "2 1                       Observe   \n",
       "4 1                       Rule_in   \n",
       "5 0                       Rule_out  \n",
       "6 0                       Rule_in   \n",
       "7 1                       Rule_in   \n",
       "8 1                       Rule_in   "
      ]
     },
     "metadata": {},
     "output_type": "display_data"
    }
   ],
   "source": [
    "mydata_Roche_GFR=mydata_Roche[which(mydata_Roche$GFR<60),]\n",
    "head(mydata_Roche_GFR)"
   ]
  },
  {
   "cell_type": "code",
   "execution_count": 16,
   "metadata": {},
   "outputs": [],
   "source": [
    "mydata_Roche_GFR$Roche_T0bellow99th=ifelse(mydata_Roche_GFR$Roche_T0<=29.5,1,0)\n",
    "mydata_Roche_GFR$Roche_T0bellow5X99th=ifelse(mydata_Roche_GFR$Roche_T0<=29.5*5,1,0)\n",
    "mydata_Roche_GFR$Roche_T3bellow99th=ifelse(mydata_Roche_GFR$Roche_T3<=29.5,1,0)\n",
    "mydata_Roche_GFR$Roche_delta_perbellow20=ifelse(mydata_Roche_GFR$delta_Roche_per<=20,1,0)"
   ]
  },
  {
   "cell_type": "code",
   "execution_count": 17,
   "metadata": {},
   "outputs": [
    {
     "data": {
      "text/plain": [
       "          \n",
       "            0  1\n",
       "  Observe  32  0\n",
       "  Rule_in  22  6\n",
       "  Rule_out 20  0"
      ]
     },
     "metadata": {},
     "output_type": "display_data"
    },
    {
     "data": {
      "text/html": [
       "0.075"
      ],
      "text/latex": [
       "0.075"
      ],
      "text/markdown": [
       "0.075"
      ],
      "text/plain": [
       "[1] 0.075"
      ]
     },
     "metadata": {},
     "output_type": "display_data"
    }
   ],
   "source": [
    "mydata_Roche_GFR$Roche_pred=array(0,nrow(mydata_Roche_GFR))\n",
    "for(i in 1:nrow(mydata_Roche_GFR)){\n",
    "  mydata_Roche_GFR$Roche_pred[i]=if(mydata_Roche_GFR$Roche_T0bellow99th[i]==1 && mydata_Roche_GFR$Roche_T3bellow99th[i]==1){\n",
    "    \"Rule_out\" \n",
    " } else if(mydata_Roche_GFR$Roche_T0bellow99th[i]==1 && mydata_Roche_GFR$Roche_T3bellow99th[i]==0 && mydata_Roche_GFR$delta_Roche_per[i]<=50){\n",
    "    \"Observe\"\n",
    " } else if(mydata_Roche_GFR$Roche_T0bellow99th[i]==1 && mydata_Roche_GFR$Roche_T3bellow99th[i]==0 && mydata_Roche_GFR$delta_Roche_per[i]>50){\n",
    "    \"Rule_in\"\n",
    " } else if(mydata_Roche_GFR$Roche_T0bellow99th[i]==0 && mydata_Roche_GFR$Roche_T0bellow5X99th[i]==0){\n",
    "    \"Rule_in\"\n",
    " } else if(mydata_Roche_GFR$Roche_T0bellow99th[i]==0 && mydata_Roche_GFR$Roche_T0bellow5X99th[i]==1 && mydata_Roche_GFR$Roche_T3bellow99th[i]==1){\n",
    "    \"Rule_out\"\n",
    " } else if(mydata_Roche_GFR$Roche_T0bellow99th[i]==0 && mydata_Roche_GFR$Roche_T0bellow5X99th[i]==1 && mydata_Roche_GFR$Roche_T3bellow99th[i]==0 && mydata_Roche_GFR$Roche_delta_perbellow20[i]==1){\n",
    "    \"Observe\"\n",
    " } else {\n",
    "    \"Rule_in\"\n",
    " }\n",
    "      }\n",
    "      \n",
    "table(mydata_Roche_GFR$Roche_pred,mydata_Roche_GFR$MI)\n",
    "prevalence_Roche_GFR=sum(mydata_Roche_GFR$MI)/nrow(mydata_Roche_GFR)\n",
    "prevalence_Roche_GFR"
   ]
  },
  {
   "cell_type": "markdown",
   "metadata": {},
   "source": [
    "## Abbott: Overall"
   ]
  },
  {
   "cell_type": "code",
   "execution_count": 18,
   "metadata": {},
   "outputs": [],
   "source": [
    "mydata_Abbott=mydata[,c('id',\n",
    "                        'age',\n",
    "                        'age_binary',\n",
    "                        'gender',\n",
    "                        'GFR',\n",
    "                        'renal_dysfunction',\n",
    "                        'admitted',\n",
    "                        'admitted_cardiac',\n",
    "                        'MI',\n",
    "                        'cardiac_catheter',\n",
    "                        'IPDAT_report',\n",
    "                        'test_date',\n",
    "                        'receipt_date',\n",
    "                        'diff',\n",
    "                        'diff_r',\n",
    "                        'CGRD_T0',\n",
    "                        'CGRD_T3',\n",
    "                        'Abbott_T0',\n",
    "                        'Abbott_T3',\n",
    "                        'delta_Abbott',\n",
    "                        'delta_Abbott_per')]"
   ]
  },
  {
   "cell_type": "code",
   "execution_count": 19,
   "metadata": {},
   "outputs": [],
   "source": [
    "mydata_Abbott$Abbott_T0bellow99th=ifelse(mydata_Abbott$Abbott_T0<=26,1,0)\n",
    "mydata_Abbott$Abbott_T0bellow5X99th=ifelse(mydata_Abbott$Abbott_T0<=26*5,1,0)\n",
    "mydata_Abbott$Abbott_T3bellow99th=ifelse(mydata_Abbott$Abbott_T3<=26,1,0)\n",
    "mydata_Abbott$Abbott_delta_perbellow20=ifelse(mydata_Abbott$delta_Abbott_per<=20,1,0)\n",
    "mydata_Abbott$Abbott_delta_perbellow50=ifelse(mydata_Abbott$delta_Abbott_per<=50,1,0)"
   ]
  },
  {
   "cell_type": "code",
   "execution_count": 20,
   "metadata": {},
   "outputs": [
    {
     "data": {
      "text/plain": [
       "          \n",
       "            0  1\n",
       "  Observe  22  1\n",
       "  Rule_in  41 10\n",
       "  Rule_out 53  0"
      ]
     },
     "metadata": {},
     "output_type": "display_data"
    },
    {
     "data": {
      "text/html": [
       "0.0866141732283465"
      ],
      "text/latex": [
       "0.0866141732283465"
      ],
      "text/markdown": [
       "0.0866141732283465"
      ],
      "text/plain": [
       "[1] 0.08661417"
      ]
     },
     "metadata": {},
     "output_type": "display_data"
    }
   ],
   "source": [
    "mydata_Abbott$Abbott_pred=array(0,nrow(mydata_Abbott))\n",
    "for(i in 1:nrow(mydata_Abbott)){\n",
    "  mydata_Abbott$Abbott_pred[i]=if(mydata_Abbott$Abbott_T0bellow99th[i]==1 && mydata_Abbott$Abbott_T3bellow99th[i]==1){\n",
    "    \"Rule_out\" \n",
    " } else if(mydata_Abbott$Abbott_T0bellow99th[i]==1 && mydata_Abbott$Abbott_T3bellow99th[i]==0 && mydata_Abbott$Abbott_delta_perbellow50[i]==1){\n",
    "    \"Observe\"\n",
    " } else if(mydata_Abbott$Abbott_T0bellow99th[i]==1 && mydata_Abbott$Abbott_T3bellow99th[i]==0 && mydata_Abbott$Abbott_delta_perbellow50[i]==0){\n",
    "    \"Rule_in\"\n",
    " } else if(mydata_Abbott$Abbott_T0bellow99th[i]==0 && mydata_Abbott$Abbott_T0bellow5X99th[i]==0){\n",
    "    \"Rule_in\"\n",
    " } else if(mydata_Abbott$Abbott_T0bellow99th[i]==0 && mydata_Abbott$Abbott_T0bellow5X99th[i]==1 && mydata_Abbott$Abbott_T3bellow99th[i]==1){\n",
    "    \"Rule_out\"\n",
    " } else if(mydata_Abbott$Abbott_T0bellow99th[i]==0 && mydata_Abbott$Abbott_T0bellow5X99th[i]==1 && mydata_Abbott$Abbott_T3bellow99th[i]==0 && mydata_Abbott$Abbott_delta_perbellow20[i]==1){\n",
    "    \"Observe\"\n",
    " } else {\n",
    "    \"Rule_in\"\n",
    " }\n",
    "      }\n",
    "\n",
    "table(mydata_Abbott$Abbott_pred,mydata_Abbott$MI)\n",
    "prevalence_Abbott=sum(mydata_Abbott$MI)/nrow(mydata_Abbott)\n",
    "prevalence_Abbott"
   ]
  },
  {
   "cell_type": "markdown",
   "metadata": {},
   "source": [
    "## Abbott: Age>70"
   ]
  },
  {
   "cell_type": "code",
   "execution_count": 21,
   "metadata": {},
   "outputs": [
    {
     "data": {
      "text/html": [
       "<table class=\"dataframe\">\n",
       "<caption>A data.frame: 6 × 27</caption>\n",
       "<thead>\n",
       "\t<tr><th></th><th scope=col>id</th><th scope=col>age</th><th scope=col>age_binary</th><th scope=col>gender</th><th scope=col>GFR</th><th scope=col>renal_dysfunction</th><th scope=col>admitted</th><th scope=col>admitted_cardiac</th><th scope=col>MI</th><th scope=col>cardiac_catheter</th><th scope=col>⋯</th><th scope=col>Abbott_T0</th><th scope=col>Abbott_T3</th><th scope=col>delta_Abbott</th><th scope=col>delta_Abbott_per</th><th scope=col>Abbott_T0bellow99th</th><th scope=col>Abbott_T0bellow5X99th</th><th scope=col>Abbott_T3bellow99th</th><th scope=col>Abbott_delta_perbellow20</th><th scope=col>Abbott_delta_perbellow50</th><th scope=col>Abbott_pred</th></tr>\n",
       "\t<tr><th></th><th scope=col>&lt;chr&gt;</th><th scope=col>&lt;int&gt;</th><th scope=col>&lt;int&gt;</th><th scope=col>&lt;int&gt;</th><th scope=col>&lt;dbl&gt;</th><th scope=col>&lt;int&gt;</th><th scope=col>&lt;int&gt;</th><th scope=col>&lt;int&gt;</th><th scope=col>&lt;int&gt;</th><th scope=col>&lt;int&gt;</th><th scope=col>⋯</th><th scope=col>&lt;dbl&gt;</th><th scope=col>&lt;int&gt;</th><th scope=col>&lt;int&gt;</th><th scope=col>&lt;int&gt;</th><th scope=col>&lt;dbl&gt;</th><th scope=col>&lt;dbl&gt;</th><th scope=col>&lt;dbl&gt;</th><th scope=col>&lt;dbl&gt;</th><th scope=col>&lt;dbl&gt;</th><th scope=col>&lt;chr&gt;</th></tr>\n",
       "</thead>\n",
       "<tbody>\n",
       "\t<tr><th scope=row>2</th><td>1044197</td><td>87</td><td>1</td><td>0</td><td> 50.51</td><td>1</td><td>0</td><td>0</td><td>0</td><td>0</td><td>⋯</td><td> 4.4</td><td> 5</td><td>1</td><td>11</td><td>1</td><td>1</td><td>1</td><td>1</td><td>1</td><td>Rule_out</td></tr>\n",
       "\t<tr><th scope=row>5</th><td>1098123</td><td>71</td><td>1</td><td>1</td><td> 59.37</td><td>1</td><td>0</td><td>0</td><td>0</td><td>0</td><td>⋯</td><td> 2.7</td><td> 3</td><td>1</td><td>19</td><td>1</td><td>1</td><td>1</td><td>1</td><td>1</td><td>Rule_out</td></tr>\n",
       "\t<tr><th scope=row>7</th><td>147950 </td><td>86</td><td>1</td><td>1</td><td>  8.83</td><td>1</td><td>1</td><td>0</td><td>0</td><td>0</td><td>⋯</td><td>66.8</td><td>67</td><td>0</td><td> 0</td><td>0</td><td>1</td><td>0</td><td>1</td><td>1</td><td>Observe </td></tr>\n",
       "\t<tr><th scope=row>8</th><td>150547 </td><td>78</td><td>1</td><td>0</td><td> 11.35</td><td>1</td><td>1</td><td>0</td><td>0</td><td>0</td><td>⋯</td><td>11.1</td><td>14</td><td>2</td><td>22</td><td>1</td><td>1</td><td>1</td><td>0</td><td>1</td><td>Rule_out</td></tr>\n",
       "\t<tr><th scope=row>12</th><td>2030944</td><td>79</td><td>1</td><td>1</td><td> 50.33</td><td>1</td><td>0</td><td>0</td><td>0</td><td>0</td><td>⋯</td><td>36.1</td><td>33</td><td>3</td><td> 9</td><td>0</td><td>1</td><td>0</td><td>1</td><td>1</td><td>Observe </td></tr>\n",
       "\t<tr><th scope=row>14</th><td>2396492</td><td>72</td><td>1</td><td>0</td><td>100.43</td><td>0</td><td>0</td><td>0</td><td>0</td><td>0</td><td>⋯</td><td> 4.0</td><td> 4</td><td>0</td><td> 8</td><td>1</td><td>1</td><td>1</td><td>1</td><td>1</td><td>Rule_out</td></tr>\n",
       "</tbody>\n",
       "</table>\n"
      ],
      "text/latex": [
       "A data.frame: 6 × 27\n",
       "\\begin{tabular}{r|lllllllllllllllllllll}\n",
       "  & id & age & age\\_binary & gender & GFR & renal\\_dysfunction & admitted & admitted\\_cardiac & MI & cardiac\\_catheter & ⋯ & Abbott\\_T0 & Abbott\\_T3 & delta\\_Abbott & delta\\_Abbott\\_per & Abbott\\_T0bellow99th & Abbott\\_T0bellow5X99th & Abbott\\_T3bellow99th & Abbott\\_delta\\_perbellow20 & Abbott\\_delta\\_perbellow50 & Abbott\\_pred\\\\\n",
       "  & <chr> & <int> & <int> & <int> & <dbl> & <int> & <int> & <int> & <int> & <int> & ⋯ & <dbl> & <int> & <int> & <int> & <dbl> & <dbl> & <dbl> & <dbl> & <dbl> & <chr>\\\\\n",
       "\\hline\n",
       "\t2 & 1044197 & 87 & 1 & 0 &  50.51 & 1 & 0 & 0 & 0 & 0 & ⋯ &  4.4 &  5 & 1 & 11 & 1 & 1 & 1 & 1 & 1 & Rule\\_out\\\\\n",
       "\t5 & 1098123 & 71 & 1 & 1 &  59.37 & 1 & 0 & 0 & 0 & 0 & ⋯ &  2.7 &  3 & 1 & 19 & 1 & 1 & 1 & 1 & 1 & Rule\\_out\\\\\n",
       "\t7 & 147950  & 86 & 1 & 1 &   8.83 & 1 & 1 & 0 & 0 & 0 & ⋯ & 66.8 & 67 & 0 &  0 & 0 & 1 & 0 & 1 & 1 & Observe \\\\\n",
       "\t8 & 150547  & 78 & 1 & 0 &  11.35 & 1 & 1 & 0 & 0 & 0 & ⋯ & 11.1 & 14 & 2 & 22 & 1 & 1 & 1 & 0 & 1 & Rule\\_out\\\\\n",
       "\t12 & 2030944 & 79 & 1 & 1 &  50.33 & 1 & 0 & 0 & 0 & 0 & ⋯ & 36.1 & 33 & 3 &  9 & 0 & 1 & 0 & 1 & 1 & Observe \\\\\n",
       "\t14 & 2396492 & 72 & 1 & 0 & 100.43 & 0 & 0 & 0 & 0 & 0 & ⋯ &  4.0 &  4 & 0 &  8 & 1 & 1 & 1 & 1 & 1 & Rule\\_out\\\\\n",
       "\\end{tabular}\n"
      ],
      "text/markdown": [
       "\n",
       "A data.frame: 6 × 27\n",
       "\n",
       "| <!--/--> | id &lt;chr&gt; | age &lt;int&gt; | age_binary &lt;int&gt; | gender &lt;int&gt; | GFR &lt;dbl&gt; | renal_dysfunction &lt;int&gt; | admitted &lt;int&gt; | admitted_cardiac &lt;int&gt; | MI &lt;int&gt; | cardiac_catheter &lt;int&gt; | ⋯ ⋯ | Abbott_T0 &lt;dbl&gt; | Abbott_T3 &lt;int&gt; | delta_Abbott &lt;int&gt; | delta_Abbott_per &lt;int&gt; | Abbott_T0bellow99th &lt;dbl&gt; | Abbott_T0bellow5X99th &lt;dbl&gt; | Abbott_T3bellow99th &lt;dbl&gt; | Abbott_delta_perbellow20 &lt;dbl&gt; | Abbott_delta_perbellow50 &lt;dbl&gt; | Abbott_pred &lt;chr&gt; |\n",
       "|---|---|---|---|---|---|---|---|---|---|---|---|---|---|---|---|---|---|---|---|---|---|\n",
       "| 2 | 1044197 | 87 | 1 | 0 |  50.51 | 1 | 0 | 0 | 0 | 0 | ⋯ |  4.4 |  5 | 1 | 11 | 1 | 1 | 1 | 1 | 1 | Rule_out |\n",
       "| 5 | 1098123 | 71 | 1 | 1 |  59.37 | 1 | 0 | 0 | 0 | 0 | ⋯ |  2.7 |  3 | 1 | 19 | 1 | 1 | 1 | 1 | 1 | Rule_out |\n",
       "| 7 | 147950  | 86 | 1 | 1 |   8.83 | 1 | 1 | 0 | 0 | 0 | ⋯ | 66.8 | 67 | 0 |  0 | 0 | 1 | 0 | 1 | 1 | Observe  |\n",
       "| 8 | 150547  | 78 | 1 | 0 |  11.35 | 1 | 1 | 0 | 0 | 0 | ⋯ | 11.1 | 14 | 2 | 22 | 1 | 1 | 1 | 0 | 1 | Rule_out |\n",
       "| 12 | 2030944 | 79 | 1 | 1 |  50.33 | 1 | 0 | 0 | 0 | 0 | ⋯ | 36.1 | 33 | 3 |  9 | 0 | 1 | 0 | 1 | 1 | Observe  |\n",
       "| 14 | 2396492 | 72 | 1 | 0 | 100.43 | 0 | 0 | 0 | 0 | 0 | ⋯ |  4.0 |  4 | 0 |  8 | 1 | 1 | 1 | 1 | 1 | Rule_out |\n",
       "\n"
      ],
      "text/plain": [
       "   id      age age_binary gender GFR    renal_dysfunction admitted\n",
       "2  1044197 87  1          0       50.51 1                 0       \n",
       "5  1098123 71  1          1       59.37 1                 0       \n",
       "7  147950  86  1          1        8.83 1                 1       \n",
       "8  150547  78  1          0       11.35 1                 1       \n",
       "12 2030944 79  1          1       50.33 1                 0       \n",
       "14 2396492 72  1          0      100.43 0                 0       \n",
       "   admitted_cardiac MI cardiac_catheter ⋯ Abbott_T0 Abbott_T3 delta_Abbott\n",
       "2  0                0  0                ⋯  4.4       5        1           \n",
       "5  0                0  0                ⋯  2.7       3        1           \n",
       "7  0                0  0                ⋯ 66.8      67        0           \n",
       "8  0                0  0                ⋯ 11.1      14        2           \n",
       "12 0                0  0                ⋯ 36.1      33        3           \n",
       "14 0                0  0                ⋯  4.0       4        0           \n",
       "   delta_Abbott_per Abbott_T0bellow99th Abbott_T0bellow5X99th\n",
       "2  11               1                   1                    \n",
       "5  19               1                   1                    \n",
       "7   0               0                   1                    \n",
       "8  22               1                   1                    \n",
       "12  9               0                   1                    \n",
       "14  8               1                   1                    \n",
       "   Abbott_T3bellow99th Abbott_delta_perbellow20 Abbott_delta_perbellow50\n",
       "2  1                   1                        1                       \n",
       "5  1                   1                        1                       \n",
       "7  0                   1                        1                       \n",
       "8  1                   0                        1                       \n",
       "12 0                   1                        1                       \n",
       "14 1                   1                        1                       \n",
       "   Abbott_pred\n",
       "2  Rule_out   \n",
       "5  Rule_out   \n",
       "7  Observe    \n",
       "8  Rule_out   \n",
       "12 Observe    \n",
       "14 Rule_out   "
      ]
     },
     "metadata": {},
     "output_type": "display_data"
    }
   ],
   "source": [
    "mydata_Abbott_old=mydata_Abbott[which(mydata_Abbott$age_binary==1),]\n",
    "head(mydata_Abbott_old)"
   ]
  },
  {
   "cell_type": "code",
   "execution_count": 22,
   "metadata": {},
   "outputs": [],
   "source": [
    "mydata_Abbott_old$Abbott_T0bellow99th=ifelse(mydata_Abbott_old$Abbott_T0<=32,1,0)\n",
    "mydata_Abbott_old$Abbott_T0bellow5X99th=ifelse(mydata_Abbott_old$Abbott_T0<=32*5,1,0)\n",
    "mydata_Abbott_old$Abbott_T3bellow99th=ifelse(mydata_Abbott_old$Abbott_T3<=32,1,0)\n",
    "mydata_Abbott_old$Abbott_delta_perbellow20=ifelse(mydata_Abbott_old$delta_Abbott_per<=20,1,0)"
   ]
  },
  {
   "cell_type": "code",
   "execution_count": 23,
   "metadata": {},
   "outputs": [
    {
     "data": {
      "text/plain": [
       "          \n",
       "            0  1\n",
       "  Observe   9  0\n",
       "  Rule_in  24  3\n",
       "  Rule_out 33  0"
      ]
     },
     "metadata": {},
     "output_type": "display_data"
    },
    {
     "data": {
      "text/html": [
       "0.0434782608695652"
      ],
      "text/latex": [
       "0.0434782608695652"
      ],
      "text/markdown": [
       "0.0434782608695652"
      ],
      "text/plain": [
       "[1] 0.04347826"
      ]
     },
     "metadata": {},
     "output_type": "display_data"
    }
   ],
   "source": [
    "mydata_Abbott_old$Abbott_pred=array(0,nrow(mydata_Abbott_old))\n",
    "for(i in 1:nrow(mydata_Abbott_old)){\n",
    "  mydata_Abbott_old$Abbott_pred[i]=if(mydata_Abbott_old$Abbott_T0bellow99th[i]==1 && mydata_Abbott_old$Abbott_T3bellow99th[i]==1){\n",
    "    \"Rule_out\" \n",
    " } else if(mydata_Abbott_old$Abbott_T0bellow99th[i]==1 && mydata_Abbott_old$Abbott_T3bellow99th[i]==0 && mydata_Abbott_old$delta_Abbott_per[i]<=50){\n",
    "    \"Observe\"\n",
    " } else if(mydata_Abbott_old$Abbott_T0bellow99th[i]==1 && mydata_Abbott_old$Abbott_T3bellow99th[i]==0 && mydata_Abbott_old$delta_Abbott_per[i]>50){\n",
    "    \"Rule_in\"\n",
    " } else if(mydata_Abbott_old$Abbott_T0bellow99th[i]==0 && mydata_Abbott_old$Abbott_T0bellow5X99th[i]==0){\n",
    "    \"Rule_in\"\n",
    " } else if(mydata_Abbott_old$Abbott_T0bellow99th[i]==0 && mydata_Abbott_old$Abbott_T0bellow5X99th[i]==1 && mydata_Abbott_old$Abbott_T3bellow99th[i]==1){\n",
    "    \"Rule_out\"\n",
    " } else if(mydata_Abbott_old$Abbott_T0bellow99th[i]==0 && mydata_Abbott_old$Abbott_T0bellow5X99th[i]==1 && mydata_Abbott_old$Abbott_T3bellow99th[i]==0 && mydata_Abbott_old$Abbott_delta_perbellow20[i]==1){\n",
    "    \"Observe\"\n",
    " } else {\n",
    "    \"Rule_in\"\n",
    " }\n",
    "      }\n",
    "      \n",
    "table(mydata_Abbott_old$Abbott_pred,mydata_Abbott_old$MI)\n",
    "prevalence_Abbott_old=sum(mydata_Abbott_old$MI)/nrow(mydata_Abbott_old)\n",
    "prevalence_Abbott_old"
   ]
  },
  {
   "cell_type": "markdown",
   "metadata": {},
   "source": [
    "## Abbott: Gender (Male)"
   ]
  },
  {
   "cell_type": "code",
   "execution_count": 24,
   "metadata": {},
   "outputs": [
    {
     "data": {
      "text/html": [
       "<table class=\"dataframe\">\n",
       "<caption>A data.frame: 6 × 27</caption>\n",
       "<thead>\n",
       "\t<tr><th></th><th scope=col>id</th><th scope=col>age</th><th scope=col>age_binary</th><th scope=col>gender</th><th scope=col>GFR</th><th scope=col>renal_dysfunction</th><th scope=col>admitted</th><th scope=col>admitted_cardiac</th><th scope=col>MI</th><th scope=col>cardiac_catheter</th><th scope=col>⋯</th><th scope=col>Abbott_T0</th><th scope=col>Abbott_T3</th><th scope=col>delta_Abbott</th><th scope=col>delta_Abbott_per</th><th scope=col>Abbott_T0bellow99th</th><th scope=col>Abbott_T0bellow5X99th</th><th scope=col>Abbott_T3bellow99th</th><th scope=col>Abbott_delta_perbellow20</th><th scope=col>Abbott_delta_perbellow50</th><th scope=col>Abbott_pred</th></tr>\n",
       "\t<tr><th></th><th scope=col>&lt;chr&gt;</th><th scope=col>&lt;int&gt;</th><th scope=col>&lt;int&gt;</th><th scope=col>&lt;int&gt;</th><th scope=col>&lt;dbl&gt;</th><th scope=col>&lt;int&gt;</th><th scope=col>&lt;int&gt;</th><th scope=col>&lt;int&gt;</th><th scope=col>&lt;int&gt;</th><th scope=col>&lt;int&gt;</th><th scope=col>⋯</th><th scope=col>&lt;dbl&gt;</th><th scope=col>&lt;int&gt;</th><th scope=col>&lt;int&gt;</th><th scope=col>&lt;int&gt;</th><th scope=col>&lt;dbl&gt;</th><th scope=col>&lt;dbl&gt;</th><th scope=col>&lt;dbl&gt;</th><th scope=col>&lt;dbl&gt;</th><th scope=col>&lt;dbl&gt;</th><th scope=col>&lt;chr&gt;</th></tr>\n",
       "</thead>\n",
       "<tbody>\n",
       "\t<tr><th scope=row>4</th><td>1073023</td><td>62</td><td>0</td><td>1</td><td>21.43</td><td>1</td><td>0</td><td>0</td><td>0</td><td>0</td><td>⋯</td><td>13.0</td><td>16</td><td>3</td><td>21</td><td>1</td><td>1</td><td>1</td><td>0</td><td>1</td><td>Rule_out</td></tr>\n",
       "\t<tr><th scope=row>5</th><td>1098123</td><td>71</td><td>1</td><td>1</td><td>59.37</td><td>1</td><td>0</td><td>0</td><td>0</td><td>0</td><td>⋯</td><td> 2.7</td><td> 3</td><td>1</td><td>19</td><td>1</td><td>1</td><td>1</td><td>1</td><td>1</td><td>Rule_out</td></tr>\n",
       "\t<tr><th scope=row>7</th><td>147950 </td><td>86</td><td>1</td><td>1</td><td> 8.83</td><td>1</td><td>1</td><td>0</td><td>0</td><td>0</td><td>⋯</td><td>66.8</td><td>67</td><td>0</td><td> 0</td><td>0</td><td>1</td><td>0</td><td>1</td><td>1</td><td>Observe </td></tr>\n",
       "\t<tr><th scope=row>12</th><td>2030944</td><td>79</td><td>1</td><td>1</td><td>50.33</td><td>1</td><td>0</td><td>0</td><td>0</td><td>0</td><td>⋯</td><td>36.1</td><td>33</td><td>3</td><td> 9</td><td>0</td><td>1</td><td>0</td><td>1</td><td>1</td><td>Observe </td></tr>\n",
       "\t<tr><th scope=row>15</th><td>2694486</td><td>57</td><td>0</td><td>1</td><td> 5.52</td><td>1</td><td>1</td><td>0</td><td>0</td><td>0</td><td>⋯</td><td>36.7</td><td>44</td><td>7</td><td>20</td><td>0</td><td>1</td><td>0</td><td>1</td><td>1</td><td>Observe </td></tr>\n",
       "\t<tr><th scope=row>16</th><td>3036649</td><td>57</td><td>0</td><td>1</td><td>34.78</td><td>1</td><td>1</td><td>0</td><td>0</td><td>0</td><td>⋯</td><td>29.7</td><td>31</td><td>2</td><td> 5</td><td>0</td><td>1</td><td>0</td><td>1</td><td>1</td><td>Observe </td></tr>\n",
       "</tbody>\n",
       "</table>\n"
      ],
      "text/latex": [
       "A data.frame: 6 × 27\n",
       "\\begin{tabular}{r|lllllllllllllllllllll}\n",
       "  & id & age & age\\_binary & gender & GFR & renal\\_dysfunction & admitted & admitted\\_cardiac & MI & cardiac\\_catheter & ⋯ & Abbott\\_T0 & Abbott\\_T3 & delta\\_Abbott & delta\\_Abbott\\_per & Abbott\\_T0bellow99th & Abbott\\_T0bellow5X99th & Abbott\\_T3bellow99th & Abbott\\_delta\\_perbellow20 & Abbott\\_delta\\_perbellow50 & Abbott\\_pred\\\\\n",
       "  & <chr> & <int> & <int> & <int> & <dbl> & <int> & <int> & <int> & <int> & <int> & ⋯ & <dbl> & <int> & <int> & <int> & <dbl> & <dbl> & <dbl> & <dbl> & <dbl> & <chr>\\\\\n",
       "\\hline\n",
       "\t4 & 1073023 & 62 & 0 & 1 & 21.43 & 1 & 0 & 0 & 0 & 0 & ⋯ & 13.0 & 16 & 3 & 21 & 1 & 1 & 1 & 0 & 1 & Rule\\_out\\\\\n",
       "\t5 & 1098123 & 71 & 1 & 1 & 59.37 & 1 & 0 & 0 & 0 & 0 & ⋯ &  2.7 &  3 & 1 & 19 & 1 & 1 & 1 & 1 & 1 & Rule\\_out\\\\\n",
       "\t7 & 147950  & 86 & 1 & 1 &  8.83 & 1 & 1 & 0 & 0 & 0 & ⋯ & 66.8 & 67 & 0 &  0 & 0 & 1 & 0 & 1 & 1 & Observe \\\\\n",
       "\t12 & 2030944 & 79 & 1 & 1 & 50.33 & 1 & 0 & 0 & 0 & 0 & ⋯ & 36.1 & 33 & 3 &  9 & 0 & 1 & 0 & 1 & 1 & Observe \\\\\n",
       "\t15 & 2694486 & 57 & 0 & 1 &  5.52 & 1 & 1 & 0 & 0 & 0 & ⋯ & 36.7 & 44 & 7 & 20 & 0 & 1 & 0 & 1 & 1 & Observe \\\\\n",
       "\t16 & 3036649 & 57 & 0 & 1 & 34.78 & 1 & 1 & 0 & 0 & 0 & ⋯ & 29.7 & 31 & 2 &  5 & 0 & 1 & 0 & 1 & 1 & Observe \\\\\n",
       "\\end{tabular}\n"
      ],
      "text/markdown": [
       "\n",
       "A data.frame: 6 × 27\n",
       "\n",
       "| <!--/--> | id &lt;chr&gt; | age &lt;int&gt; | age_binary &lt;int&gt; | gender &lt;int&gt; | GFR &lt;dbl&gt; | renal_dysfunction &lt;int&gt; | admitted &lt;int&gt; | admitted_cardiac &lt;int&gt; | MI &lt;int&gt; | cardiac_catheter &lt;int&gt; | ⋯ ⋯ | Abbott_T0 &lt;dbl&gt; | Abbott_T3 &lt;int&gt; | delta_Abbott &lt;int&gt; | delta_Abbott_per &lt;int&gt; | Abbott_T0bellow99th &lt;dbl&gt; | Abbott_T0bellow5X99th &lt;dbl&gt; | Abbott_T3bellow99th &lt;dbl&gt; | Abbott_delta_perbellow20 &lt;dbl&gt; | Abbott_delta_perbellow50 &lt;dbl&gt; | Abbott_pred &lt;chr&gt; |\n",
       "|---|---|---|---|---|---|---|---|---|---|---|---|---|---|---|---|---|---|---|---|---|---|\n",
       "| 4 | 1073023 | 62 | 0 | 1 | 21.43 | 1 | 0 | 0 | 0 | 0 | ⋯ | 13.0 | 16 | 3 | 21 | 1 | 1 | 1 | 0 | 1 | Rule_out |\n",
       "| 5 | 1098123 | 71 | 1 | 1 | 59.37 | 1 | 0 | 0 | 0 | 0 | ⋯ |  2.7 |  3 | 1 | 19 | 1 | 1 | 1 | 1 | 1 | Rule_out |\n",
       "| 7 | 147950  | 86 | 1 | 1 |  8.83 | 1 | 1 | 0 | 0 | 0 | ⋯ | 66.8 | 67 | 0 |  0 | 0 | 1 | 0 | 1 | 1 | Observe  |\n",
       "| 12 | 2030944 | 79 | 1 | 1 | 50.33 | 1 | 0 | 0 | 0 | 0 | ⋯ | 36.1 | 33 | 3 |  9 | 0 | 1 | 0 | 1 | 1 | Observe  |\n",
       "| 15 | 2694486 | 57 | 0 | 1 |  5.52 | 1 | 1 | 0 | 0 | 0 | ⋯ | 36.7 | 44 | 7 | 20 | 0 | 1 | 0 | 1 | 1 | Observe  |\n",
       "| 16 | 3036649 | 57 | 0 | 1 | 34.78 | 1 | 1 | 0 | 0 | 0 | ⋯ | 29.7 | 31 | 2 |  5 | 0 | 1 | 0 | 1 | 1 | Observe  |\n",
       "\n"
      ],
      "text/plain": [
       "   id      age age_binary gender GFR   renal_dysfunction admitted\n",
       "4  1073023 62  0          1      21.43 1                 0       \n",
       "5  1098123 71  1          1      59.37 1                 0       \n",
       "7  147950  86  1          1       8.83 1                 1       \n",
       "12 2030944 79  1          1      50.33 1                 0       \n",
       "15 2694486 57  0          1       5.52 1                 1       \n",
       "16 3036649 57  0          1      34.78 1                 1       \n",
       "   admitted_cardiac MI cardiac_catheter ⋯ Abbott_T0 Abbott_T3 delta_Abbott\n",
       "4  0                0  0                ⋯ 13.0      16        3           \n",
       "5  0                0  0                ⋯  2.7       3        1           \n",
       "7  0                0  0                ⋯ 66.8      67        0           \n",
       "12 0                0  0                ⋯ 36.1      33        3           \n",
       "15 0                0  0                ⋯ 36.7      44        7           \n",
       "16 0                0  0                ⋯ 29.7      31        2           \n",
       "   delta_Abbott_per Abbott_T0bellow99th Abbott_T0bellow5X99th\n",
       "4  21               1                   1                    \n",
       "5  19               1                   1                    \n",
       "7   0               0                   1                    \n",
       "12  9               0                   1                    \n",
       "15 20               0                   1                    \n",
       "16  5               0                   1                    \n",
       "   Abbott_T3bellow99th Abbott_delta_perbellow20 Abbott_delta_perbellow50\n",
       "4  1                   0                        1                       \n",
       "5  1                   1                        1                       \n",
       "7  0                   1                        1                       \n",
       "12 0                   1                        1                       \n",
       "15 0                   1                        1                       \n",
       "16 0                   1                        1                       \n",
       "   Abbott_pred\n",
       "4  Rule_out   \n",
       "5  Rule_out   \n",
       "7  Observe    \n",
       "12 Observe    \n",
       "15 Observe    \n",
       "16 Observe    "
      ]
     },
     "metadata": {},
     "output_type": "display_data"
    }
   ],
   "source": [
    "mydata_Abbott_male=mydata_Abbott[which(mydata_Abbott$gender==1),]\n",
    "head(mydata_Abbott_male)"
   ]
  },
  {
   "cell_type": "code",
   "execution_count": 25,
   "metadata": {},
   "outputs": [],
   "source": [
    "mydata_Abbott_male$Abbott_T0bellow99th=ifelse(mydata_Abbott_male$Abbott_T0<=34,1,0)\n",
    "mydata_Abbott_male$Abbott_T0bellow5X99th=ifelse(mydata_Abbott_male$Abbott_T0<=34*5,1,0)\n",
    "mydata_Abbott_male$Abbott_T3bellow99th=ifelse(mydata_Abbott_male$Abbott_T3<=34,1,0)\n",
    "mydata_Abbott_male$Abbott_delta_perbellow20=ifelse(mydata_Abbott_male$delta_Abbott_per<=20,1,0)"
   ]
  },
  {
   "cell_type": "code",
   "execution_count": 26,
   "metadata": {},
   "outputs": [
    {
     "data": {
      "text/plain": [
       "          \n",
       "            0  1\n",
       "  Observe  11  1\n",
       "  Rule_in  24  8\n",
       "  Rule_out 27  0"
      ]
     },
     "metadata": {},
     "output_type": "display_data"
    },
    {
     "data": {
      "text/html": [
       "0.126760563380282"
      ],
      "text/latex": [
       "0.126760563380282"
      ],
      "text/markdown": [
       "0.126760563380282"
      ],
      "text/plain": [
       "[1] 0.1267606"
      ]
     },
     "metadata": {},
     "output_type": "display_data"
    }
   ],
   "source": [
    "mydata_Abbott_male$Abbott_pred=array(0,nrow(mydata_Abbott_male))\n",
    "for(i in 1:nrow(mydata_Abbott_male)){\n",
    "  mydata_Abbott_male$Abbott_pred[i]=if(mydata_Abbott_male$Abbott_T0bellow99th[i]==1 && mydata_Abbott_male$Abbott_T3bellow99th[i]==1){\n",
    "    \"Rule_out\" \n",
    " } else if(mydata_Abbott_male$Abbott_T0bellow99th[i]==1 && mydata_Abbott_male$Abbott_T3bellow99th[i]==0 && mydata_Abbott_male$delta_Abbott_per[i]<=50){\n",
    "    \"Observe\"\n",
    " } else if(mydata_Abbott_male$Abbott_T0bellow99th[i]==1 && mydata_Abbott_male$Abbott_T3bellow99th[i]==0 && mydata_Abbott_male$delta_Abbott_per[i]>50){\n",
    "    \"Rule_in\"\n",
    " } else if(mydata_Abbott_male$Abbott_T0bellow99th[i]==0 && mydata_Abbott_male$Abbott_T0bellow5X99th[i]==0){\n",
    "    \"Rule_in\"\n",
    " } else if(mydata_Abbott_male$Abbott_T0bellow99th[i]==0 && mydata_Abbott_male$Abbott_T0bellow5X99th[i]==1 && mydata_Abbott_male$Abbott_T3bellow99th[i]==1){\n",
    "    \"Rule_out\"\n",
    " } else if(mydata_Abbott_male$Abbott_T0bellow99th[i]==0 && mydata_Abbott_male$Abbott_T0bellow5X99th[i]==1 && mydata_Abbott_male$Abbott_T3bellow99th[i]==0 && mydata_Abbott_male$Abbott_delta_perbellow20[i]==1){\n",
    "    \"Observe\"\n",
    " } else {\n",
    "    \"Rule_in\"\n",
    " }\n",
    "      }\n",
    "      \n",
    "table(mydata_Abbott_male$Abbott_pred,mydata_Abbott_male$MI)\n",
    "prevalence_Abbott_male=sum(mydata_Abbott_male$MI)/nrow(mydata_Abbott_male)\n",
    "prevalence_Abbott_male"
   ]
  },
  {
   "cell_type": "markdown",
   "metadata": {},
   "source": [
    "## Abbott: Gender (Female)"
   ]
  },
  {
   "cell_type": "code",
   "execution_count": 27,
   "metadata": {},
   "outputs": [
    {
     "data": {
      "text/html": [
       "<table class=\"dataframe\">\n",
       "<caption>A data.frame: 6 × 27</caption>\n",
       "<thead>\n",
       "\t<tr><th></th><th scope=col>id</th><th scope=col>age</th><th scope=col>age_binary</th><th scope=col>gender</th><th scope=col>GFR</th><th scope=col>renal_dysfunction</th><th scope=col>admitted</th><th scope=col>admitted_cardiac</th><th scope=col>MI</th><th scope=col>cardiac_catheter</th><th scope=col>⋯</th><th scope=col>Abbott_T0</th><th scope=col>Abbott_T3</th><th scope=col>delta_Abbott</th><th scope=col>delta_Abbott_per</th><th scope=col>Abbott_T0bellow99th</th><th scope=col>Abbott_T0bellow5X99th</th><th scope=col>Abbott_T3bellow99th</th><th scope=col>Abbott_delta_perbellow20</th><th scope=col>Abbott_delta_perbellow50</th><th scope=col>Abbott_pred</th></tr>\n",
       "\t<tr><th></th><th scope=col>&lt;chr&gt;</th><th scope=col>&lt;int&gt;</th><th scope=col>&lt;int&gt;</th><th scope=col>&lt;int&gt;</th><th scope=col>&lt;dbl&gt;</th><th scope=col>&lt;int&gt;</th><th scope=col>&lt;int&gt;</th><th scope=col>&lt;int&gt;</th><th scope=col>&lt;int&gt;</th><th scope=col>&lt;int&gt;</th><th scope=col>⋯</th><th scope=col>&lt;dbl&gt;</th><th scope=col>&lt;int&gt;</th><th scope=col>&lt;int&gt;</th><th scope=col>&lt;int&gt;</th><th scope=col>&lt;dbl&gt;</th><th scope=col>&lt;dbl&gt;</th><th scope=col>&lt;dbl&gt;</th><th scope=col>&lt;dbl&gt;</th><th scope=col>&lt;dbl&gt;</th><th scope=col>&lt;chr&gt;</th></tr>\n",
       "</thead>\n",
       "<tbody>\n",
       "\t<tr><th scope=row>1</th><td>10199119</td><td>62</td><td>0</td><td>0</td><td>107.71</td><td>0</td><td>0</td><td>0</td><td>0</td><td>0</td><td>⋯</td><td>  4.5</td><td>  9</td><td> 4</td><td>93</td><td>1</td><td>1</td><td>1</td><td>0</td><td>0</td><td>Rule_out</td></tr>\n",
       "\t<tr><th scope=row>2</th><td>1044197 </td><td>87</td><td>1</td><td>0</td><td> 50.51</td><td>1</td><td>0</td><td>0</td><td>0</td><td>0</td><td>⋯</td><td>  4.4</td><td>  5</td><td> 1</td><td>11</td><td>1</td><td>1</td><td>1</td><td>1</td><td>1</td><td>Rule_out</td></tr>\n",
       "\t<tr><th scope=row>3</th><td>10588102</td><td>26</td><td>0</td><td>0</td><td>131.41</td><td>0</td><td>0</td><td>0</td><td>0</td><td>0</td><td>⋯</td><td>  2.3</td><td>  2</td><td> 0</td><td>13</td><td>1</td><td>1</td><td>1</td><td>1</td><td>1</td><td>Rule_out</td></tr>\n",
       "\t<tr><th scope=row>6</th><td>1107763 </td><td>60</td><td>0</td><td>0</td><td>  2.44</td><td>1</td><td>0</td><td>0</td><td>0</td><td>0</td><td>⋯</td><td> 17.4</td><td> 26</td><td> 9</td><td>51</td><td>1</td><td>1</td><td>1</td><td>0</td><td>0</td><td>Rule_out</td></tr>\n",
       "\t<tr><th scope=row>8</th><td>150547  </td><td>78</td><td>1</td><td>0</td><td> 11.35</td><td>1</td><td>1</td><td>0</td><td>0</td><td>0</td><td>⋯</td><td> 11.1</td><td> 14</td><td> 2</td><td>22</td><td>1</td><td>1</td><td>1</td><td>0</td><td>1</td><td>Rule_out</td></tr>\n",
       "\t<tr><th scope=row>9</th><td>1839516 </td><td>44</td><td>0</td><td>0</td><td>109.26</td><td>0</td><td>1</td><td>0</td><td>0</td><td>0</td><td>⋯</td><td>430.5</td><td>401</td><td>30</td><td> 7</td><td>0</td><td>0</td><td>0</td><td>1</td><td>1</td><td>Rule_in </td></tr>\n",
       "</tbody>\n",
       "</table>\n"
      ],
      "text/latex": [
       "A data.frame: 6 × 27\n",
       "\\begin{tabular}{r|lllllllllllllllllllll}\n",
       "  & id & age & age\\_binary & gender & GFR & renal\\_dysfunction & admitted & admitted\\_cardiac & MI & cardiac\\_catheter & ⋯ & Abbott\\_T0 & Abbott\\_T3 & delta\\_Abbott & delta\\_Abbott\\_per & Abbott\\_T0bellow99th & Abbott\\_T0bellow5X99th & Abbott\\_T3bellow99th & Abbott\\_delta\\_perbellow20 & Abbott\\_delta\\_perbellow50 & Abbott\\_pred\\\\\n",
       "  & <chr> & <int> & <int> & <int> & <dbl> & <int> & <int> & <int> & <int> & <int> & ⋯ & <dbl> & <int> & <int> & <int> & <dbl> & <dbl> & <dbl> & <dbl> & <dbl> & <chr>\\\\\n",
       "\\hline\n",
       "\t1 & 10199119 & 62 & 0 & 0 & 107.71 & 0 & 0 & 0 & 0 & 0 & ⋯ &   4.5 &   9 &  4 & 93 & 1 & 1 & 1 & 0 & 0 & Rule\\_out\\\\\n",
       "\t2 & 1044197  & 87 & 1 & 0 &  50.51 & 1 & 0 & 0 & 0 & 0 & ⋯ &   4.4 &   5 &  1 & 11 & 1 & 1 & 1 & 1 & 1 & Rule\\_out\\\\\n",
       "\t3 & 10588102 & 26 & 0 & 0 & 131.41 & 0 & 0 & 0 & 0 & 0 & ⋯ &   2.3 &   2 &  0 & 13 & 1 & 1 & 1 & 1 & 1 & Rule\\_out\\\\\n",
       "\t6 & 1107763  & 60 & 0 & 0 &   2.44 & 1 & 0 & 0 & 0 & 0 & ⋯ &  17.4 &  26 &  9 & 51 & 1 & 1 & 1 & 0 & 0 & Rule\\_out\\\\\n",
       "\t8 & 150547   & 78 & 1 & 0 &  11.35 & 1 & 1 & 0 & 0 & 0 & ⋯ &  11.1 &  14 &  2 & 22 & 1 & 1 & 1 & 0 & 1 & Rule\\_out\\\\\n",
       "\t9 & 1839516  & 44 & 0 & 0 & 109.26 & 0 & 1 & 0 & 0 & 0 & ⋯ & 430.5 & 401 & 30 &  7 & 0 & 0 & 0 & 1 & 1 & Rule\\_in \\\\\n",
       "\\end{tabular}\n"
      ],
      "text/markdown": [
       "\n",
       "A data.frame: 6 × 27\n",
       "\n",
       "| <!--/--> | id &lt;chr&gt; | age &lt;int&gt; | age_binary &lt;int&gt; | gender &lt;int&gt; | GFR &lt;dbl&gt; | renal_dysfunction &lt;int&gt; | admitted &lt;int&gt; | admitted_cardiac &lt;int&gt; | MI &lt;int&gt; | cardiac_catheter &lt;int&gt; | ⋯ ⋯ | Abbott_T0 &lt;dbl&gt; | Abbott_T3 &lt;int&gt; | delta_Abbott &lt;int&gt; | delta_Abbott_per &lt;int&gt; | Abbott_T0bellow99th &lt;dbl&gt; | Abbott_T0bellow5X99th &lt;dbl&gt; | Abbott_T3bellow99th &lt;dbl&gt; | Abbott_delta_perbellow20 &lt;dbl&gt; | Abbott_delta_perbellow50 &lt;dbl&gt; | Abbott_pred &lt;chr&gt; |\n",
       "|---|---|---|---|---|---|---|---|---|---|---|---|---|---|---|---|---|---|---|---|---|---|\n",
       "| 1 | 10199119 | 62 | 0 | 0 | 107.71 | 0 | 0 | 0 | 0 | 0 | ⋯ |   4.5 |   9 |  4 | 93 | 1 | 1 | 1 | 0 | 0 | Rule_out |\n",
       "| 2 | 1044197  | 87 | 1 | 0 |  50.51 | 1 | 0 | 0 | 0 | 0 | ⋯ |   4.4 |   5 |  1 | 11 | 1 | 1 | 1 | 1 | 1 | Rule_out |\n",
       "| 3 | 10588102 | 26 | 0 | 0 | 131.41 | 0 | 0 | 0 | 0 | 0 | ⋯ |   2.3 |   2 |  0 | 13 | 1 | 1 | 1 | 1 | 1 | Rule_out |\n",
       "| 6 | 1107763  | 60 | 0 | 0 |   2.44 | 1 | 0 | 0 | 0 | 0 | ⋯ |  17.4 |  26 |  9 | 51 | 1 | 1 | 1 | 0 | 0 | Rule_out |\n",
       "| 8 | 150547   | 78 | 1 | 0 |  11.35 | 1 | 1 | 0 | 0 | 0 | ⋯ |  11.1 |  14 |  2 | 22 | 1 | 1 | 1 | 0 | 1 | Rule_out |\n",
       "| 9 | 1839516  | 44 | 0 | 0 | 109.26 | 0 | 1 | 0 | 0 | 0 | ⋯ | 430.5 | 401 | 30 |  7 | 0 | 0 | 0 | 1 | 1 | Rule_in  |\n",
       "\n"
      ],
      "text/plain": [
       "  id       age age_binary gender GFR    renal_dysfunction admitted\n",
       "1 10199119 62  0          0      107.71 0                 0       \n",
       "2 1044197  87  1          0       50.51 1                 0       \n",
       "3 10588102 26  0          0      131.41 0                 0       \n",
       "6 1107763  60  0          0        2.44 1                 0       \n",
       "8 150547   78  1          0       11.35 1                 1       \n",
       "9 1839516  44  0          0      109.26 0                 1       \n",
       "  admitted_cardiac MI cardiac_catheter ⋯ Abbott_T0 Abbott_T3 delta_Abbott\n",
       "1 0                0  0                ⋯   4.5       9        4          \n",
       "2 0                0  0                ⋯   4.4       5        1          \n",
       "3 0                0  0                ⋯   2.3       2        0          \n",
       "6 0                0  0                ⋯  17.4      26        9          \n",
       "8 0                0  0                ⋯  11.1      14        2          \n",
       "9 0                0  0                ⋯ 430.5     401       30          \n",
       "  delta_Abbott_per Abbott_T0bellow99th Abbott_T0bellow5X99th\n",
       "1 93               1                   1                    \n",
       "2 11               1                   1                    \n",
       "3 13               1                   1                    \n",
       "6 51               1                   1                    \n",
       "8 22               1                   1                    \n",
       "9  7               0                   0                    \n",
       "  Abbott_T3bellow99th Abbott_delta_perbellow20 Abbott_delta_perbellow50\n",
       "1 1                   0                        0                       \n",
       "2 1                   1                        1                       \n",
       "3 1                   1                        1                       \n",
       "6 1                   0                        0                       \n",
       "8 1                   0                        1                       \n",
       "9 0                   1                        1                       \n",
       "  Abbott_pred\n",
       "1 Rule_out   \n",
       "2 Rule_out   \n",
       "3 Rule_out   \n",
       "6 Rule_out   \n",
       "8 Rule_out   \n",
       "9 Rule_in    "
      ]
     },
     "metadata": {},
     "output_type": "display_data"
    }
   ],
   "source": [
    "mydata_Abbott_female=mydata_Abbott[which(mydata_Abbott$gender==0),]\n",
    "head(mydata_Abbott_female)"
   ]
  },
  {
   "cell_type": "code",
   "execution_count": 28,
   "metadata": {},
   "outputs": [],
   "source": [
    "mydata_Abbott_female$Abbott_T0bellow99th=ifelse(mydata_Abbott_female$Abbott_T0<=16,1,0)\n",
    "mydata_Abbott_female$Abbott_T0bellow5X99th=ifelse(mydata_Abbott_female$Abbott_T0<=16*5,1,0)\n",
    "mydata_Abbott_female$Abbott_T3bellow99th=ifelse(mydata_Abbott_female$Abbott_T3<=16,1,0)\n",
    "mydata_Abbott_female$Abbott_delta_perbellow20=ifelse(mydata_Abbott_female$delta_Abbott_per<=20,1,0)"
   ]
  },
  {
   "cell_type": "code",
   "execution_count": 29,
   "metadata": {},
   "outputs": [
    {
     "data": {
      "text/plain": [
       "          \n",
       "            0  1\n",
       "  Observe  12  0\n",
       "  Rule_in  21  2\n",
       "  Rule_out 21  0"
      ]
     },
     "metadata": {},
     "output_type": "display_data"
    },
    {
     "data": {
      "text/html": [
       "0.0357142857142857"
      ],
      "text/latex": [
       "0.0357142857142857"
      ],
      "text/markdown": [
       "0.0357142857142857"
      ],
      "text/plain": [
       "[1] 0.03571429"
      ]
     },
     "metadata": {},
     "output_type": "display_data"
    }
   ],
   "source": [
    "mydata_Abbott_female$Abbott_pred=array(0,nrow(mydata_Abbott_female))\n",
    "for(i in 1:nrow(mydata_Abbott_female)){\n",
    "  mydata_Abbott_female$Abbott_pred[i]=if(mydata_Abbott_female$Abbott_T0bellow99th[i]==1 && mydata_Abbott_female$Abbott_T3bellow99th[i]==1){\n",
    "    \"Rule_out\" \n",
    " } else if(mydata_Abbott_female$Abbott_T0bellow99th[i]==1 && mydata_Abbott_female$Abbott_T3bellow99th[i]==0 && mydata_Abbott_female$delta_Abbott_per[i]<=50){\n",
    "    \"Observe\"\n",
    " } else if(mydata_Abbott_female$Abbott_T0bellow99th[i]==1 && mydata_Abbott_female$Abbott_T3bellow99th[i]==0 && mydata_Abbott_female$delta_Abbott_per[i]>50){\n",
    "    \"Rule_in\"\n",
    " } else if(mydata_Abbott_female$Abbott_T0bellow99th[i]==0 && mydata_Abbott_female$Abbott_T0bellow5X99th[i]==0){\n",
    "    \"Rule_in\"\n",
    " } else if(mydata_Abbott_female$Abbott_T0bellow99th[i]==0 && mydata_Abbott_female$Abbott_T0bellow5X99th[i]==1 && mydata_Abbott_female$Abbott_T3bellow99th[i]==1){\n",
    "    \"Rule_out\"\n",
    " } else if(mydata_Abbott_female$Abbott_T0bellow99th[i]==0 && mydata_Abbott_female$Abbott_T0bellow5X99th[i]==1 && mydata_Abbott_female$Abbott_T3bellow99th[i]==0 && mydata_Abbott_female$Abbott_delta_perbellow20[i]==1){\n",
    "    \"Observe\"\n",
    " } else {\n",
    "    \"Rule_in\"\n",
    " }\n",
    "      }\n",
    "      \n",
    "table(mydata_Abbott_female$Abbott_pred,mydata_Abbott_female$MI)\n",
    "prevalence_Abbott_female=sum(mydata_Abbott_female$MI)/nrow(mydata_Abbott_female)\n",
    "prevalence_Abbott_female"
   ]
  },
  {
   "cell_type": "markdown",
   "metadata": {},
   "source": [
    "## Abbott: eGFR<60"
   ]
  },
  {
   "cell_type": "code",
   "execution_count": 30,
   "metadata": {},
   "outputs": [
    {
     "data": {
      "text/html": [
       "<table class=\"dataframe\">\n",
       "<caption>A data.frame: 6 × 27</caption>\n",
       "<thead>\n",
       "\t<tr><th></th><th scope=col>id</th><th scope=col>age</th><th scope=col>age_binary</th><th scope=col>gender</th><th scope=col>GFR</th><th scope=col>renal_dysfunction</th><th scope=col>admitted</th><th scope=col>admitted_cardiac</th><th scope=col>MI</th><th scope=col>cardiac_catheter</th><th scope=col>⋯</th><th scope=col>Abbott_T0</th><th scope=col>Abbott_T3</th><th scope=col>delta_Abbott</th><th scope=col>delta_Abbott_per</th><th scope=col>Abbott_T0bellow99th</th><th scope=col>Abbott_T0bellow5X99th</th><th scope=col>Abbott_T3bellow99th</th><th scope=col>Abbott_delta_perbellow20</th><th scope=col>Abbott_delta_perbellow50</th><th scope=col>Abbott_pred</th></tr>\n",
       "\t<tr><th></th><th scope=col>&lt;chr&gt;</th><th scope=col>&lt;int&gt;</th><th scope=col>&lt;int&gt;</th><th scope=col>&lt;int&gt;</th><th scope=col>&lt;dbl&gt;</th><th scope=col>&lt;int&gt;</th><th scope=col>&lt;int&gt;</th><th scope=col>&lt;int&gt;</th><th scope=col>&lt;int&gt;</th><th scope=col>&lt;int&gt;</th><th scope=col>⋯</th><th scope=col>&lt;dbl&gt;</th><th scope=col>&lt;int&gt;</th><th scope=col>&lt;int&gt;</th><th scope=col>&lt;int&gt;</th><th scope=col>&lt;dbl&gt;</th><th scope=col>&lt;dbl&gt;</th><th scope=col>&lt;dbl&gt;</th><th scope=col>&lt;dbl&gt;</th><th scope=col>&lt;dbl&gt;</th><th scope=col>&lt;chr&gt;</th></tr>\n",
       "</thead>\n",
       "<tbody>\n",
       "\t<tr><th scope=row>2</th><td>1044197</td><td>87</td><td>1</td><td>0</td><td>50.51</td><td>1</td><td>0</td><td>0</td><td>0</td><td>0</td><td>⋯</td><td> 4.4</td><td> 5</td><td>1</td><td>11</td><td>1</td><td>1</td><td>1</td><td>1</td><td>1</td><td>Rule_out</td></tr>\n",
       "\t<tr><th scope=row>4</th><td>1073023</td><td>62</td><td>0</td><td>1</td><td>21.43</td><td>1</td><td>0</td><td>0</td><td>0</td><td>0</td><td>⋯</td><td>13.0</td><td>16</td><td>3</td><td>21</td><td>1</td><td>1</td><td>1</td><td>0</td><td>1</td><td>Rule_out</td></tr>\n",
       "\t<tr><th scope=row>5</th><td>1098123</td><td>71</td><td>1</td><td>1</td><td>59.37</td><td>1</td><td>0</td><td>0</td><td>0</td><td>0</td><td>⋯</td><td> 2.7</td><td> 3</td><td>1</td><td>19</td><td>1</td><td>1</td><td>1</td><td>1</td><td>1</td><td>Rule_out</td></tr>\n",
       "\t<tr><th scope=row>6</th><td>1107763</td><td>60</td><td>0</td><td>0</td><td> 2.44</td><td>1</td><td>0</td><td>0</td><td>0</td><td>0</td><td>⋯</td><td>17.4</td><td>26</td><td>9</td><td>51</td><td>1</td><td>1</td><td>1</td><td>0</td><td>0</td><td>Rule_out</td></tr>\n",
       "\t<tr><th scope=row>7</th><td>147950 </td><td>86</td><td>1</td><td>1</td><td> 8.83</td><td>1</td><td>1</td><td>0</td><td>0</td><td>0</td><td>⋯</td><td>66.8</td><td>67</td><td>0</td><td> 0</td><td>0</td><td>1</td><td>0</td><td>1</td><td>1</td><td>Observe </td></tr>\n",
       "\t<tr><th scope=row>8</th><td>150547 </td><td>78</td><td>1</td><td>0</td><td>11.35</td><td>1</td><td>1</td><td>0</td><td>0</td><td>0</td><td>⋯</td><td>11.1</td><td>14</td><td>2</td><td>22</td><td>1</td><td>1</td><td>1</td><td>0</td><td>1</td><td>Rule_out</td></tr>\n",
       "</tbody>\n",
       "</table>\n"
      ],
      "text/latex": [
       "A data.frame: 6 × 27\n",
       "\\begin{tabular}{r|lllllllllllllllllllll}\n",
       "  & id & age & age\\_binary & gender & GFR & renal\\_dysfunction & admitted & admitted\\_cardiac & MI & cardiac\\_catheter & ⋯ & Abbott\\_T0 & Abbott\\_T3 & delta\\_Abbott & delta\\_Abbott\\_per & Abbott\\_T0bellow99th & Abbott\\_T0bellow5X99th & Abbott\\_T3bellow99th & Abbott\\_delta\\_perbellow20 & Abbott\\_delta\\_perbellow50 & Abbott\\_pred\\\\\n",
       "  & <chr> & <int> & <int> & <int> & <dbl> & <int> & <int> & <int> & <int> & <int> & ⋯ & <dbl> & <int> & <int> & <int> & <dbl> & <dbl> & <dbl> & <dbl> & <dbl> & <chr>\\\\\n",
       "\\hline\n",
       "\t2 & 1044197 & 87 & 1 & 0 & 50.51 & 1 & 0 & 0 & 0 & 0 & ⋯ &  4.4 &  5 & 1 & 11 & 1 & 1 & 1 & 1 & 1 & Rule\\_out\\\\\n",
       "\t4 & 1073023 & 62 & 0 & 1 & 21.43 & 1 & 0 & 0 & 0 & 0 & ⋯ & 13.0 & 16 & 3 & 21 & 1 & 1 & 1 & 0 & 1 & Rule\\_out\\\\\n",
       "\t5 & 1098123 & 71 & 1 & 1 & 59.37 & 1 & 0 & 0 & 0 & 0 & ⋯ &  2.7 &  3 & 1 & 19 & 1 & 1 & 1 & 1 & 1 & Rule\\_out\\\\\n",
       "\t6 & 1107763 & 60 & 0 & 0 &  2.44 & 1 & 0 & 0 & 0 & 0 & ⋯ & 17.4 & 26 & 9 & 51 & 1 & 1 & 1 & 0 & 0 & Rule\\_out\\\\\n",
       "\t7 & 147950  & 86 & 1 & 1 &  8.83 & 1 & 1 & 0 & 0 & 0 & ⋯ & 66.8 & 67 & 0 &  0 & 0 & 1 & 0 & 1 & 1 & Observe \\\\\n",
       "\t8 & 150547  & 78 & 1 & 0 & 11.35 & 1 & 1 & 0 & 0 & 0 & ⋯ & 11.1 & 14 & 2 & 22 & 1 & 1 & 1 & 0 & 1 & Rule\\_out\\\\\n",
       "\\end{tabular}\n"
      ],
      "text/markdown": [
       "\n",
       "A data.frame: 6 × 27\n",
       "\n",
       "| <!--/--> | id &lt;chr&gt; | age &lt;int&gt; | age_binary &lt;int&gt; | gender &lt;int&gt; | GFR &lt;dbl&gt; | renal_dysfunction &lt;int&gt; | admitted &lt;int&gt; | admitted_cardiac &lt;int&gt; | MI &lt;int&gt; | cardiac_catheter &lt;int&gt; | ⋯ ⋯ | Abbott_T0 &lt;dbl&gt; | Abbott_T3 &lt;int&gt; | delta_Abbott &lt;int&gt; | delta_Abbott_per &lt;int&gt; | Abbott_T0bellow99th &lt;dbl&gt; | Abbott_T0bellow5X99th &lt;dbl&gt; | Abbott_T3bellow99th &lt;dbl&gt; | Abbott_delta_perbellow20 &lt;dbl&gt; | Abbott_delta_perbellow50 &lt;dbl&gt; | Abbott_pred &lt;chr&gt; |\n",
       "|---|---|---|---|---|---|---|---|---|---|---|---|---|---|---|---|---|---|---|---|---|---|\n",
       "| 2 | 1044197 | 87 | 1 | 0 | 50.51 | 1 | 0 | 0 | 0 | 0 | ⋯ |  4.4 |  5 | 1 | 11 | 1 | 1 | 1 | 1 | 1 | Rule_out |\n",
       "| 4 | 1073023 | 62 | 0 | 1 | 21.43 | 1 | 0 | 0 | 0 | 0 | ⋯ | 13.0 | 16 | 3 | 21 | 1 | 1 | 1 | 0 | 1 | Rule_out |\n",
       "| 5 | 1098123 | 71 | 1 | 1 | 59.37 | 1 | 0 | 0 | 0 | 0 | ⋯ |  2.7 |  3 | 1 | 19 | 1 | 1 | 1 | 1 | 1 | Rule_out |\n",
       "| 6 | 1107763 | 60 | 0 | 0 |  2.44 | 1 | 0 | 0 | 0 | 0 | ⋯ | 17.4 | 26 | 9 | 51 | 1 | 1 | 1 | 0 | 0 | Rule_out |\n",
       "| 7 | 147950  | 86 | 1 | 1 |  8.83 | 1 | 1 | 0 | 0 | 0 | ⋯ | 66.8 | 67 | 0 |  0 | 0 | 1 | 0 | 1 | 1 | Observe  |\n",
       "| 8 | 150547  | 78 | 1 | 0 | 11.35 | 1 | 1 | 0 | 0 | 0 | ⋯ | 11.1 | 14 | 2 | 22 | 1 | 1 | 1 | 0 | 1 | Rule_out |\n",
       "\n"
      ],
      "text/plain": [
       "  id      age age_binary gender GFR   renal_dysfunction admitted\n",
       "2 1044197 87  1          0      50.51 1                 0       \n",
       "4 1073023 62  0          1      21.43 1                 0       \n",
       "5 1098123 71  1          1      59.37 1                 0       \n",
       "6 1107763 60  0          0       2.44 1                 0       \n",
       "7 147950  86  1          1       8.83 1                 1       \n",
       "8 150547  78  1          0      11.35 1                 1       \n",
       "  admitted_cardiac MI cardiac_catheter ⋯ Abbott_T0 Abbott_T3 delta_Abbott\n",
       "2 0                0  0                ⋯  4.4       5        1           \n",
       "4 0                0  0                ⋯ 13.0      16        3           \n",
       "5 0                0  0                ⋯  2.7       3        1           \n",
       "6 0                0  0                ⋯ 17.4      26        9           \n",
       "7 0                0  0                ⋯ 66.8      67        0           \n",
       "8 0                0  0                ⋯ 11.1      14        2           \n",
       "  delta_Abbott_per Abbott_T0bellow99th Abbott_T0bellow5X99th\n",
       "2 11               1                   1                    \n",
       "4 21               1                   1                    \n",
       "5 19               1                   1                    \n",
       "6 51               1                   1                    \n",
       "7  0               0                   1                    \n",
       "8 22               1                   1                    \n",
       "  Abbott_T3bellow99th Abbott_delta_perbellow20 Abbott_delta_perbellow50\n",
       "2 1                   1                        1                       \n",
       "4 1                   0                        1                       \n",
       "5 1                   1                        1                       \n",
       "6 1                   0                        0                       \n",
       "7 0                   1                        1                       \n",
       "8 1                   0                        1                       \n",
       "  Abbott_pred\n",
       "2 Rule_out   \n",
       "4 Rule_out   \n",
       "5 Rule_out   \n",
       "6 Rule_out   \n",
       "7 Observe    \n",
       "8 Rule_out   "
      ]
     },
     "metadata": {},
     "output_type": "display_data"
    }
   ],
   "source": [
    "mydata_Abbott_GFR=mydata_Abbott[which(mydata_Abbott$GFR<60),]\n",
    "head(mydata_Abbott_GFR)"
   ]
  },
  {
   "cell_type": "code",
   "execution_count": 31,
   "metadata": {},
   "outputs": [],
   "source": [
    "mydata_Abbott_GFR$Abbott_T0bellow99th=ifelse(mydata_Abbott_GFR$Abbott_T0<=29.4,1,0)\n",
    "mydata_Abbott_GFR$Abbott_T0bellow5X99th=ifelse(mydata_Abbott_GFR$Abbott_T0<=29.4*5,1,0)\n",
    "mydata_Abbott_GFR$Abbott_T3bellow99th=ifelse(mydata_Abbott_GFR$Abbott_T3<=29.4,1,0)\n",
    "mydata_Abbott_GFR$Abbott_delta_perbellow20=ifelse(mydata_Abbott_GFR$delta_Abbott_per<=20,1,0)"
   ]
  },
  {
   "cell_type": "code",
   "execution_count": 32,
   "metadata": {},
   "outputs": [
    {
     "data": {
      "text/plain": [
       "          \n",
       "            0  1\n",
       "  Observe  19  1\n",
       "  Rule_in  28  5\n",
       "  Rule_out 27  0"
      ]
     },
     "metadata": {},
     "output_type": "display_data"
    },
    {
     "data": {
      "text/html": [
       "0.075"
      ],
      "text/latex": [
       "0.075"
      ],
      "text/markdown": [
       "0.075"
      ],
      "text/plain": [
       "[1] 0.075"
      ]
     },
     "metadata": {},
     "output_type": "display_data"
    }
   ],
   "source": [
    "mydata_Abbott_GFR$Abbott_pred=array(0,nrow(mydata_Abbott_GFR))\n",
    "for(i in 1:nrow(mydata_Abbott_GFR)){\n",
    "  mydata_Abbott_GFR$Abbott_pred[i]=if(mydata_Abbott_GFR$Abbott_T0bellow99th[i]==1 && mydata_Abbott_GFR$Abbott_T3bellow99th[i]==1){\n",
    "    \"Rule_out\" \n",
    " } else if(mydata_Abbott_GFR$Abbott_T0bellow99th[i]==1 && mydata_Abbott_GFR$Abbott_T3bellow99th[i]==0 && mydata_Abbott_GFR$delta_Abbott_per[i]<=50){\n",
    "    \"Observe\"\n",
    " } else if(mydata_Abbott_GFR$Abbott_T0bellow99th[i]==1 && mydata_Abbott_GFR$Abbott_T3bellow99th[i]==0 && mydata_Abbott_GFR$delta_Abbott_per[i]>50){\n",
    "    \"Rule_in\"\n",
    " } else if(mydata_Abbott_GFR$Abbott_T0bellow99th[i]==0 && mydata_Abbott_GFR$Abbott_T0bellow5X99th[i]==0){\n",
    "    \"Rule_in\"\n",
    " } else if(mydata_Abbott_GFR$Abbott_T0bellow99th[i]==0 && mydata_Abbott_GFR$Abbott_T0bellow5X99th[i]==1 && mydata_Abbott_GFR$Abbott_T3bellow99th[i]==1){\n",
    "    \"Rule_out\"\n",
    " } else if(mydata_Abbott_GFR$Abbott_T0bellow99th[i]==0 && mydata_Abbott_GFR$Abbott_T0bellow5X99th[i]==1 && mydata_Abbott_GFR$Abbott_T3bellow99th[i]==0 && mydata_Abbott_GFR$Abbott_delta_perbellow20[i]==1){\n",
    "    \"Observe\"\n",
    " } else {\n",
    "    \"Rule_in\"\n",
    " }\n",
    "      }\n",
    "      \n",
    "table(mydata_Abbott_GFR$Abbott_pred,mydata_Abbott_GFR$MI)\n",
    "prevalence_Abbott_GFR=sum(mydata_Abbott_GFR$MI)/nrow(mydata_Abbott_GFR)\n",
    "prevalence_Abbott_GFR"
   ]
  },
  {
   "cell_type": "markdown",
   "metadata": {},
   "source": [
    "## Beckman: Overall"
   ]
  },
  {
   "cell_type": "code",
   "execution_count": 33,
   "metadata": {},
   "outputs": [],
   "source": [
    "mydata_Beckman=mydata[,c('id',\n",
    "                         'age',\n",
    "                         'age_binary',\n",
    "                         'gender',\n",
    "                         'GFR',\n",
    "                         'renal_dysfunction',\n",
    "                         'admitted',\n",
    "                         'admitted_cardiac',\n",
    "                         'MI',\n",
    "                         'cardiac_catheter',\n",
    "                         'IPDAT_report',\n",
    "                         'test_date',\n",
    "                         'receipt_date',\n",
    "                         'diff',\n",
    "                         'diff_r',\n",
    "                         'CGRD_T0',\n",
    "                         'CGRD_T3',\n",
    "                         'Beckman_T0',\n",
    "                         'Beckman_T3',\n",
    "                         'delta_Beckman',\n",
    "                         'delta_Beckman_per')]"
   ]
  },
  {
   "cell_type": "code",
   "execution_count": 34,
   "metadata": {},
   "outputs": [],
   "source": [
    "mydata_Beckman$Beckman_T0bellow99th=ifelse(mydata_Beckman$Beckman_T0<=17.5,1,0)\n",
    "mydata_Beckman$Beckman_T0bellow5X99th=ifelse(mydata_Beckman$Beckman_T0<=17.5*5,1,0)\n",
    "mydata_Beckman$Beckman_T3bellow99th=ifelse(mydata_Beckman$Beckman_T3<=17.5,1,0)\n",
    "mydata_Beckman$Beckman_delta_perbellow20=ifelse(mydata_Beckman$delta_Beckman_per<=20,1,0)"
   ]
  },
  {
   "cell_type": "code",
   "execution_count": 35,
   "metadata": {},
   "outputs": [
    {
     "data": {
      "text/plain": [
       "          \n",
       "            0  1\n",
       "  Observe  28  1\n",
       "  Rule_in  36 10\n",
       "  Rule_out 52  0"
      ]
     },
     "metadata": {},
     "output_type": "display_data"
    },
    {
     "data": {
      "text/html": [
       "0.0866141732283465"
      ],
      "text/latex": [
       "0.0866141732283465"
      ],
      "text/markdown": [
       "0.0866141732283465"
      ],
      "text/plain": [
       "[1] 0.08661417"
      ]
     },
     "metadata": {},
     "output_type": "display_data"
    }
   ],
   "source": [
    "mydata_Beckman$Beckman_pred=array(0,nrow(mydata_Beckman))\n",
    "for(i in 1:nrow(mydata_Beckman)){\n",
    "  mydata_Beckman$Beckman_pred[i]=if(mydata_Beckman$Beckman_T0bellow99th[i]==1 && mydata_Beckman$Beckman_T3bellow99th[i]==1){\n",
    "    \"Rule_out\" \n",
    " } else if(mydata_Beckman$Beckman_T0bellow99th[i]==1 && mydata_Beckman$Beckman_T3bellow99th[i]==0 && mydata_Beckman$delta_Beckman_per[i]<=50){\n",
    "    \"Observe\"\n",
    " } else if(mydata_Beckman$Beckman_T0bellow99th[i]==1 && mydata_Beckman$Beckman_T3bellow99th[i]==0 && mydata_Beckman$delta_Beckman_per[i]>50){\n",
    "    \"Rule_in\"\n",
    " } else if(mydata_Beckman$Beckman_T0bellow99th[i]==0 && mydata_Beckman$Beckman_T0bellow5X99th[i]==0){\n",
    "    \"Rule_in\"\n",
    " } else if(mydata_Beckman$Beckman_T0bellow99th[i]==0 && mydata_Beckman$Beckman_T0bellow5X99th[i]==1 && mydata_Beckman$Beckman_T3bellow99th[i]==1){\n",
    "    \"Rule_out\"\n",
    " } else if(mydata_Beckman$Beckman_T0bellow99th[i]==0 && mydata_Beckman$Beckman_T0bellow5X99th[i]==1 && mydata_Beckman$Beckman_T3bellow99th[i]==0 && mydata_Beckman$Beckman_delta_perbellow20[i]==1){\n",
    "    \"Observe\"\n",
    " } else {\n",
    "    \"Rule_in\"\n",
    " }\n",
    "      }\n",
    "      \n",
    "table(mydata_Beckman$Beckman_pred,mydata_Beckman$MI)\n",
    "prevalence_Beckman=sum(mydata_Beckman$MI)/nrow(mydata_Beckman)\n",
    "prevalence_Beckman"
   ]
  },
  {
   "cell_type": "markdown",
   "metadata": {},
   "source": [
    "## Beckman: Age>70"
   ]
  },
  {
   "cell_type": "code",
   "execution_count": 36,
   "metadata": {},
   "outputs": [
    {
     "data": {
      "text/html": [
       "<table class=\"dataframe\">\n",
       "<caption>A data.frame: 6 × 26</caption>\n",
       "<thead>\n",
       "\t<tr><th></th><th scope=col>id</th><th scope=col>age</th><th scope=col>age_binary</th><th scope=col>gender</th><th scope=col>GFR</th><th scope=col>renal_dysfunction</th><th scope=col>admitted</th><th scope=col>admitted_cardiac</th><th scope=col>MI</th><th scope=col>cardiac_catheter</th><th scope=col>⋯</th><th scope=col>CGRD_T3</th><th scope=col>Beckman_T0</th><th scope=col>Beckman_T3</th><th scope=col>delta_Beckman</th><th scope=col>delta_Beckman_per</th><th scope=col>Beckman_T0bellow99th</th><th scope=col>Beckman_T0bellow5X99th</th><th scope=col>Beckman_T3bellow99th</th><th scope=col>Beckman_delta_perbellow20</th><th scope=col>Beckman_pred</th></tr>\n",
       "\t<tr><th></th><th scope=col>&lt;chr&gt;</th><th scope=col>&lt;int&gt;</th><th scope=col>&lt;int&gt;</th><th scope=col>&lt;int&gt;</th><th scope=col>&lt;dbl&gt;</th><th scope=col>&lt;int&gt;</th><th scope=col>&lt;int&gt;</th><th scope=col>&lt;int&gt;</th><th scope=col>&lt;int&gt;</th><th scope=col>&lt;int&gt;</th><th scope=col>⋯</th><th scope=col>&lt;int&gt;</th><th scope=col>&lt;dbl&gt;</th><th scope=col>&lt;int&gt;</th><th scope=col>&lt;int&gt;</th><th scope=col>&lt;int&gt;</th><th scope=col>&lt;dbl&gt;</th><th scope=col>&lt;dbl&gt;</th><th scope=col>&lt;dbl&gt;</th><th scope=col>&lt;dbl&gt;</th><th scope=col>&lt;chr&gt;</th></tr>\n",
       "</thead>\n",
       "<tbody>\n",
       "\t<tr><th scope=row>2</th><td>1044197</td><td>87</td><td>1</td><td>0</td><td> 50.51</td><td>1</td><td>0</td><td>0</td><td>0</td><td>0</td><td>⋯</td><td> 26</td><td> 3.65</td><td> 4</td><td>1</td><td>18</td><td>1</td><td>1</td><td>1</td><td>1</td><td>Rule_out</td></tr>\n",
       "\t<tr><th scope=row>5</th><td>1098123</td><td>71</td><td>1</td><td>1</td><td> 59.37</td><td>1</td><td>0</td><td>0</td><td>0</td><td>0</td><td>⋯</td><td> 12</td><td> 3.61</td><td> 4</td><td>1</td><td>16</td><td>1</td><td>1</td><td>1</td><td>1</td><td>Rule_out</td></tr>\n",
       "\t<tr><th scope=row>7</th><td>147950 </td><td>86</td><td>1</td><td>1</td><td>  8.83</td><td>1</td><td>1</td><td>0</td><td>0</td><td>0</td><td>⋯</td><td>204</td><td>49.22</td><td>53</td><td>4</td><td> 8</td><td>0</td><td>1</td><td>0</td><td>1</td><td>Observe </td></tr>\n",
       "\t<tr><th scope=row>8</th><td>150547 </td><td>78</td><td>1</td><td>0</td><td> 11.35</td><td>1</td><td>1</td><td>0</td><td>0</td><td>0</td><td>⋯</td><td> 79</td><td> 9.12</td><td>10</td><td>1</td><td>15</td><td>1</td><td>1</td><td>1</td><td>1</td><td>Rule_out</td></tr>\n",
       "\t<tr><th scope=row>12</th><td>2030944</td><td>79</td><td>1</td><td>1</td><td> 50.33</td><td>1</td><td>0</td><td>0</td><td>0</td><td>0</td><td>⋯</td><td> 64</td><td>30.54</td><td>31</td><td>0</td><td> 2</td><td>0</td><td>1</td><td>0</td><td>1</td><td>Observe </td></tr>\n",
       "\t<tr><th scope=row>14</th><td>2396492</td><td>72</td><td>1</td><td>0</td><td>100.43</td><td>0</td><td>0</td><td>0</td><td>0</td><td>0</td><td>⋯</td><td> 10</td><td> 1.79</td><td> 2</td><td>0</td><td>16</td><td>1</td><td>1</td><td>1</td><td>1</td><td>Rule_out</td></tr>\n",
       "</tbody>\n",
       "</table>\n"
      ],
      "text/latex": [
       "A data.frame: 6 × 26\n",
       "\\begin{tabular}{r|lllllllllllllllllllll}\n",
       "  & id & age & age\\_binary & gender & GFR & renal\\_dysfunction & admitted & admitted\\_cardiac & MI & cardiac\\_catheter & ⋯ & CGRD\\_T3 & Beckman\\_T0 & Beckman\\_T3 & delta\\_Beckman & delta\\_Beckman\\_per & Beckman\\_T0bellow99th & Beckman\\_T0bellow5X99th & Beckman\\_T3bellow99th & Beckman\\_delta\\_perbellow20 & Beckman\\_pred\\\\\n",
       "  & <chr> & <int> & <int> & <int> & <dbl> & <int> & <int> & <int> & <int> & <int> & ⋯ & <int> & <dbl> & <int> & <int> & <int> & <dbl> & <dbl> & <dbl> & <dbl> & <chr>\\\\\n",
       "\\hline\n",
       "\t2 & 1044197 & 87 & 1 & 0 &  50.51 & 1 & 0 & 0 & 0 & 0 & ⋯ &  26 &  3.65 &  4 & 1 & 18 & 1 & 1 & 1 & 1 & Rule\\_out\\\\\n",
       "\t5 & 1098123 & 71 & 1 & 1 &  59.37 & 1 & 0 & 0 & 0 & 0 & ⋯ &  12 &  3.61 &  4 & 1 & 16 & 1 & 1 & 1 & 1 & Rule\\_out\\\\\n",
       "\t7 & 147950  & 86 & 1 & 1 &   8.83 & 1 & 1 & 0 & 0 & 0 & ⋯ & 204 & 49.22 & 53 & 4 &  8 & 0 & 1 & 0 & 1 & Observe \\\\\n",
       "\t8 & 150547  & 78 & 1 & 0 &  11.35 & 1 & 1 & 0 & 0 & 0 & ⋯ &  79 &  9.12 & 10 & 1 & 15 & 1 & 1 & 1 & 1 & Rule\\_out\\\\\n",
       "\t12 & 2030944 & 79 & 1 & 1 &  50.33 & 1 & 0 & 0 & 0 & 0 & ⋯ &  64 & 30.54 & 31 & 0 &  2 & 0 & 1 & 0 & 1 & Observe \\\\\n",
       "\t14 & 2396492 & 72 & 1 & 0 & 100.43 & 0 & 0 & 0 & 0 & 0 & ⋯ &  10 &  1.79 &  2 & 0 & 16 & 1 & 1 & 1 & 1 & Rule\\_out\\\\\n",
       "\\end{tabular}\n"
      ],
      "text/markdown": [
       "\n",
       "A data.frame: 6 × 26\n",
       "\n",
       "| <!--/--> | id &lt;chr&gt; | age &lt;int&gt; | age_binary &lt;int&gt; | gender &lt;int&gt; | GFR &lt;dbl&gt; | renal_dysfunction &lt;int&gt; | admitted &lt;int&gt; | admitted_cardiac &lt;int&gt; | MI &lt;int&gt; | cardiac_catheter &lt;int&gt; | ⋯ ⋯ | CGRD_T3 &lt;int&gt; | Beckman_T0 &lt;dbl&gt; | Beckman_T3 &lt;int&gt; | delta_Beckman &lt;int&gt; | delta_Beckman_per &lt;int&gt; | Beckman_T0bellow99th &lt;dbl&gt; | Beckman_T0bellow5X99th &lt;dbl&gt; | Beckman_T3bellow99th &lt;dbl&gt; | Beckman_delta_perbellow20 &lt;dbl&gt; | Beckman_pred &lt;chr&gt; |\n",
       "|---|---|---|---|---|---|---|---|---|---|---|---|---|---|---|---|---|---|---|---|---|---|\n",
       "| 2 | 1044197 | 87 | 1 | 0 |  50.51 | 1 | 0 | 0 | 0 | 0 | ⋯ |  26 |  3.65 |  4 | 1 | 18 | 1 | 1 | 1 | 1 | Rule_out |\n",
       "| 5 | 1098123 | 71 | 1 | 1 |  59.37 | 1 | 0 | 0 | 0 | 0 | ⋯ |  12 |  3.61 |  4 | 1 | 16 | 1 | 1 | 1 | 1 | Rule_out |\n",
       "| 7 | 147950  | 86 | 1 | 1 |   8.83 | 1 | 1 | 0 | 0 | 0 | ⋯ | 204 | 49.22 | 53 | 4 |  8 | 0 | 1 | 0 | 1 | Observe  |\n",
       "| 8 | 150547  | 78 | 1 | 0 |  11.35 | 1 | 1 | 0 | 0 | 0 | ⋯ |  79 |  9.12 | 10 | 1 | 15 | 1 | 1 | 1 | 1 | Rule_out |\n",
       "| 12 | 2030944 | 79 | 1 | 1 |  50.33 | 1 | 0 | 0 | 0 | 0 | ⋯ |  64 | 30.54 | 31 | 0 |  2 | 0 | 1 | 0 | 1 | Observe  |\n",
       "| 14 | 2396492 | 72 | 1 | 0 | 100.43 | 0 | 0 | 0 | 0 | 0 | ⋯ |  10 |  1.79 |  2 | 0 | 16 | 1 | 1 | 1 | 1 | Rule_out |\n",
       "\n"
      ],
      "text/plain": [
       "   id      age age_binary gender GFR    renal_dysfunction admitted\n",
       "2  1044197 87  1          0       50.51 1                 0       \n",
       "5  1098123 71  1          1       59.37 1                 0       \n",
       "7  147950  86  1          1        8.83 1                 1       \n",
       "8  150547  78  1          0       11.35 1                 1       \n",
       "12 2030944 79  1          1       50.33 1                 0       \n",
       "14 2396492 72  1          0      100.43 0                 0       \n",
       "   admitted_cardiac MI cardiac_catheter ⋯ CGRD_T3 Beckman_T0 Beckman_T3\n",
       "2  0                0  0                ⋯  26      3.65       4        \n",
       "5  0                0  0                ⋯  12      3.61       4        \n",
       "7  0                0  0                ⋯ 204     49.22      53        \n",
       "8  0                0  0                ⋯  79      9.12      10        \n",
       "12 0                0  0                ⋯  64     30.54      31        \n",
       "14 0                0  0                ⋯  10      1.79       2        \n",
       "   delta_Beckman delta_Beckman_per Beckman_T0bellow99th Beckman_T0bellow5X99th\n",
       "2  1             18                1                    1                     \n",
       "5  1             16                1                    1                     \n",
       "7  4              8                0                    1                     \n",
       "8  1             15                1                    1                     \n",
       "12 0              2                0                    1                     \n",
       "14 0             16                1                    1                     \n",
       "   Beckman_T3bellow99th Beckman_delta_perbellow20 Beckman_pred\n",
       "2  1                    1                         Rule_out    \n",
       "5  1                    1                         Rule_out    \n",
       "7  0                    1                         Observe     \n",
       "8  1                    1                         Rule_out    \n",
       "12 0                    1                         Observe     \n",
       "14 1                    1                         Rule_out    "
      ]
     },
     "metadata": {},
     "output_type": "display_data"
    }
   ],
   "source": [
    "mydata_Beckman_old=mydata_Beckman[which(mydata_Beckman$age_binary==1),]\n",
    "head(mydata_Beckman_old)"
   ]
  },
  {
   "cell_type": "code",
   "execution_count": 37,
   "metadata": {},
   "outputs": [],
   "source": [
    "mydata_Beckman_old$Beckman_T0bellow99th=ifelse(mydata_Beckman_old$Beckman_T0<=54,1,0)\n",
    "mydata_Beckman_old$Beckman_T0bellow5X99th=ifelse(mydata_Beckman_old$Beckman_T0<=54*5,1,0)\n",
    "mydata_Beckman_old$Beckman_T3bellow99th=ifelse(mydata_Beckman_old$Beckman_T3<=54,1,0)\n",
    "mydata_Beckman_old$Beckman_delta_perbellow20=ifelse(mydata_Beckman_old$delta_Beckman_per<=20,1,0)"
   ]
  },
  {
   "cell_type": "code",
   "execution_count": 38,
   "metadata": {},
   "outputs": [
    {
     "data": {
      "text/plain": [
       "          \n",
       "            0  1\n",
       "  Observe   5  0\n",
       "  Rule_in  14  3\n",
       "  Rule_out 47  0"
      ]
     },
     "metadata": {},
     "output_type": "display_data"
    },
    {
     "data": {
      "text/html": [
       "0.0434782608695652"
      ],
      "text/latex": [
       "0.0434782608695652"
      ],
      "text/markdown": [
       "0.0434782608695652"
      ],
      "text/plain": [
       "[1] 0.04347826"
      ]
     },
     "metadata": {},
     "output_type": "display_data"
    }
   ],
   "source": [
    "mydata_Beckman_old$Beckman_pred=array(0,nrow(mydata_Beckman_old))\n",
    "for(i in 1:nrow(mydata_Beckman_old)){\n",
    "  mydata_Beckman_old$Beckman_pred[i]=if(mydata_Beckman_old$Beckman_T0bellow99th[i]==1 && mydata_Beckman_old$Beckman_T3bellow99th[i]==1){\n",
    "    \"Rule_out\" \n",
    " } else if(mydata_Beckman_old$Beckman_T0bellow99th[i]==1 && mydata_Beckman_old$Beckman_T3bellow99th[i]==0 && mydata_Beckman_old$delta_Beckman_per[i]<=50){\n",
    "    \"Observe\"\n",
    " } else if(mydata_Beckman_old$Beckman_T0bellow99th[i]==1 && mydata_Beckman_old$Beckman_T3bellow99th[i]==0 && mydata_Beckman_old$delta_Beckman_per[i]>50){\n",
    "    \"Rule_in\"\n",
    " } else if(mydata_Beckman_old$Beckman_T0bellow99th[i]==0 && mydata_Beckman_old$Beckman_T0bellow5X99th[i]==0){\n",
    "    \"Rule_in\"\n",
    " } else if(mydata_Beckman_old$Beckman_T0bellow99th[i]==0 && mydata_Beckman_old$Beckman_T0bellow5X99th[i]==1 && mydata_Beckman_old$Beckman_T3bellow99th[i]==1){\n",
    "    \"Rule_out\"\n",
    " } else if(mydata_Beckman_old$Beckman_T0bellow99th[i]==0 && mydata_Beckman_old$Beckman_T0bellow5X99th[i]==1 && mydata_Beckman_old$Beckman_T3bellow99th[i]==0 && mydata_Beckman_old$Beckman_delta_perbellow20[i]==1){\n",
    "    \"Observe\"\n",
    " } else {\n",
    "    \"Rule_in\"\n",
    " }\n",
    "      }\n",
    "      \n",
    "table(mydata_Beckman_old$Beckman_pred,mydata_Beckman_old$MI)\n",
    "prevalence_Beckman_old=sum(mydata_Beckman_old$MI)/nrow(mydata_Beckman_old)\n",
    "prevalence_Beckman_old"
   ]
  },
  {
   "cell_type": "markdown",
   "metadata": {},
   "source": [
    "## Beckman: Gender (Male)"
   ]
  },
  {
   "cell_type": "code",
   "execution_count": 39,
   "metadata": {},
   "outputs": [
    {
     "data": {
      "text/html": [
       "<table class=\"dataframe\">\n",
       "<caption>A data.frame: 6 × 26</caption>\n",
       "<thead>\n",
       "\t<tr><th></th><th scope=col>id</th><th scope=col>age</th><th scope=col>age_binary</th><th scope=col>gender</th><th scope=col>GFR</th><th scope=col>renal_dysfunction</th><th scope=col>admitted</th><th scope=col>admitted_cardiac</th><th scope=col>MI</th><th scope=col>cardiac_catheter</th><th scope=col>⋯</th><th scope=col>CGRD_T3</th><th scope=col>Beckman_T0</th><th scope=col>Beckman_T3</th><th scope=col>delta_Beckman</th><th scope=col>delta_Beckman_per</th><th scope=col>Beckman_T0bellow99th</th><th scope=col>Beckman_T0bellow5X99th</th><th scope=col>Beckman_T3bellow99th</th><th scope=col>Beckman_delta_perbellow20</th><th scope=col>Beckman_pred</th></tr>\n",
       "\t<tr><th></th><th scope=col>&lt;chr&gt;</th><th scope=col>&lt;int&gt;</th><th scope=col>&lt;int&gt;</th><th scope=col>&lt;int&gt;</th><th scope=col>&lt;dbl&gt;</th><th scope=col>&lt;int&gt;</th><th scope=col>&lt;int&gt;</th><th scope=col>&lt;int&gt;</th><th scope=col>&lt;int&gt;</th><th scope=col>&lt;int&gt;</th><th scope=col>⋯</th><th scope=col>&lt;int&gt;</th><th scope=col>&lt;dbl&gt;</th><th scope=col>&lt;int&gt;</th><th scope=col>&lt;int&gt;</th><th scope=col>&lt;int&gt;</th><th scope=col>&lt;dbl&gt;</th><th scope=col>&lt;dbl&gt;</th><th scope=col>&lt;dbl&gt;</th><th scope=col>&lt;dbl&gt;</th><th scope=col>&lt;chr&gt;</th></tr>\n",
       "</thead>\n",
       "<tbody>\n",
       "\t<tr><th scope=row>4</th><td>1073023</td><td>62</td><td>0</td><td>1</td><td>21.43</td><td>1</td><td>0</td><td>0</td><td>0</td><td>0</td><td>⋯</td><td>137</td><td>25.59</td><td>32</td><td>6</td><td>25</td><td>0</td><td>1</td><td>0</td><td>0</td><td>Rule_in </td></tr>\n",
       "\t<tr><th scope=row>5</th><td>1098123</td><td>71</td><td>1</td><td>1</td><td>59.37</td><td>1</td><td>0</td><td>0</td><td>0</td><td>0</td><td>⋯</td><td> 12</td><td> 3.61</td><td> 4</td><td>1</td><td>16</td><td>1</td><td>1</td><td>1</td><td>1</td><td>Rule_out</td></tr>\n",
       "\t<tr><th scope=row>7</th><td>147950 </td><td>86</td><td>1</td><td>1</td><td> 8.83</td><td>1</td><td>1</td><td>0</td><td>0</td><td>0</td><td>⋯</td><td>204</td><td>49.22</td><td>53</td><td>4</td><td> 8</td><td>0</td><td>1</td><td>0</td><td>1</td><td>Observe </td></tr>\n",
       "\t<tr><th scope=row>12</th><td>2030944</td><td>79</td><td>1</td><td>1</td><td>50.33</td><td>1</td><td>0</td><td>0</td><td>0</td><td>0</td><td>⋯</td><td> 64</td><td>30.54</td><td>31</td><td>0</td><td> 2</td><td>0</td><td>1</td><td>0</td><td>1</td><td>Observe </td></tr>\n",
       "\t<tr><th scope=row>15</th><td>2694486</td><td>57</td><td>0</td><td>1</td><td> 5.52</td><td>1</td><td>1</td><td>0</td><td>0</td><td>0</td><td>⋯</td><td>267</td><td>36.11</td><td>36</td><td>0</td><td> 1</td><td>0</td><td>1</td><td>0</td><td>1</td><td>Observe </td></tr>\n",
       "\t<tr><th scope=row>16</th><td>3036649</td><td>57</td><td>0</td><td>1</td><td>34.78</td><td>1</td><td>1</td><td>0</td><td>0</td><td>0</td><td>⋯</td><td> 51</td><td>18.43</td><td>24</td><td>5</td><td>29</td><td>0</td><td>1</td><td>0</td><td>0</td><td>Rule_in </td></tr>\n",
       "</tbody>\n",
       "</table>\n"
      ],
      "text/latex": [
       "A data.frame: 6 × 26\n",
       "\\begin{tabular}{r|lllllllllllllllllllll}\n",
       "  & id & age & age\\_binary & gender & GFR & renal\\_dysfunction & admitted & admitted\\_cardiac & MI & cardiac\\_catheter & ⋯ & CGRD\\_T3 & Beckman\\_T0 & Beckman\\_T3 & delta\\_Beckman & delta\\_Beckman\\_per & Beckman\\_T0bellow99th & Beckman\\_T0bellow5X99th & Beckman\\_T3bellow99th & Beckman\\_delta\\_perbellow20 & Beckman\\_pred\\\\\n",
       "  & <chr> & <int> & <int> & <int> & <dbl> & <int> & <int> & <int> & <int> & <int> & ⋯ & <int> & <dbl> & <int> & <int> & <int> & <dbl> & <dbl> & <dbl> & <dbl> & <chr>\\\\\n",
       "\\hline\n",
       "\t4 & 1073023 & 62 & 0 & 1 & 21.43 & 1 & 0 & 0 & 0 & 0 & ⋯ & 137 & 25.59 & 32 & 6 & 25 & 0 & 1 & 0 & 0 & Rule\\_in \\\\\n",
       "\t5 & 1098123 & 71 & 1 & 1 & 59.37 & 1 & 0 & 0 & 0 & 0 & ⋯ &  12 &  3.61 &  4 & 1 & 16 & 1 & 1 & 1 & 1 & Rule\\_out\\\\\n",
       "\t7 & 147950  & 86 & 1 & 1 &  8.83 & 1 & 1 & 0 & 0 & 0 & ⋯ & 204 & 49.22 & 53 & 4 &  8 & 0 & 1 & 0 & 1 & Observe \\\\\n",
       "\t12 & 2030944 & 79 & 1 & 1 & 50.33 & 1 & 0 & 0 & 0 & 0 & ⋯ &  64 & 30.54 & 31 & 0 &  2 & 0 & 1 & 0 & 1 & Observe \\\\\n",
       "\t15 & 2694486 & 57 & 0 & 1 &  5.52 & 1 & 1 & 0 & 0 & 0 & ⋯ & 267 & 36.11 & 36 & 0 &  1 & 0 & 1 & 0 & 1 & Observe \\\\\n",
       "\t16 & 3036649 & 57 & 0 & 1 & 34.78 & 1 & 1 & 0 & 0 & 0 & ⋯ &  51 & 18.43 & 24 & 5 & 29 & 0 & 1 & 0 & 0 & Rule\\_in \\\\\n",
       "\\end{tabular}\n"
      ],
      "text/markdown": [
       "\n",
       "A data.frame: 6 × 26\n",
       "\n",
       "| <!--/--> | id &lt;chr&gt; | age &lt;int&gt; | age_binary &lt;int&gt; | gender &lt;int&gt; | GFR &lt;dbl&gt; | renal_dysfunction &lt;int&gt; | admitted &lt;int&gt; | admitted_cardiac &lt;int&gt; | MI &lt;int&gt; | cardiac_catheter &lt;int&gt; | ⋯ ⋯ | CGRD_T3 &lt;int&gt; | Beckman_T0 &lt;dbl&gt; | Beckman_T3 &lt;int&gt; | delta_Beckman &lt;int&gt; | delta_Beckman_per &lt;int&gt; | Beckman_T0bellow99th &lt;dbl&gt; | Beckman_T0bellow5X99th &lt;dbl&gt; | Beckman_T3bellow99th &lt;dbl&gt; | Beckman_delta_perbellow20 &lt;dbl&gt; | Beckman_pred &lt;chr&gt; |\n",
       "|---|---|---|---|---|---|---|---|---|---|---|---|---|---|---|---|---|---|---|---|---|---|\n",
       "| 4 | 1073023 | 62 | 0 | 1 | 21.43 | 1 | 0 | 0 | 0 | 0 | ⋯ | 137 | 25.59 | 32 | 6 | 25 | 0 | 1 | 0 | 0 | Rule_in  |\n",
       "| 5 | 1098123 | 71 | 1 | 1 | 59.37 | 1 | 0 | 0 | 0 | 0 | ⋯ |  12 |  3.61 |  4 | 1 | 16 | 1 | 1 | 1 | 1 | Rule_out |\n",
       "| 7 | 147950  | 86 | 1 | 1 |  8.83 | 1 | 1 | 0 | 0 | 0 | ⋯ | 204 | 49.22 | 53 | 4 |  8 | 0 | 1 | 0 | 1 | Observe  |\n",
       "| 12 | 2030944 | 79 | 1 | 1 | 50.33 | 1 | 0 | 0 | 0 | 0 | ⋯ |  64 | 30.54 | 31 | 0 |  2 | 0 | 1 | 0 | 1 | Observe  |\n",
       "| 15 | 2694486 | 57 | 0 | 1 |  5.52 | 1 | 1 | 0 | 0 | 0 | ⋯ | 267 | 36.11 | 36 | 0 |  1 | 0 | 1 | 0 | 1 | Observe  |\n",
       "| 16 | 3036649 | 57 | 0 | 1 | 34.78 | 1 | 1 | 0 | 0 | 0 | ⋯ |  51 | 18.43 | 24 | 5 | 29 | 0 | 1 | 0 | 0 | Rule_in  |\n",
       "\n"
      ],
      "text/plain": [
       "   id      age age_binary gender GFR   renal_dysfunction admitted\n",
       "4  1073023 62  0          1      21.43 1                 0       \n",
       "5  1098123 71  1          1      59.37 1                 0       \n",
       "7  147950  86  1          1       8.83 1                 1       \n",
       "12 2030944 79  1          1      50.33 1                 0       \n",
       "15 2694486 57  0          1       5.52 1                 1       \n",
       "16 3036649 57  0          1      34.78 1                 1       \n",
       "   admitted_cardiac MI cardiac_catheter ⋯ CGRD_T3 Beckman_T0 Beckman_T3\n",
       "4  0                0  0                ⋯ 137     25.59      32        \n",
       "5  0                0  0                ⋯  12      3.61       4        \n",
       "7  0                0  0                ⋯ 204     49.22      53        \n",
       "12 0                0  0                ⋯  64     30.54      31        \n",
       "15 0                0  0                ⋯ 267     36.11      36        \n",
       "16 0                0  0                ⋯  51     18.43      24        \n",
       "   delta_Beckman delta_Beckman_per Beckman_T0bellow99th Beckman_T0bellow5X99th\n",
       "4  6             25                0                    1                     \n",
       "5  1             16                1                    1                     \n",
       "7  4              8                0                    1                     \n",
       "12 0              2                0                    1                     \n",
       "15 0              1                0                    1                     \n",
       "16 5             29                0                    1                     \n",
       "   Beckman_T3bellow99th Beckman_delta_perbellow20 Beckman_pred\n",
       "4  0                    0                         Rule_in     \n",
       "5  1                    1                         Rule_out    \n",
       "7  0                    1                         Observe     \n",
       "12 0                    1                         Observe     \n",
       "15 0                    1                         Observe     \n",
       "16 0                    0                         Rule_in     "
      ]
     },
     "metadata": {},
     "output_type": "display_data"
    }
   ],
   "source": [
    "mydata_Beckman_male=mydata_Beckman[which(mydata_Beckman$gender==1),]\n",
    "head(mydata_Beckman_male)"
   ]
  },
  {
   "cell_type": "code",
   "execution_count": 40,
   "metadata": {},
   "outputs": [],
   "source": [
    "mydata_Beckman_male$Beckman_T0bellow99th=ifelse(mydata_Beckman_male$Beckman_T0<=19.8,1,0)\n",
    "mydata_Beckman_male$Beckman_T0bellow5X99th=ifelse(mydata_Beckman_male$Beckman_T0<=19.8*5,1,0)\n",
    "mydata_Beckman_male$Beckman_T3bellow99th=ifelse(mydata_Beckman_male$Beckman_T3<=19.8,1,0)\n",
    "mydata_Beckman_male$Beckman_delta_perbellow20=ifelse(mydata_Beckman_male$delta_Beckman_per<=20,1,0)"
   ]
  },
  {
   "cell_type": "code",
   "execution_count": 41,
   "metadata": {},
   "outputs": [
    {
     "data": {
      "text/plain": [
       "          \n",
       "            0  1\n",
       "  Observe  19  1\n",
       "  Rule_in  19  8\n",
       "  Rule_out 24  0"
      ]
     },
     "metadata": {},
     "output_type": "display_data"
    },
    {
     "data": {
      "text/html": [
       "0.126760563380282"
      ],
      "text/latex": [
       "0.126760563380282"
      ],
      "text/markdown": [
       "0.126760563380282"
      ],
      "text/plain": [
       "[1] 0.1267606"
      ]
     },
     "metadata": {},
     "output_type": "display_data"
    }
   ],
   "source": [
    "mydata_Beckman_male$Beckman_pred=array(0,nrow(mydata_Beckman_male))\n",
    "for(i in 1:nrow(mydata_Beckman_male)){\n",
    "  mydata_Beckman_male$Beckman_pred[i]=if(mydata_Beckman_male$Beckman_T0bellow99th[i]==1 && mydata_Beckman_male$Beckman_T3bellow99th[i]==1){\n",
    "    \"Rule_out\" \n",
    " } else if(mydata_Beckman_male$Beckman_T0bellow99th[i]==1 && mydata_Beckman_male$Beckman_T3bellow99th[i]==0 && mydata_Beckman_male$delta_Beckman_per[i]<=50){\n",
    "    \"Observe\"\n",
    " } else if(mydata_Beckman_male$Beckman_T0bellow99th[i]==1 && mydata_Beckman_male$Beckman_T3bellow99th[i]==0 && mydata_Beckman_male$delta_Beckman_per[i]>50){\n",
    "    \"Rule_in\"\n",
    " } else if(mydata_Beckman_male$Beckman_T0bellow99th[i]==0 && mydata_Beckman_male$Beckman_T0bellow5X99th[i]==0){\n",
    "    \"Rule_in\"\n",
    " } else if(mydata_Beckman_male$Beckman_T0bellow99th[i]==0 && mydata_Beckman_male$Beckman_T0bellow5X99th[i]==1 && mydata_Beckman_male$Beckman_T3bellow99th[i]==1){\n",
    "    \"Rule_out\"\n",
    " } else if(mydata_Beckman_male$Beckman_T0bellow99th[i]==0 && mydata_Beckman_male$Beckman_T0bellow5X99th[i]==1 && mydata_Beckman_male$Beckman_T3bellow99th[i]==0 && mydata_Beckman_male$Beckman_delta_perbellow20[i]==1){\n",
    "    \"Observe\"\n",
    " } else {\n",
    "    \"Rule_in\"\n",
    " }\n",
    "      }\n",
    "      \n",
    "table(mydata_Beckman_male$Beckman_pred,mydata_Beckman_male$MI)\n",
    "prevalence_Beckman_male=sum(mydata_Beckman_male$MI)/nrow(mydata_Beckman_male)\n",
    "prevalence_Beckman_male"
   ]
  },
  {
   "cell_type": "markdown",
   "metadata": {},
   "source": [
    "## Beckman: Gender (Female)"
   ]
  },
  {
   "cell_type": "code",
   "execution_count": 42,
   "metadata": {},
   "outputs": [
    {
     "data": {
      "text/html": [
       "<table class=\"dataframe\">\n",
       "<caption>A data.frame: 6 × 26</caption>\n",
       "<thead>\n",
       "\t<tr><th></th><th scope=col>id</th><th scope=col>age</th><th scope=col>age_binary</th><th scope=col>gender</th><th scope=col>GFR</th><th scope=col>renal_dysfunction</th><th scope=col>admitted</th><th scope=col>admitted_cardiac</th><th scope=col>MI</th><th scope=col>cardiac_catheter</th><th scope=col>⋯</th><th scope=col>CGRD_T3</th><th scope=col>Beckman_T0</th><th scope=col>Beckman_T3</th><th scope=col>delta_Beckman</th><th scope=col>delta_Beckman_per</th><th scope=col>Beckman_T0bellow99th</th><th scope=col>Beckman_T0bellow5X99th</th><th scope=col>Beckman_T3bellow99th</th><th scope=col>Beckman_delta_perbellow20</th><th scope=col>Beckman_pred</th></tr>\n",
       "\t<tr><th></th><th scope=col>&lt;chr&gt;</th><th scope=col>&lt;int&gt;</th><th scope=col>&lt;int&gt;</th><th scope=col>&lt;int&gt;</th><th scope=col>&lt;dbl&gt;</th><th scope=col>&lt;int&gt;</th><th scope=col>&lt;int&gt;</th><th scope=col>&lt;int&gt;</th><th scope=col>&lt;int&gt;</th><th scope=col>&lt;int&gt;</th><th scope=col>⋯</th><th scope=col>&lt;int&gt;</th><th scope=col>&lt;dbl&gt;</th><th scope=col>&lt;int&gt;</th><th scope=col>&lt;int&gt;</th><th scope=col>&lt;int&gt;</th><th scope=col>&lt;dbl&gt;</th><th scope=col>&lt;dbl&gt;</th><th scope=col>&lt;dbl&gt;</th><th scope=col>&lt;dbl&gt;</th><th scope=col>&lt;chr&gt;</th></tr>\n",
       "</thead>\n",
       "<tbody>\n",
       "\t<tr><th scope=row>1</th><td>10199119</td><td>62</td><td>0</td><td>0</td><td>107.71</td><td>0</td><td>0</td><td>0</td><td>0</td><td>0</td><td>⋯</td><td> 11</td><td>  6.38</td><td>  8</td><td> 1</td><td>21</td><td>1</td><td>1</td><td>1</td><td>0</td><td>Rule_out</td></tr>\n",
       "\t<tr><th scope=row>2</th><td>1044197 </td><td>87</td><td>1</td><td>0</td><td> 50.51</td><td>1</td><td>0</td><td>0</td><td>0</td><td>0</td><td>⋯</td><td> 26</td><td>  3.65</td><td>  4</td><td> 1</td><td>18</td><td>1</td><td>1</td><td>1</td><td>1</td><td>Rule_out</td></tr>\n",
       "\t<tr><th scope=row>3</th><td>10588102</td><td>26</td><td>0</td><td>0</td><td>131.41</td><td>0</td><td>0</td><td>0</td><td>0</td><td>0</td><td>⋯</td><td>  3</td><td>  0.85</td><td>  0</td><td> 1</td><td>62</td><td>1</td><td>1</td><td>1</td><td>0</td><td>Rule_out</td></tr>\n",
       "\t<tr><th scope=row>6</th><td>1107763 </td><td>60</td><td>0</td><td>0</td><td>  2.44</td><td>1</td><td>0</td><td>0</td><td>0</td><td>0</td><td>⋯</td><td> 37</td><td> 14.43</td><td> 23</td><td> 9</td><td>62</td><td>1</td><td>1</td><td>0</td><td>0</td><td>Rule_in </td></tr>\n",
       "\t<tr><th scope=row>8</th><td>150547  </td><td>78</td><td>1</td><td>0</td><td> 11.35</td><td>1</td><td>1</td><td>0</td><td>0</td><td>0</td><td>⋯</td><td> 79</td><td>  9.12</td><td> 10</td><td> 1</td><td>15</td><td>1</td><td>1</td><td>1</td><td>1</td><td>Rule_out</td></tr>\n",
       "\t<tr><th scope=row>9</th><td>1839516 </td><td>44</td><td>0</td><td>0</td><td>109.26</td><td>0</td><td>1</td><td>0</td><td>0</td><td>0</td><td>⋯</td><td>273</td><td>446.99</td><td>503</td><td>57</td><td>13</td><td>0</td><td>0</td><td>0</td><td>1</td><td>Rule_in </td></tr>\n",
       "</tbody>\n",
       "</table>\n"
      ],
      "text/latex": [
       "A data.frame: 6 × 26\n",
       "\\begin{tabular}{r|lllllllllllllllllllll}\n",
       "  & id & age & age\\_binary & gender & GFR & renal\\_dysfunction & admitted & admitted\\_cardiac & MI & cardiac\\_catheter & ⋯ & CGRD\\_T3 & Beckman\\_T0 & Beckman\\_T3 & delta\\_Beckman & delta\\_Beckman\\_per & Beckman\\_T0bellow99th & Beckman\\_T0bellow5X99th & Beckman\\_T3bellow99th & Beckman\\_delta\\_perbellow20 & Beckman\\_pred\\\\\n",
       "  & <chr> & <int> & <int> & <int> & <dbl> & <int> & <int> & <int> & <int> & <int> & ⋯ & <int> & <dbl> & <int> & <int> & <int> & <dbl> & <dbl> & <dbl> & <dbl> & <chr>\\\\\n",
       "\\hline\n",
       "\t1 & 10199119 & 62 & 0 & 0 & 107.71 & 0 & 0 & 0 & 0 & 0 & ⋯ &  11 &   6.38 &   8 &  1 & 21 & 1 & 1 & 1 & 0 & Rule\\_out\\\\\n",
       "\t2 & 1044197  & 87 & 1 & 0 &  50.51 & 1 & 0 & 0 & 0 & 0 & ⋯ &  26 &   3.65 &   4 &  1 & 18 & 1 & 1 & 1 & 1 & Rule\\_out\\\\\n",
       "\t3 & 10588102 & 26 & 0 & 0 & 131.41 & 0 & 0 & 0 & 0 & 0 & ⋯ &   3 &   0.85 &   0 &  1 & 62 & 1 & 1 & 1 & 0 & Rule\\_out\\\\\n",
       "\t6 & 1107763  & 60 & 0 & 0 &   2.44 & 1 & 0 & 0 & 0 & 0 & ⋯ &  37 &  14.43 &  23 &  9 & 62 & 1 & 1 & 0 & 0 & Rule\\_in \\\\\n",
       "\t8 & 150547   & 78 & 1 & 0 &  11.35 & 1 & 1 & 0 & 0 & 0 & ⋯ &  79 &   9.12 &  10 &  1 & 15 & 1 & 1 & 1 & 1 & Rule\\_out\\\\\n",
       "\t9 & 1839516  & 44 & 0 & 0 & 109.26 & 0 & 1 & 0 & 0 & 0 & ⋯ & 273 & 446.99 & 503 & 57 & 13 & 0 & 0 & 0 & 1 & Rule\\_in \\\\\n",
       "\\end{tabular}\n"
      ],
      "text/markdown": [
       "\n",
       "A data.frame: 6 × 26\n",
       "\n",
       "| <!--/--> | id &lt;chr&gt; | age &lt;int&gt; | age_binary &lt;int&gt; | gender &lt;int&gt; | GFR &lt;dbl&gt; | renal_dysfunction &lt;int&gt; | admitted &lt;int&gt; | admitted_cardiac &lt;int&gt; | MI &lt;int&gt; | cardiac_catheter &lt;int&gt; | ⋯ ⋯ | CGRD_T3 &lt;int&gt; | Beckman_T0 &lt;dbl&gt; | Beckman_T3 &lt;int&gt; | delta_Beckman &lt;int&gt; | delta_Beckman_per &lt;int&gt; | Beckman_T0bellow99th &lt;dbl&gt; | Beckman_T0bellow5X99th &lt;dbl&gt; | Beckman_T3bellow99th &lt;dbl&gt; | Beckman_delta_perbellow20 &lt;dbl&gt; | Beckman_pred &lt;chr&gt; |\n",
       "|---|---|---|---|---|---|---|---|---|---|---|---|---|---|---|---|---|---|---|---|---|---|\n",
       "| 1 | 10199119 | 62 | 0 | 0 | 107.71 | 0 | 0 | 0 | 0 | 0 | ⋯ |  11 |   6.38 |   8 |  1 | 21 | 1 | 1 | 1 | 0 | Rule_out |\n",
       "| 2 | 1044197  | 87 | 1 | 0 |  50.51 | 1 | 0 | 0 | 0 | 0 | ⋯ |  26 |   3.65 |   4 |  1 | 18 | 1 | 1 | 1 | 1 | Rule_out |\n",
       "| 3 | 10588102 | 26 | 0 | 0 | 131.41 | 0 | 0 | 0 | 0 | 0 | ⋯ |   3 |   0.85 |   0 |  1 | 62 | 1 | 1 | 1 | 0 | Rule_out |\n",
       "| 6 | 1107763  | 60 | 0 | 0 |   2.44 | 1 | 0 | 0 | 0 | 0 | ⋯ |  37 |  14.43 |  23 |  9 | 62 | 1 | 1 | 0 | 0 | Rule_in  |\n",
       "| 8 | 150547   | 78 | 1 | 0 |  11.35 | 1 | 1 | 0 | 0 | 0 | ⋯ |  79 |   9.12 |  10 |  1 | 15 | 1 | 1 | 1 | 1 | Rule_out |\n",
       "| 9 | 1839516  | 44 | 0 | 0 | 109.26 | 0 | 1 | 0 | 0 | 0 | ⋯ | 273 | 446.99 | 503 | 57 | 13 | 0 | 0 | 0 | 1 | Rule_in  |\n",
       "\n"
      ],
      "text/plain": [
       "  id       age age_binary gender GFR    renal_dysfunction admitted\n",
       "1 10199119 62  0          0      107.71 0                 0       \n",
       "2 1044197  87  1          0       50.51 1                 0       \n",
       "3 10588102 26  0          0      131.41 0                 0       \n",
       "6 1107763  60  0          0        2.44 1                 0       \n",
       "8 150547   78  1          0       11.35 1                 1       \n",
       "9 1839516  44  0          0      109.26 0                 1       \n",
       "  admitted_cardiac MI cardiac_catheter ⋯ CGRD_T3 Beckman_T0 Beckman_T3\n",
       "1 0                0  0                ⋯  11       6.38       8       \n",
       "2 0                0  0                ⋯  26       3.65       4       \n",
       "3 0                0  0                ⋯   3       0.85       0       \n",
       "6 0                0  0                ⋯  37      14.43      23       \n",
       "8 0                0  0                ⋯  79       9.12      10       \n",
       "9 0                0  0                ⋯ 273     446.99     503       \n",
       "  delta_Beckman delta_Beckman_per Beckman_T0bellow99th Beckman_T0bellow5X99th\n",
       "1  1            21                1                    1                     \n",
       "2  1            18                1                    1                     \n",
       "3  1            62                1                    1                     \n",
       "6  9            62                1                    1                     \n",
       "8  1            15                1                    1                     \n",
       "9 57            13                0                    0                     \n",
       "  Beckman_T3bellow99th Beckman_delta_perbellow20 Beckman_pred\n",
       "1 1                    0                         Rule_out    \n",
       "2 1                    1                         Rule_out    \n",
       "3 1                    0                         Rule_out    \n",
       "6 0                    0                         Rule_in     \n",
       "8 1                    1                         Rule_out    \n",
       "9 0                    1                         Rule_in     "
      ]
     },
     "metadata": {},
     "output_type": "display_data"
    }
   ],
   "source": [
    "mydata_Beckman_female=mydata_Beckman[which(mydata_Beckman$gender==0),]\n",
    "head(mydata_Beckman_female)"
   ]
  },
  {
   "cell_type": "code",
   "execution_count": 43,
   "metadata": {},
   "outputs": [],
   "source": [
    "mydata_Beckman_female$Beckman_T0bellow99th=ifelse(mydata_Beckman_female$Beckman_T0<=11.6,1,0)\n",
    "mydata_Beckman_female$Beckman_T0bellow5X99th=ifelse(mydata_Beckman_female$Beckman_T0<=11.6*5,1,0)\n",
    "mydata_Beckman_female$Beckman_T3bellow99th=ifelse(mydata_Beckman_female$Beckman_T3<=11.6,1,0)\n",
    "mydata_Beckman_female$Beckman_delta_perbellow20=ifelse(mydata_Beckman_female$delta_Beckman_per<=20,1,0)"
   ]
  },
  {
   "cell_type": "code",
   "execution_count": 44,
   "metadata": {},
   "outputs": [
    {
     "data": {
      "text/plain": [
       "          \n",
       "            0  1\n",
       "  Observe  13  0\n",
       "  Rule_in  17  2\n",
       "  Rule_out 24  0"
      ]
     },
     "metadata": {},
     "output_type": "display_data"
    },
    {
     "data": {
      "text/html": [
       "0.0357142857142857"
      ],
      "text/latex": [
       "0.0357142857142857"
      ],
      "text/markdown": [
       "0.0357142857142857"
      ],
      "text/plain": [
       "[1] 0.03571429"
      ]
     },
     "metadata": {},
     "output_type": "display_data"
    }
   ],
   "source": [
    "mydata_Beckman_female$Beckman_pred=array(0,nrow(mydata_Beckman_female))\n",
    "for(i in 1:nrow(mydata_Beckman_female)){\n",
    "  mydata_Beckman_female$Beckman_pred[i]=if(mydata_Beckman_female$Beckman_T0bellow99th[i]==1 && mydata_Beckman_female$Beckman_T3bellow99th[i]==1){\n",
    "    \"Rule_out\" \n",
    " } else if(mydata_Beckman_female$Beckman_T0bellow99th[i]==1 && mydata_Beckman_female$Beckman_T3bellow99th[i]==0 && mydata_Beckman_female$delta_Beckman_per[i]<=50){\n",
    "    \"Observe\"\n",
    " } else if(mydata_Beckman_female$Beckman_T0bellow99th[i]==1 && mydata_Beckman_female$Beckman_T3bellow99th[i]==0 && mydata_Beckman_female$delta_Beckman_per[i]>50){\n",
    "    \"Rule_in\"\n",
    " } else if(mydata_Beckman_female$Beckman_T0bellow99th[i]==0 && mydata_Beckman_female$Beckman_T0bellow5X99th[i]==0){\n",
    "    \"Rule_in\"\n",
    " } else if(mydata_Beckman_female$Beckman_T0bellow99th[i]==0 && mydata_Beckman_female$Beckman_T0bellow5X99th[i]==1 && mydata_Beckman_female$Beckman_T3bellow99th[i]==1){\n",
    "    \"Rule_out\"\n",
    " } else if(mydata_Beckman_female$Beckman_T0bellow99th[i]==0 && mydata_Beckman_female$Beckman_T0bellow5X99th[i]==1 && mydata_Beckman_female$Beckman_T3bellow99th[i]==0 && mydata_Beckman_female$Beckman_delta_perbellow20[i]==1){\n",
    "    \"Observe\"\n",
    " } else {\n",
    "    \"Rule_in\"\n",
    " }\n",
    "      }\n",
    "      \n",
    "table(mydata_Beckman_female$Beckman_pred,mydata_Beckman_female$MI)\n",
    "prevalence_Beckman_female=sum(mydata_Beckman_female$MI)/nrow(mydata_Beckman_female)\n",
    "prevalence_Beckman_female"
   ]
  },
  {
   "cell_type": "markdown",
   "metadata": {},
   "source": [
    "## Beckman: eGFR<60"
   ]
  },
  {
   "cell_type": "code",
   "execution_count": 45,
   "metadata": {},
   "outputs": [
    {
     "data": {
      "text/html": [
       "<table class=\"dataframe\">\n",
       "<caption>A data.frame: 6 × 26</caption>\n",
       "<thead>\n",
       "\t<tr><th></th><th scope=col>id</th><th scope=col>age</th><th scope=col>age_binary</th><th scope=col>gender</th><th scope=col>GFR</th><th scope=col>renal_dysfunction</th><th scope=col>admitted</th><th scope=col>admitted_cardiac</th><th scope=col>MI</th><th scope=col>cardiac_catheter</th><th scope=col>⋯</th><th scope=col>CGRD_T3</th><th scope=col>Beckman_T0</th><th scope=col>Beckman_T3</th><th scope=col>delta_Beckman</th><th scope=col>delta_Beckman_per</th><th scope=col>Beckman_T0bellow99th</th><th scope=col>Beckman_T0bellow5X99th</th><th scope=col>Beckman_T3bellow99th</th><th scope=col>Beckman_delta_perbellow20</th><th scope=col>Beckman_pred</th></tr>\n",
       "\t<tr><th></th><th scope=col>&lt;chr&gt;</th><th scope=col>&lt;int&gt;</th><th scope=col>&lt;int&gt;</th><th scope=col>&lt;int&gt;</th><th scope=col>&lt;dbl&gt;</th><th scope=col>&lt;int&gt;</th><th scope=col>&lt;int&gt;</th><th scope=col>&lt;int&gt;</th><th scope=col>&lt;int&gt;</th><th scope=col>&lt;int&gt;</th><th scope=col>⋯</th><th scope=col>&lt;int&gt;</th><th scope=col>&lt;dbl&gt;</th><th scope=col>&lt;int&gt;</th><th scope=col>&lt;int&gt;</th><th scope=col>&lt;int&gt;</th><th scope=col>&lt;dbl&gt;</th><th scope=col>&lt;dbl&gt;</th><th scope=col>&lt;dbl&gt;</th><th scope=col>&lt;dbl&gt;</th><th scope=col>&lt;chr&gt;</th></tr>\n",
       "</thead>\n",
       "<tbody>\n",
       "\t<tr><th scope=row>2</th><td>1044197</td><td>87</td><td>1</td><td>0</td><td>50.51</td><td>1</td><td>0</td><td>0</td><td>0</td><td>0</td><td>⋯</td><td> 26</td><td> 3.65</td><td> 4</td><td>1</td><td>18</td><td>1</td><td>1</td><td>1</td><td>1</td><td>Rule_out</td></tr>\n",
       "\t<tr><th scope=row>4</th><td>1073023</td><td>62</td><td>0</td><td>1</td><td>21.43</td><td>1</td><td>0</td><td>0</td><td>0</td><td>0</td><td>⋯</td><td>137</td><td>25.59</td><td>32</td><td>6</td><td>25</td><td>0</td><td>1</td><td>0</td><td>0</td><td>Rule_in </td></tr>\n",
       "\t<tr><th scope=row>5</th><td>1098123</td><td>71</td><td>1</td><td>1</td><td>59.37</td><td>1</td><td>0</td><td>0</td><td>0</td><td>0</td><td>⋯</td><td> 12</td><td> 3.61</td><td> 4</td><td>1</td><td>16</td><td>1</td><td>1</td><td>1</td><td>1</td><td>Rule_out</td></tr>\n",
       "\t<tr><th scope=row>6</th><td>1107763</td><td>60</td><td>0</td><td>0</td><td> 2.44</td><td>1</td><td>0</td><td>0</td><td>0</td><td>0</td><td>⋯</td><td> 37</td><td>14.43</td><td>23</td><td>9</td><td>62</td><td>1</td><td>1</td><td>0</td><td>0</td><td>Rule_in </td></tr>\n",
       "\t<tr><th scope=row>7</th><td>147950 </td><td>86</td><td>1</td><td>1</td><td> 8.83</td><td>1</td><td>1</td><td>0</td><td>0</td><td>0</td><td>⋯</td><td>204</td><td>49.22</td><td>53</td><td>4</td><td> 8</td><td>0</td><td>1</td><td>0</td><td>1</td><td>Observe </td></tr>\n",
       "\t<tr><th scope=row>8</th><td>150547 </td><td>78</td><td>1</td><td>0</td><td>11.35</td><td>1</td><td>1</td><td>0</td><td>0</td><td>0</td><td>⋯</td><td> 79</td><td> 9.12</td><td>10</td><td>1</td><td>15</td><td>1</td><td>1</td><td>1</td><td>1</td><td>Rule_out</td></tr>\n",
       "</tbody>\n",
       "</table>\n"
      ],
      "text/latex": [
       "A data.frame: 6 × 26\n",
       "\\begin{tabular}{r|lllllllllllllllllllll}\n",
       "  & id & age & age\\_binary & gender & GFR & renal\\_dysfunction & admitted & admitted\\_cardiac & MI & cardiac\\_catheter & ⋯ & CGRD\\_T3 & Beckman\\_T0 & Beckman\\_T3 & delta\\_Beckman & delta\\_Beckman\\_per & Beckman\\_T0bellow99th & Beckman\\_T0bellow5X99th & Beckman\\_T3bellow99th & Beckman\\_delta\\_perbellow20 & Beckman\\_pred\\\\\n",
       "  & <chr> & <int> & <int> & <int> & <dbl> & <int> & <int> & <int> & <int> & <int> & ⋯ & <int> & <dbl> & <int> & <int> & <int> & <dbl> & <dbl> & <dbl> & <dbl> & <chr>\\\\\n",
       "\\hline\n",
       "\t2 & 1044197 & 87 & 1 & 0 & 50.51 & 1 & 0 & 0 & 0 & 0 & ⋯ &  26 &  3.65 &  4 & 1 & 18 & 1 & 1 & 1 & 1 & Rule\\_out\\\\\n",
       "\t4 & 1073023 & 62 & 0 & 1 & 21.43 & 1 & 0 & 0 & 0 & 0 & ⋯ & 137 & 25.59 & 32 & 6 & 25 & 0 & 1 & 0 & 0 & Rule\\_in \\\\\n",
       "\t5 & 1098123 & 71 & 1 & 1 & 59.37 & 1 & 0 & 0 & 0 & 0 & ⋯ &  12 &  3.61 &  4 & 1 & 16 & 1 & 1 & 1 & 1 & Rule\\_out\\\\\n",
       "\t6 & 1107763 & 60 & 0 & 0 &  2.44 & 1 & 0 & 0 & 0 & 0 & ⋯ &  37 & 14.43 & 23 & 9 & 62 & 1 & 1 & 0 & 0 & Rule\\_in \\\\\n",
       "\t7 & 147950  & 86 & 1 & 1 &  8.83 & 1 & 1 & 0 & 0 & 0 & ⋯ & 204 & 49.22 & 53 & 4 &  8 & 0 & 1 & 0 & 1 & Observe \\\\\n",
       "\t8 & 150547  & 78 & 1 & 0 & 11.35 & 1 & 1 & 0 & 0 & 0 & ⋯ &  79 &  9.12 & 10 & 1 & 15 & 1 & 1 & 1 & 1 & Rule\\_out\\\\\n",
       "\\end{tabular}\n"
      ],
      "text/markdown": [
       "\n",
       "A data.frame: 6 × 26\n",
       "\n",
       "| <!--/--> | id &lt;chr&gt; | age &lt;int&gt; | age_binary &lt;int&gt; | gender &lt;int&gt; | GFR &lt;dbl&gt; | renal_dysfunction &lt;int&gt; | admitted &lt;int&gt; | admitted_cardiac &lt;int&gt; | MI &lt;int&gt; | cardiac_catheter &lt;int&gt; | ⋯ ⋯ | CGRD_T3 &lt;int&gt; | Beckman_T0 &lt;dbl&gt; | Beckman_T3 &lt;int&gt; | delta_Beckman &lt;int&gt; | delta_Beckman_per &lt;int&gt; | Beckman_T0bellow99th &lt;dbl&gt; | Beckman_T0bellow5X99th &lt;dbl&gt; | Beckman_T3bellow99th &lt;dbl&gt; | Beckman_delta_perbellow20 &lt;dbl&gt; | Beckman_pred &lt;chr&gt; |\n",
       "|---|---|---|---|---|---|---|---|---|---|---|---|---|---|---|---|---|---|---|---|---|---|\n",
       "| 2 | 1044197 | 87 | 1 | 0 | 50.51 | 1 | 0 | 0 | 0 | 0 | ⋯ |  26 |  3.65 |  4 | 1 | 18 | 1 | 1 | 1 | 1 | Rule_out |\n",
       "| 4 | 1073023 | 62 | 0 | 1 | 21.43 | 1 | 0 | 0 | 0 | 0 | ⋯ | 137 | 25.59 | 32 | 6 | 25 | 0 | 1 | 0 | 0 | Rule_in  |\n",
       "| 5 | 1098123 | 71 | 1 | 1 | 59.37 | 1 | 0 | 0 | 0 | 0 | ⋯ |  12 |  3.61 |  4 | 1 | 16 | 1 | 1 | 1 | 1 | Rule_out |\n",
       "| 6 | 1107763 | 60 | 0 | 0 |  2.44 | 1 | 0 | 0 | 0 | 0 | ⋯ |  37 | 14.43 | 23 | 9 | 62 | 1 | 1 | 0 | 0 | Rule_in  |\n",
       "| 7 | 147950  | 86 | 1 | 1 |  8.83 | 1 | 1 | 0 | 0 | 0 | ⋯ | 204 | 49.22 | 53 | 4 |  8 | 0 | 1 | 0 | 1 | Observe  |\n",
       "| 8 | 150547  | 78 | 1 | 0 | 11.35 | 1 | 1 | 0 | 0 | 0 | ⋯ |  79 |  9.12 | 10 | 1 | 15 | 1 | 1 | 1 | 1 | Rule_out |\n",
       "\n"
      ],
      "text/plain": [
       "  id      age age_binary gender GFR   renal_dysfunction admitted\n",
       "2 1044197 87  1          0      50.51 1                 0       \n",
       "4 1073023 62  0          1      21.43 1                 0       \n",
       "5 1098123 71  1          1      59.37 1                 0       \n",
       "6 1107763 60  0          0       2.44 1                 0       \n",
       "7 147950  86  1          1       8.83 1                 1       \n",
       "8 150547  78  1          0      11.35 1                 1       \n",
       "  admitted_cardiac MI cardiac_catheter ⋯ CGRD_T3 Beckman_T0 Beckman_T3\n",
       "2 0                0  0                ⋯  26      3.65       4        \n",
       "4 0                0  0                ⋯ 137     25.59      32        \n",
       "5 0                0  0                ⋯  12      3.61       4        \n",
       "6 0                0  0                ⋯  37     14.43      23        \n",
       "7 0                0  0                ⋯ 204     49.22      53        \n",
       "8 0                0  0                ⋯  79      9.12      10        \n",
       "  delta_Beckman delta_Beckman_per Beckman_T0bellow99th Beckman_T0bellow5X99th\n",
       "2 1             18                1                    1                     \n",
       "4 6             25                0                    1                     \n",
       "5 1             16                1                    1                     \n",
       "6 9             62                1                    1                     \n",
       "7 4              8                0                    1                     \n",
       "8 1             15                1                    1                     \n",
       "  Beckman_T3bellow99th Beckman_delta_perbellow20 Beckman_pred\n",
       "2 1                    1                         Rule_out    \n",
       "4 0                    0                         Rule_in     \n",
       "5 1                    1                         Rule_out    \n",
       "6 0                    0                         Rule_in     \n",
       "7 0                    1                         Observe     \n",
       "8 1                    1                         Rule_out    "
      ]
     },
     "metadata": {},
     "output_type": "display_data"
    }
   ],
   "source": [
    "mydata_Beckman_GFR=mydata_Beckman[which(mydata_Beckman$GFR<60),]\n",
    "head(mydata_Beckman_GFR)"
   ]
  },
  {
   "cell_type": "code",
   "execution_count": 46,
   "metadata": {},
   "outputs": [],
   "source": [
    "mydata_Beckman_GFR$Beckman_T0bellow99th=ifelse(mydata_Beckman_GFR$Beckman_T0<=25.9,1,0)\n",
    "mydata_Beckman_GFR$Beckman_T0bellow5X99th=ifelse(mydata_Beckman_GFR$Beckman_T0<=25.9*5,1,0)\n",
    "mydata_Beckman_GFR$Beckman_T3bellow99th=ifelse(mydata_Beckman_GFR$Beckman_T3<=25.9,1,0)\n",
    "mydata_Beckman_GFR$Beckman_delta_perbellow20=ifelse(mydata_Beckman_GFR$delta_Beckman_per<=20,1,0)"
   ]
  },
  {
   "cell_type": "code",
   "execution_count": 47,
   "metadata": {},
   "outputs": [
    {
     "data": {
      "text/plain": [
       "          \n",
       "            0  1\n",
       "  Observe  19  2\n",
       "  Rule_in  21  4\n",
       "  Rule_out 34  0"
      ]
     },
     "metadata": {},
     "output_type": "display_data"
    },
    {
     "data": {
      "text/html": [
       "0.075"
      ],
      "text/latex": [
       "0.075"
      ],
      "text/markdown": [
       "0.075"
      ],
      "text/plain": [
       "[1] 0.075"
      ]
     },
     "metadata": {},
     "output_type": "display_data"
    }
   ],
   "source": [
    "mydata_Beckman_GFR$Beckman_pred=array(0,nrow(mydata_Beckman_GFR))\n",
    "for(i in 1:nrow(mydata_Beckman_GFR)){\n",
    "  mydata_Beckman_GFR$Beckman_pred[i]=if(mydata_Beckman_GFR$Beckman_T0bellow99th[i]==1 && mydata_Beckman_GFR$Beckman_T3bellow99th[i]==1){\n",
    "    \"Rule_out\" \n",
    " } else if(mydata_Beckman_GFR$Beckman_T0bellow99th[i]==1 && mydata_Beckman_GFR$Beckman_T3bellow99th[i]==0 && mydata_Beckman_GFR$delta_Beckman_per[i]<=50){\n",
    "    \"Observe\"\n",
    " } else if(mydata_Beckman_GFR$Beckman_T0bellow99th[i]==1 && mydata_Beckman_GFR$Beckman_T3bellow99th[i]==0 && mydata_Beckman_GFR$delta_Beckman_per[i]>50){\n",
    "    \"Rule_in\"\n",
    " } else if(mydata_Beckman_GFR$Beckman_T0bellow99th[i]==0 && mydata_Beckman_GFR$Beckman_T0bellow5X99th[i]==0){\n",
    "    \"Rule_in\"\n",
    " } else if(mydata_Beckman_GFR$Beckman_T0bellow99th[i]==0 && mydata_Beckman_GFR$Beckman_T0bellow5X99th[i]==1 && mydata_Beckman_GFR$Beckman_T3bellow99th[i]==1){\n",
    "    \"Rule_out\"\n",
    " } else if(mydata_Beckman_GFR$Beckman_T0bellow99th[i]==0 && mydata_Beckman_GFR$Beckman_T0bellow5X99th[i]==1 && mydata_Beckman_GFR$Beckman_T3bellow99th[i]==0 && mydata_Beckman_GFR$Beckman_delta_perbellow20[i]==1){\n",
    "    \"Observe\"\n",
    " } else {\n",
    "    \"Rule_in\"\n",
    " }\n",
    "      }\n",
    "      \n",
    "table(mydata_Beckman_GFR$Beckman_pred,mydata_Beckman_GFR$MI)\n",
    "prevalence_Beckman_GFR=sum(mydata_Beckman_GFR$MI)/nrow(mydata_Beckman_GFR)\n",
    "prevalence_Beckman_GFR"
   ]
  },
  {
   "cell_type": "markdown",
   "metadata": {},
   "source": [
    "## AUROC Comparison"
   ]
  },
  {
   "cell_type": "code",
   "execution_count": 48,
   "metadata": {},
   "outputs": [
    {
     "name": "stderr",
     "output_type": "stream",
     "text": [
      "Setting levels: control = 0, case = 1\n",
      "\n",
      "Setting direction: controls < cases\n",
      "\n",
      "Setting levels: control = 0, case = 1\n",
      "\n",
      "Setting direction: controls < cases\n",
      "\n",
      "Setting levels: control = 0, case = 1\n",
      "\n",
      "Setting direction: controls < cases\n",
      "\n"
     ]
    },
    {
     "data": {
      "text/plain": [
       "\n",
       "Call:\n",
       "roc.default(response = mydata$MI, predictor = mydata$Roche_T0,     smooth = TRUE)\n",
       "\n",
       "Data: mydata$Roche_T0 in 116 controls (mydata$MI 0) < 11 cases (mydata$MI 1).\n",
       "Smoothing: binormal \n",
       "Area under the curve: 0.716"
      ]
     },
     "metadata": {},
     "output_type": "display_data"
    },
    {
     "data": {
      "text/html": [
       "<style>\n",
       ".dl-inline {width: auto; margin:0; padding: 0}\n",
       ".dl-inline>dt, .dl-inline>dd {float: none; width: auto; display: inline-block}\n",
       ".dl-inline>dt::after {content: \":\\0020\"; padding-right: .5ex}\n",
       ".dl-inline>dt:not(:first-of-type) {padding-left: .5ex}\n",
       "</style><dl class=dl-inline><dt>2.5%</dt><dd>0.540192932233448</dd><dt>50%</dt><dd>0.719232402863306</dd><dt>97.5%</dt><dd>0.88099487833275</dd></dl>\n"
      ],
      "text/latex": [
       "\\begin{description*}\n",
       "\\item[2.5\\textbackslash{}\\%] 0.540192932233448\n",
       "\\item[50\\textbackslash{}\\%] 0.719232402863306\n",
       "\\item[97.5\\textbackslash{}\\%] 0.88099487833275\n",
       "\\end{description*}\n"
      ],
      "text/markdown": [
       "2.5%\n",
       ":   0.54019293223344850%\n",
       ":   0.71923240286330697.5%\n",
       ":   0.88099487833275\n",
       "\n"
      ],
      "text/plain": [
       "95% CI: 0.5402-0.881 (2000 stratified bootstrap replicates)"
      ]
     },
     "metadata": {},
     "output_type": "display_data"
    },
    {
     "data": {
      "text/plain": [
       "\n",
       "Call:\n",
       "roc.default(response = mydata$MI, predictor = mydata$Beckman_T0,     smooth = TRUE)\n",
       "\n",
       "Data: mydata$Beckman_T0 in 116 controls (mydata$MI 0) < 11 cases (mydata$MI 1).\n",
       "Smoothing: binormal \n",
       "Area under the curve: 0.7576"
      ]
     },
     "metadata": {},
     "output_type": "display_data"
    },
    {
     "data": {
      "text/html": [
       "<style>\n",
       ".dl-inline {width: auto; margin:0; padding: 0}\n",
       ".dl-inline>dt, .dl-inline>dd {float: none; width: auto; display: inline-block}\n",
       ".dl-inline>dt::after {content: \":\\0020\"; padding-right: .5ex}\n",
       ".dl-inline>dt:not(:first-of-type) {padding-left: .5ex}\n",
       "</style><dl class=dl-inline><dt>2.5%</dt><dd>0.607058957855631</dd><dt>50%</dt><dd>0.757518883703249</dd><dt>97.5%</dt><dd>0.866686536462673</dd></dl>\n"
      ],
      "text/latex": [
       "\\begin{description*}\n",
       "\\item[2.5\\textbackslash{}\\%] 0.607058957855631\n",
       "\\item[50\\textbackslash{}\\%] 0.757518883703249\n",
       "\\item[97.5\\textbackslash{}\\%] 0.866686536462673\n",
       "\\end{description*}\n"
      ],
      "text/markdown": [
       "2.5%\n",
       ":   0.60705895785563150%\n",
       ":   0.75751888370324997.5%\n",
       ":   0.866686536462673\n",
       "\n"
      ],
      "text/plain": [
       "95% CI: 0.6071-0.8667 (2000 stratified bootstrap replicates)"
      ]
     },
     "metadata": {},
     "output_type": "display_data"
    },
    {
     "data": {
      "text/plain": [
       "\n",
       "Call:\n",
       "roc.default(response = mydata$MI, predictor = mydata$Abbott_T0,     smooth = TRUE)\n",
       "\n",
       "Data: mydata$Abbott_T0 in 116 controls (mydata$MI 0) < 11 cases (mydata$MI 1).\n",
       "Smoothing: binormal \n",
       "Area under the curve: 0.776"
      ]
     },
     "metadata": {},
     "output_type": "display_data"
    },
    {
     "data": {
      "text/html": [
       "<style>\n",
       ".dl-inline {width: auto; margin:0; padding: 0}\n",
       ".dl-inline>dt, .dl-inline>dd {float: none; width: auto; display: inline-block}\n",
       ".dl-inline>dt::after {content: \":\\0020\"; padding-right: .5ex}\n",
       ".dl-inline>dt:not(:first-of-type) {padding-left: .5ex}\n",
       "</style><dl class=dl-inline><dt>2.5%</dt><dd>0.623991919090574</dd><dt>50%</dt><dd>0.771245859056541</dd><dt>97.5%</dt><dd>0.880508487471763</dd></dl>\n"
      ],
      "text/latex": [
       "\\begin{description*}\n",
       "\\item[2.5\\textbackslash{}\\%] 0.623991919090574\n",
       "\\item[50\\textbackslash{}\\%] 0.771245859056541\n",
       "\\item[97.5\\textbackslash{}\\%] 0.880508487471763\n",
       "\\end{description*}\n"
      ],
      "text/markdown": [
       "2.5%\n",
       ":   0.62399191909057450%\n",
       ":   0.77124585905654197.5%\n",
       ":   0.880508487471763\n",
       "\n"
      ],
      "text/plain": [
       "95% CI: 0.624-0.8805 (2000 stratified bootstrap replicates)"
      ]
     },
     "metadata": {},
     "output_type": "display_data"
    },
    {
     "data": {
      "text/plain": [
       "\n",
       "Call:\n",
       "roc.default(response = mydata$MI, predictor = mydata$Abbott_T0,     smooth = TRUE)\n",
       "\n",
       "Data: mydata$Abbott_T0 in 116 controls (mydata$MI 0) < 11 cases (mydata$MI 1).\n",
       "Smoothing: binormal \n",
       "Area under the curve: 0.776"
      ]
     },
     "metadata": {},
     "output_type": "display_data"
    },
    {
     "data": {
      "image/png": "[encoded data removed]",
      "text/plain": [
       "plot without title"
      ]
     },
     "metadata": {
      "image/png": {
       "height": 420,
       "width": 420
      }
     },
     "output_type": "display_data"
    }
   ],
   "source": [
    "## 0 hour\n",
    "Roche_T0_ROC=roc(mydata$MI, mydata$Roche_T0,smooth=TRUE)\n",
    "Beckman_T0_ROC=roc(mydata$MI, mydata$Beckman_T0,smooth=TRUE)\n",
    "Abbott_T0_ROC=roc(mydata$MI, mydata$Abbott_T0,smooth=TRUE)\n",
    "Roche_T0_ROC\n",
    "ci.auc(Roche_T0_ROC)\n",
    "Beckman_T0_ROC\n",
    "ci.auc(Beckman_T0_ROC)\n",
    "Abbott_T0_ROC\n",
    "ci.auc(Abbott_T0_ROC)\n",
    "Abbott_T0_ROC\n",
    "plot(Abbott_T0_ROC,lty=1,lwd=3)\n",
    "plot(Beckman_T0_ROC,add=TRUE,col=\"red\")\n",
    "plot(Roche_T0_ROC,add=TRUE,col=\"blue\")\n",
    "legend(\"bottomright\",legend=c(\"Abbott, AUC=0.776 (0.636-0.877)\",\n",
    "                              \"Beckman, AUC=0.758 (0.600-0.868)\",\n",
    "                              \"Roche, AUC=0.716 (0.531-0.891)\"),\n",
    "       col=c(\"black\",\"red\",\"blue\"),lwd=2)"
   ]
  },
  {
   "cell_type": "code",
   "execution_count": 49,
   "metadata": {},
   "outputs": [
    {
     "name": "stderr",
     "output_type": "stream",
     "text": [
      "Setting levels: control = 0, case = 1\n",
      "\n",
      "Setting direction: controls < cases\n",
      "\n",
      "Setting levels: control = 0, case = 1\n",
      "\n",
      "Setting direction: controls < cases\n",
      "\n",
      "Setting levels: control = 0, case = 1\n",
      "\n",
      "Setting direction: controls < cases\n",
      "\n"
     ]
    },
    {
     "data": {
      "text/plain": [
       "\n",
       "Call:\n",
       "roc.default(response = mydata$MI, predictor = mydata$Roche_T0)\n",
       "\n",
       "Data: mydata$Roche_T0 in 116 controls (mydata$MI 0) < 11 cases (mydata$MI 1).\n",
       "Area under the curve: 0.7304"
      ]
     },
     "metadata": {},
     "output_type": "display_data"
    },
    {
     "data": {
      "text/html": [
       "<style>\n",
       ".list-inline {list-style: none; margin:0; padding: 0}\n",
       ".list-inline>li {display: inline-block}\n",
       ".list-inline>li:not(:last-child)::after {content: \"\\00b7\"; padding: 0 .5ex}\n",
       "</style>\n",
       "<ol class=list-inline><li>0.542412320118068</li><li>0.730407523510972</li><li>0.918402726903875</li></ol>\n"
      ],
      "text/latex": [
       "\\begin{enumerate*}\n",
       "\\item 0.542412320118068\n",
       "\\item 0.730407523510972\n",
       "\\item 0.918402726903875\n",
       "\\end{enumerate*}\n"
      ],
      "text/markdown": [
       "1. 0.542412320118068\n",
       "2. 0.730407523510972\n",
       "3. 0.918402726903875\n",
       "\n",
       "\n"
      ],
      "text/plain": [
       "95% CI: 0.5424-0.9184 (DeLong)"
      ]
     },
     "metadata": {},
     "output_type": "display_data"
    },
    {
     "data": {
      "text/plain": [
       "\n",
       "Call:\n",
       "roc.default(response = mydata$MI, predictor = mydata$Beckman_T0)\n",
       "\n",
       "Data: mydata$Beckman_T0 in 116 controls (mydata$MI 0) < 11 cases (mydata$MI 1).\n",
       "Area under the curve: 0.7633"
      ]
     },
     "metadata": {},
     "output_type": "display_data"
    },
    {
     "data": {
      "text/html": [
       "<style>\n",
       ".list-inline {list-style: none; margin:0; padding: 0}\n",
       ".list-inline>li {display: inline-block}\n",
       ".list-inline>li:not(:last-child)::after {content: \"\\00b7\"; padding: 0 .5ex}\n",
       "</style>\n",
       "<ol class=list-inline><li>0.62238007523236</li><li>0.763322884012539</li><li>0.904265692792718</li></ol>\n"
      ],
      "text/latex": [
       "\\begin{enumerate*}\n",
       "\\item 0.62238007523236\n",
       "\\item 0.763322884012539\n",
       "\\item 0.904265692792718\n",
       "\\end{enumerate*}\n"
      ],
      "text/markdown": [
       "1. 0.62238007523236\n",
       "2. 0.763322884012539\n",
       "3. 0.904265692792718\n",
       "\n",
       "\n"
      ],
      "text/plain": [
       "95% CI: 0.6224-0.9043 (DeLong)"
      ]
     },
     "metadata": {},
     "output_type": "display_data"
    },
    {
     "data": {
      "text/plain": [
       "\n",
       "Call:\n",
       "roc.default(response = mydata$MI, predictor = mydata$Abbott_T0)\n",
       "\n",
       "Data: mydata$Abbott_T0 in 116 controls (mydata$MI 0) < 11 cases (mydata$MI 1).\n",
       "Area under the curve: 0.7853"
      ]
     },
     "metadata": {},
     "output_type": "display_data"
    },
    {
     "data": {
      "text/html": [
       "<style>\n",
       ".list-inline {list-style: none; margin:0; padding: 0}\n",
       ".list-inline>li {display: inline-block}\n",
       ".list-inline>li:not(:last-child)::after {content: \"\\00b7\"; padding: 0 .5ex}\n",
       "</style>\n",
       "<ol class=list-inline><li>0.660872428765086</li><li>0.785266457680251</li><li>0.909660486595416</li></ol>\n"
      ],
      "text/latex": [
       "\\begin{enumerate*}\n",
       "\\item 0.660872428765086\n",
       "\\item 0.785266457680251\n",
       "\\item 0.909660486595416\n",
       "\\end{enumerate*}\n"
      ],
      "text/markdown": [
       "1. 0.660872428765086\n",
       "2. 0.785266457680251\n",
       "3. 0.909660486595416\n",
       "\n",
       "\n"
      ],
      "text/plain": [
       "95% CI: 0.6609-0.9097 (DeLong)"
      ]
     },
     "metadata": {},
     "output_type": "display_data"
    },
    {
     "data": {
      "text/plain": [
       "\n",
       "Call:\n",
       "roc.default(response = mydata$MI, predictor = mydata$Abbott_T0)\n",
       "\n",
       "Data: mydata$Abbott_T0 in 116 controls (mydata$MI 0) < 11 cases (mydata$MI 1).\n",
       "Area under the curve: 0.7853"
      ]
     },
     "metadata": {},
     "output_type": "display_data"
    },
    {
     "data": {
      "image/png": "[encoded data removed]",
      "text/plain": [
       "plot without title"
      ]
     },
     "metadata": {
      "image/png": {
       "height": 420,
       "width": 420
      }
     },
     "output_type": "display_data"
    }
   ],
   "source": [
    "## 0 hour\n",
    "Roche_T0_ROC=roc(mydata$MI, mydata$Roche_T0)\n",
    "Beckman_T0_ROC=roc(mydata$MI, mydata$Beckman_T0)\n",
    "Abbott_T0_ROC=roc(mydata$MI, mydata$Abbott_T0)\n",
    "Roche_T0_ROC\n",
    "ci.auc(Roche_T0_ROC)\n",
    "Beckman_T0_ROC\n",
    "ci.auc(Beckman_T0_ROC)\n",
    "Abbott_T0_ROC\n",
    "ci.auc(Abbott_T0_ROC)\n",
    "Abbott_T0_ROC\n",
    "plot(Abbott_T0_ROC,lty=1,lwd=3)\n",
    "plot(Beckman_T0_ROC,add=TRUE,col=\"red\")\n",
    "plot(Roche_T0_ROC,add=TRUE,col=\"blue\")\n",
    "legend(\"bottomright\",legend=c(\"Abbott, AUC=0.785 (0.661-0.910)\",\n",
    "                              \"Beckman, AUC=0.763 (0.622-0.904)\",\n",
    "                              \"Roche, AUC=0.730 (0.542-0.918)\"),\n",
    "       col=c(\"black\",\"red\",\"blue\"),lwd=2)"
   ]
  },
  {
   "cell_type": "code",
   "execution_count": null,
   "metadata": {},
   "outputs": [],
   "source": []
  }
 ],
 "metadata": {
  "kernelspec": {
   "display_name": "R",
   "language": "R",
   "name": "ir"
  },
  "language_info": {
   "codemirror_mode": "r",
   "file_extension": ".r",
   "mimetype": "text/x-r-source",
   "name": "R",
   "pygments_lexer": "r",
   "version": "4.2.0"
  }
 },
 "nbformat": 4,
 "nbformat_minor": 4
}
